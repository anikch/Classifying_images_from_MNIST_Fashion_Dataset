{
  "nbformat": 4,
  "nbformat_minor": 0,
  "metadata": {
    "accelerator": "GPU",
    "colab": {
      "name": "Classifying images from MNIST Fashion Dataset.ipynb",
      "provenance": [],
      "collapsed_sections": [
        "koXYthpwwD3a",
        "UXhoXcRgwO8i",
        "MxNBZZwqwV9Z",
        "2bomvkk5wbBj"
      ],
      "machine_shape": "hm",
      "authorship_tag": "ABX9TyOHRBrR+qljBkBCaytHFoGo",
      "include_colab_link": true
    },
    "kernelspec": {
      "display_name": "Python 3",
      "name": "python3"
    },
    "language_info": {
      "name": "python"
    }
  },
  "cells": [
    {
      "cell_type": "markdown",
      "metadata": {
        "id": "view-in-github",
        "colab_type": "text"
      },
      "source": [
        "<a href=\"https://colab.research.google.com/github/anikch/Classifying_images_from_MNIST_Fashion_Dataset/blob/main/Classifying_images_from_MNIST_Fashion_Dataset.ipynb\" target=\"_parent\"><img src=\"https://colab.research.google.com/assets/colab-badge.svg\" alt=\"Open In Colab\"/></a>"
      ]
    },
    {
      "cell_type": "code",
      "metadata": {
        "id": "w5xqGI4Tnc-E"
      },
      "source": [
        "# Importing required libraries\n",
        "import numpy as np\n",
        "import pandas as pd\n",
        "import tensorflow as tf\n",
        "from tensorflow.keras.datasets import fashion_mnist\n",
        "import matplotlib.pyplot as plt\n",
        "import seaborn as sns\n",
        "import warnings\n",
        "warnings.filterwarnings('ignore')"
      ],
      "execution_count": null,
      "outputs": []
    },
    {
      "cell_type": "code",
      "metadata": {
        "colab": {
          "base_uri": "https://localhost:8080/"
        },
        "id": "hfw2FdfBnpYc",
        "outputId": "4f622450-2061-442b-883a-7e857fd00f43"
      },
      "source": [
        "#Check tensorflow version\n",
        "print(tf.__version__)"
      ],
      "execution_count": null,
      "outputs": [
        {
          "output_type": "stream",
          "name": "stdout",
          "text": [
            "2.6.0\n"
          ]
        }
      ]
    },
    {
      "cell_type": "markdown",
      "metadata": {
        "id": "E1aLtPtJvNcS"
      },
      "source": [
        "## Loading and checking data"
      ]
    },
    {
      "cell_type": "code",
      "metadata": {
        "colab": {
          "base_uri": "https://localhost:8080/"
        },
        "id": "_UtMJt5To2ay",
        "outputId": "f11faf94-6f7c-42ce-9f4d-8fe6b7a389c5"
      },
      "source": [
        "# Loading fashion_mnist dataset\n",
        "(X_train, y_train), (X_test, y_test)= fashion_mnist.load_data()\n",
        "\n",
        "# Checking shape of train test dataset\n",
        "X_train.shape, X_test.shape, y_test.shape, y_test.shape"
      ],
      "execution_count": null,
      "outputs": [
        {
          "output_type": "execute_result",
          "data": {
            "text/plain": [
              "((60000, 28, 28), (10000, 28, 28), (10000,), (10000,))"
            ]
          },
          "metadata": {},
          "execution_count": 11
        }
      ]
    },
    {
      "cell_type": "code",
      "metadata": {
        "colab": {
          "base_uri": "https://localhost:8080/"
        },
        "id": "Al2d82h1riq-",
        "outputId": "54f9a8fc-be8e-4cc2-adb1-6ccb7162fd1e"
      },
      "source": [
        "# Checking arbitary image\n",
        "plt.imshow(X_train[10,:,:])"
      ],
      "execution_count": null,
      "outputs": [
        {
          "output_type": "execute_result",
          "data": {
            "text/plain": [
              "<matplotlib.image.AxesImage at 0x7f7e3c5def10>"
            ]
          },
          "metadata": {},
          "execution_count": 12
        },
        {
          "output_type": "display_data",
          "data": {
            "image/png": "[encoded data removed]",
            "text/plain": [
              "<Figure size 432x288 with 1 Axes>"
            ]
          },
          "metadata": {
            "needs_background": "light"
          }
        }
      ]
    },
    {
      "cell_type": "markdown",
      "metadata": {
        "id": "MpY1tm74zR8Z"
      },
      "source": [
        ""
      ]
    },
    {
      "cell_type": "markdown",
      "metadata": {
        "id": "AIyUesk2vXtR"
      },
      "source": [
        "## Data pre-processing"
      ]
    },
    {
      "cell_type": "code",
      "metadata": {
        "id": "b3K-v7B-qt7B"
      },
      "source": [
        "# Converting data into float32 to use 32-bit precision\n",
        "X_train = X_train.astype('float32')\n",
        "X_test = X_test.astype('float32') "
      ],
      "execution_count": null,
      "outputs": []
    },
    {
      "cell_type": "code",
      "metadata": {
        "id": "a7UhXf3Orb_z"
      },
      "source": [
        "# Normalizing data (actual value - min / max - min)\n",
        "# Pixel value ranges between 0-255\n",
        "X_train_norm=  X_train/ 255.0\n",
        "X_test_norm= X_test/255.0"
      ],
      "execution_count": null,
      "outputs": []
    },
    {
      "cell_type": "code",
      "metadata": {
        "colab": {
          "base_uri": "https://localhost:8080/"
        },
        "id": "70Dfh4hvusbd",
        "outputId": "9b6bdf1b-a277-4645-d8e1-e8e71f49bbda"
      },
      "source": [
        "# Reshaping data\n",
        "X_train_norm= X_train_norm.reshape(X_train_norm.shape[0], -1)\n",
        "X_test_norm= X_test_norm.reshape(X_test_norm.shape[0], -1)\n",
        "\n",
        "# Checking final shape\n",
        "X_train_norm.shape, X_test_norm.shape"
      ],
      "execution_count": null,
      "outputs": [
        {
          "output_type": "execute_result",
          "data": {
            "text/plain": [
              "((60000, 784), (10000, 784))"
            ]
          },
          "metadata": {},
          "execution_count": 15
        }
      ]
    },
    {
      "cell_type": "code",
      "metadata": {
        "colab": {
          "base_uri": "https://localhost:8080/"
        },
        "id": "_qhUY4PUv2Uy",
        "outputId": "8a900fdb-1b9f-4da4-cdb4-665a0143ed2f"
      },
      "source": [
        "# Checking unique categories in y_test and y_train\n",
        "np.unique(y_train), np.unique(y_test)"
      ],
      "execution_count": null,
      "outputs": [
        {
          "output_type": "execute_result",
          "data": {
            "text/plain": [
              "(array([0, 1, 2, 3, 4, 5, 6, 7, 8, 9], dtype=uint8),\n",
              " array([0, 1, 2, 3, 4, 5, 6, 7, 8, 9], dtype=uint8))"
            ]
          },
          "metadata": {},
          "execution_count": 16
        }
      ]
    },
    {
      "cell_type": "code",
      "metadata": {
        "id": "2XPqNgDcvhVB"
      },
      "source": [
        "# Performing One-hot encoding of 10 labels\n",
        "y_train_cat= tf.keras.utils.to_categorical(y_train, 10) \n",
        "y_test_cat= tf.keras.utils.to_categorical(y_test, 10)"
      ],
      "execution_count": null,
      "outputs": []
    },
    {
      "cell_type": "markdown",
      "metadata": {
        "id": "FHQIC2RVBQdU"
      },
      "source": [
        "## Model Building and Evaluation"
      ]
    },
    {
      "cell_type": "markdown",
      "metadata": {
        "id": "0nFO0Y-6vyU2"
      },
      "source": [
        "### 1. Building Perceptron with softmax activation and SGD optimizer"
      ]
    },
    {
      "cell_type": "code",
      "metadata": {
        "colab": {
          "base_uri": "https://localhost:8080/"
        },
        "id": "-uHgApxTwb0p",
        "outputId": "5ee20dfe-4af8-42b6-b459-fbc7a3359f9d"
      },
      "source": [
        "# Building Perceptron with softmax activation and SGD optimizer\n",
        "tf.random.set_seed(42)\n",
        "model= tf.keras.Sequential(name= 'perceptron_1')\n",
        "model.add(tf.keras.layers.Dense(10, input_shape= (X_train_norm.shape[1],), activation= 'softmax', name= 'dense_layer1'))\n",
        "\n",
        "# Compiling the model\n",
        "model.compile(optimizer= 'sgd', loss= 'categorical_crossentropy', metrics= ['accuracy'])\n",
        "\n",
        "# Training the model\n",
        "history= model.fit(X_train_norm, y_train_cat, batch_size= 128, epochs= 100, validation_split= .2)"
      ],
      "execution_count": null,
      "outputs": [
        {
          "output_type": "stream",
          "name": "stdout",
          "text": [
            "Epoch 1/100\n",
            "375/375 [==============================] - 3s 3ms/step - loss: 1.2154 - accuracy: 0.6335 - val_loss: 0.8956 - val_accuracy: 0.7179\n",
            "Epoch 2/100\n",
            "375/375 [==============================] - 1s 2ms/step - loss: 0.8232 - accuracy: 0.7369 - val_loss: 0.7580 - val_accuracy: 0.7579\n",
            "Epoch 3/100\n",
            "375/375 [==============================] - 1s 2ms/step - loss: 0.7292 - accuracy: 0.7685 - val_loss: 0.6932 - val_accuracy: 0.7783\n",
            "Epoch 4/100\n",
            "375/375 [==============================] - 1s 2ms/step - loss: 0.6786 - accuracy: 0.7836 - val_loss: 0.6544 - val_accuracy: 0.7896\n",
            "Epoch 5/100\n",
            "375/375 [==============================] - 1s 2ms/step - loss: 0.6447 - accuracy: 0.7947 - val_loss: 0.6270 - val_accuracy: 0.7962\n",
            "Epoch 6/100\n",
            "375/375 [==============================] - 1s 2ms/step - loss: 0.6203 - accuracy: 0.8009 - val_loss: 0.6067 - val_accuracy: 0.8019\n",
            "Epoch 7/100\n",
            "375/375 [==============================] - 1s 2ms/step - loss: 0.6012 - accuracy: 0.8070 - val_loss: 0.5907 - val_accuracy: 0.8065\n",
            "Epoch 8/100\n",
            "375/375 [==============================] - 1s 2ms/step - loss: 0.5858 - accuracy: 0.8106 - val_loss: 0.5794 - val_accuracy: 0.8097\n",
            "Epoch 9/100\n",
            "375/375 [==============================] - 1s 2ms/step - loss: 0.5732 - accuracy: 0.8147 - val_loss: 0.5669 - val_accuracy: 0.8143\n",
            "Epoch 10/100\n",
            "375/375 [==============================] - 1s 2ms/step - loss: 0.5625 - accuracy: 0.8169 - val_loss: 0.5574 - val_accuracy: 0.8159\n",
            "Epoch 11/100\n",
            "375/375 [==============================] - 1s 2ms/step - loss: 0.5531 - accuracy: 0.8197 - val_loss: 0.5493 - val_accuracy: 0.8174\n",
            "Epoch 12/100\n",
            "375/375 [==============================] - 1s 2ms/step - loss: 0.5452 - accuracy: 0.8222 - val_loss: 0.5435 - val_accuracy: 0.8177\n",
            "Epoch 13/100\n",
            "375/375 [==============================] - 1s 2ms/step - loss: 0.5380 - accuracy: 0.8238 - val_loss: 0.5363 - val_accuracy: 0.8207\n",
            "Epoch 14/100\n",
            "375/375 [==============================] - 1s 2ms/step - loss: 0.5318 - accuracy: 0.8257 - val_loss: 0.5307 - val_accuracy: 0.8218\n",
            "Epoch 15/100\n",
            "375/375 [==============================] - 1s 2ms/step - loss: 0.5261 - accuracy: 0.8270 - val_loss: 0.5258 - val_accuracy: 0.8229\n",
            "Epoch 16/100\n",
            "375/375 [==============================] - 1s 2ms/step - loss: 0.5208 - accuracy: 0.8286 - val_loss: 0.5214 - val_accuracy: 0.8230\n",
            "Epoch 17/100\n",
            "375/375 [==============================] - 1s 2ms/step - loss: 0.5162 - accuracy: 0.8299 - val_loss: 0.5166 - val_accuracy: 0.8249\n",
            "Epoch 18/100\n",
            "375/375 [==============================] - 1s 2ms/step - loss: 0.5119 - accuracy: 0.8305 - val_loss: 0.5128 - val_accuracy: 0.8263\n",
            "Epoch 19/100\n",
            "375/375 [==============================] - 1s 2ms/step - loss: 0.5079 - accuracy: 0.8321 - val_loss: 0.5092 - val_accuracy: 0.8263\n",
            "Epoch 20/100\n",
            "375/375 [==============================] - 1s 2ms/step - loss: 0.5041 - accuracy: 0.8328 - val_loss: 0.5072 - val_accuracy: 0.8278\n",
            "Epoch 21/100\n",
            "375/375 [==============================] - 1s 2ms/step - loss: 0.5008 - accuracy: 0.8335 - val_loss: 0.5031 - val_accuracy: 0.8285\n",
            "Epoch 22/100\n",
            "375/375 [==============================] - 1s 2ms/step - loss: 0.4975 - accuracy: 0.8348 - val_loss: 0.5005 - val_accuracy: 0.8282\n",
            "Epoch 23/100\n",
            "375/375 [==============================] - 1s 2ms/step - loss: 0.4945 - accuracy: 0.8353 - val_loss: 0.4977 - val_accuracy: 0.8296\n",
            "Epoch 24/100\n",
            "375/375 [==============================] - 1s 2ms/step - loss: 0.4916 - accuracy: 0.8361 - val_loss: 0.4980 - val_accuracy: 0.8292\n",
            "Epoch 25/100\n",
            "375/375 [==============================] - 1s 2ms/step - loss: 0.4888 - accuracy: 0.8369 - val_loss: 0.4926 - val_accuracy: 0.8322\n",
            "Epoch 26/100\n",
            "375/375 [==============================] - 1s 2ms/step - loss: 0.4864 - accuracy: 0.8377 - val_loss: 0.4912 - val_accuracy: 0.8328\n",
            "Epoch 27/100\n",
            "375/375 [==============================] - 1s 2ms/step - loss: 0.4840 - accuracy: 0.8384 - val_loss: 0.4888 - val_accuracy: 0.8321\n",
            "Epoch 28/100\n",
            "375/375 [==============================] - 1s 2ms/step - loss: 0.4818 - accuracy: 0.8395 - val_loss: 0.4864 - val_accuracy: 0.8327\n",
            "Epoch 29/100\n",
            "375/375 [==============================] - 1s 2ms/step - loss: 0.4796 - accuracy: 0.8393 - val_loss: 0.4841 - val_accuracy: 0.8332\n",
            "Epoch 30/100\n",
            "375/375 [==============================] - 1s 2ms/step - loss: 0.4776 - accuracy: 0.8400 - val_loss: 0.4828 - val_accuracy: 0.8334\n",
            "Epoch 31/100\n",
            "375/375 [==============================] - 1s 2ms/step - loss: 0.4757 - accuracy: 0.8406 - val_loss: 0.4814 - val_accuracy: 0.8351\n",
            "Epoch 32/100\n",
            "375/375 [==============================] - 1s 2ms/step - loss: 0.4737 - accuracy: 0.8409 - val_loss: 0.4799 - val_accuracy: 0.8356\n",
            "Epoch 33/100\n",
            "375/375 [==============================] - 1s 2ms/step - loss: 0.4721 - accuracy: 0.8423 - val_loss: 0.4779 - val_accuracy: 0.8370\n",
            "Epoch 34/100\n",
            "375/375 [==============================] - 1s 2ms/step - loss: 0.4702 - accuracy: 0.8418 - val_loss: 0.4770 - val_accuracy: 0.8374\n",
            "Epoch 35/100\n",
            "375/375 [==============================] - 1s 2ms/step - loss: 0.4686 - accuracy: 0.8428 - val_loss: 0.4753 - val_accuracy: 0.8370\n",
            "Epoch 36/100\n",
            "375/375 [==============================] - 1s 2ms/step - loss: 0.4671 - accuracy: 0.8431 - val_loss: 0.4737 - val_accuracy: 0.8377\n",
            "Epoch 37/100\n",
            "375/375 [==============================] - 1s 2ms/step - loss: 0.4656 - accuracy: 0.8439 - val_loss: 0.4729 - val_accuracy: 0.8374\n",
            "Epoch 38/100\n",
            "375/375 [==============================] - 1s 2ms/step - loss: 0.4640 - accuracy: 0.8443 - val_loss: 0.4714 - val_accuracy: 0.8377\n",
            "Epoch 39/100\n",
            "375/375 [==============================] - 1s 2ms/step - loss: 0.4627 - accuracy: 0.8443 - val_loss: 0.4698 - val_accuracy: 0.8388\n",
            "Epoch 40/100\n",
            "375/375 [==============================] - 1s 2ms/step - loss: 0.4614 - accuracy: 0.8456 - val_loss: 0.4684 - val_accuracy: 0.8386\n",
            "Epoch 41/100\n",
            "375/375 [==============================] - 1s 2ms/step - loss: 0.4600 - accuracy: 0.8453 - val_loss: 0.4682 - val_accuracy: 0.8394\n",
            "Epoch 42/100\n",
            "375/375 [==============================] - 1s 2ms/step - loss: 0.4589 - accuracy: 0.8459 - val_loss: 0.4667 - val_accuracy: 0.8397\n",
            "Epoch 43/100\n",
            "375/375 [==============================] - 1s 2ms/step - loss: 0.4576 - accuracy: 0.8457 - val_loss: 0.4652 - val_accuracy: 0.8413\n",
            "Epoch 44/100\n",
            "375/375 [==============================] - 1s 2ms/step - loss: 0.4563 - accuracy: 0.8464 - val_loss: 0.4639 - val_accuracy: 0.8410\n",
            "Epoch 45/100\n",
            "375/375 [==============================] - 1s 2ms/step - loss: 0.4552 - accuracy: 0.8462 - val_loss: 0.4636 - val_accuracy: 0.8409\n",
            "Epoch 46/100\n",
            "375/375 [==============================] - 1s 2ms/step - loss: 0.4542 - accuracy: 0.8470 - val_loss: 0.4625 - val_accuracy: 0.8408\n",
            "Epoch 47/100\n",
            "375/375 [==============================] - 1s 2ms/step - loss: 0.4532 - accuracy: 0.8474 - val_loss: 0.4615 - val_accuracy: 0.8430\n",
            "Epoch 48/100\n",
            "375/375 [==============================] - 1s 2ms/step - loss: 0.4521 - accuracy: 0.8474 - val_loss: 0.4602 - val_accuracy: 0.8432\n",
            "Epoch 49/100\n",
            "375/375 [==============================] - 1s 3ms/step - loss: 0.4511 - accuracy: 0.8476 - val_loss: 0.4605 - val_accuracy: 0.8424\n",
            "Epoch 50/100\n",
            "375/375 [==============================] - 1s 2ms/step - loss: 0.4501 - accuracy: 0.8485 - val_loss: 0.4584 - val_accuracy: 0.8439\n",
            "Epoch 51/100\n",
            "375/375 [==============================] - 1s 2ms/step - loss: 0.4491 - accuracy: 0.8489 - val_loss: 0.4576 - val_accuracy: 0.8442\n",
            "Epoch 52/100\n",
            "375/375 [==============================] - 1s 2ms/step - loss: 0.4482 - accuracy: 0.8489 - val_loss: 0.4582 - val_accuracy: 0.8433\n",
            "Epoch 53/100\n",
            "375/375 [==============================] - 1s 2ms/step - loss: 0.4473 - accuracy: 0.8483 - val_loss: 0.4562 - val_accuracy: 0.8444\n",
            "Epoch 54/100\n",
            "375/375 [==============================] - 1s 2ms/step - loss: 0.4464 - accuracy: 0.8500 - val_loss: 0.4571 - val_accuracy: 0.8440\n",
            "Epoch 55/100\n",
            "375/375 [==============================] - 1s 2ms/step - loss: 0.4456 - accuracy: 0.8492 - val_loss: 0.4547 - val_accuracy: 0.8438\n",
            "Epoch 56/100\n",
            "375/375 [==============================] - 1s 2ms/step - loss: 0.4448 - accuracy: 0.8501 - val_loss: 0.4542 - val_accuracy: 0.8449\n",
            "Epoch 57/100\n",
            "375/375 [==============================] - 1s 2ms/step - loss: 0.4438 - accuracy: 0.8506 - val_loss: 0.4533 - val_accuracy: 0.8443\n",
            "Epoch 58/100\n",
            "375/375 [==============================] - 1s 2ms/step - loss: 0.4431 - accuracy: 0.8509 - val_loss: 0.4535 - val_accuracy: 0.8432\n",
            "Epoch 59/100\n",
            "375/375 [==============================] - 1s 2ms/step - loss: 0.4425 - accuracy: 0.8507 - val_loss: 0.4520 - val_accuracy: 0.8448\n",
            "Epoch 60/100\n",
            "375/375 [==============================] - 1s 2ms/step - loss: 0.4416 - accuracy: 0.8511 - val_loss: 0.4521 - val_accuracy: 0.8447\n",
            "Epoch 61/100\n",
            "375/375 [==============================] - 1s 2ms/step - loss: 0.4409 - accuracy: 0.8508 - val_loss: 0.4510 - val_accuracy: 0.8459\n",
            "Epoch 62/100\n",
            "375/375 [==============================] - 1s 2ms/step - loss: 0.4402 - accuracy: 0.8515 - val_loss: 0.4519 - val_accuracy: 0.8439\n",
            "Epoch 63/100\n",
            "375/375 [==============================] - 1s 2ms/step - loss: 0.4394 - accuracy: 0.8516 - val_loss: 0.4499 - val_accuracy: 0.8448\n",
            "Epoch 64/100\n",
            "375/375 [==============================] - 1s 2ms/step - loss: 0.4387 - accuracy: 0.8516 - val_loss: 0.4500 - val_accuracy: 0.8447\n",
            "Epoch 65/100\n",
            "375/375 [==============================] - 1s 2ms/step - loss: 0.4380 - accuracy: 0.8515 - val_loss: 0.4485 - val_accuracy: 0.8470\n",
            "Epoch 66/100\n",
            "375/375 [==============================] - 1s 2ms/step - loss: 0.4374 - accuracy: 0.8520 - val_loss: 0.4485 - val_accuracy: 0.8469\n",
            "Epoch 67/100\n",
            "375/375 [==============================] - 1s 2ms/step - loss: 0.4369 - accuracy: 0.8523 - val_loss: 0.4475 - val_accuracy: 0.8457\n",
            "Epoch 68/100\n",
            "375/375 [==============================] - 1s 2ms/step - loss: 0.4363 - accuracy: 0.8534 - val_loss: 0.4475 - val_accuracy: 0.8452\n",
            "Epoch 69/100\n",
            "375/375 [==============================] - 1s 2ms/step - loss: 0.4355 - accuracy: 0.8526 - val_loss: 0.4473 - val_accuracy: 0.8461\n",
            "Epoch 70/100\n",
            "375/375 [==============================] - 1s 2ms/step - loss: 0.4349 - accuracy: 0.8531 - val_loss: 0.4460 - val_accuracy: 0.8462\n",
            "Epoch 71/100\n",
            "375/375 [==============================] - 1s 2ms/step - loss: 0.4343 - accuracy: 0.8533 - val_loss: 0.4460 - val_accuracy: 0.8470\n",
            "Epoch 72/100\n",
            "375/375 [==============================] - 1s 3ms/step - loss: 0.4338 - accuracy: 0.8528 - val_loss: 0.4452 - val_accuracy: 0.8460\n",
            "Epoch 73/100\n",
            "375/375 [==============================] - 1s 2ms/step - loss: 0.4331 - accuracy: 0.8531 - val_loss: 0.4445 - val_accuracy: 0.8476\n",
            "Epoch 74/100\n",
            "375/375 [==============================] - 1s 2ms/step - loss: 0.4326 - accuracy: 0.8531 - val_loss: 0.4455 - val_accuracy: 0.8483\n",
            "Epoch 75/100\n",
            "375/375 [==============================] - 1s 2ms/step - loss: 0.4321 - accuracy: 0.8535 - val_loss: 0.4441 - val_accuracy: 0.8475\n",
            "Epoch 76/100\n",
            "375/375 [==============================] - 1s 2ms/step - loss: 0.4316 - accuracy: 0.8540 - val_loss: 0.4445 - val_accuracy: 0.8482\n",
            "Epoch 77/100\n",
            "375/375 [==============================] - 1s 2ms/step - loss: 0.4310 - accuracy: 0.8539 - val_loss: 0.4428 - val_accuracy: 0.8478\n",
            "Epoch 78/100\n",
            "375/375 [==============================] - 1s 2ms/step - loss: 0.4304 - accuracy: 0.8544 - val_loss: 0.4439 - val_accuracy: 0.8477\n",
            "Epoch 79/100\n",
            "375/375 [==============================] - 1s 2ms/step - loss: 0.4299 - accuracy: 0.8545 - val_loss: 0.4421 - val_accuracy: 0.8484\n",
            "Epoch 80/100\n",
            "375/375 [==============================] - 1s 2ms/step - loss: 0.4293 - accuracy: 0.8545 - val_loss: 0.4418 - val_accuracy: 0.8485\n",
            "Epoch 81/100\n",
            "375/375 [==============================] - 1s 2ms/step - loss: 0.4290 - accuracy: 0.8548 - val_loss: 0.4414 - val_accuracy: 0.8483\n",
            "Epoch 82/100\n",
            "375/375 [==============================] - 1s 2ms/step - loss: 0.4285 - accuracy: 0.8544 - val_loss: 0.4410 - val_accuracy: 0.8493\n",
            "Epoch 83/100\n",
            "375/375 [==============================] - 1s 2ms/step - loss: 0.4281 - accuracy: 0.8551 - val_loss: 0.4403 - val_accuracy: 0.8491\n",
            "Epoch 84/100\n",
            "375/375 [==============================] - 1s 2ms/step - loss: 0.4276 - accuracy: 0.8552 - val_loss: 0.4399 - val_accuracy: 0.8484\n",
            "Epoch 85/100\n",
            "375/375 [==============================] - 1s 2ms/step - loss: 0.4271 - accuracy: 0.8554 - val_loss: 0.4403 - val_accuracy: 0.8491\n",
            "Epoch 86/100\n",
            "375/375 [==============================] - 1s 2ms/step - loss: 0.4268 - accuracy: 0.8553 - val_loss: 0.4396 - val_accuracy: 0.8492\n",
            "Epoch 87/100\n",
            "375/375 [==============================] - 1s 2ms/step - loss: 0.4262 - accuracy: 0.8559 - val_loss: 0.4393 - val_accuracy: 0.8493\n",
            "Epoch 88/100\n",
            "375/375 [==============================] - 1s 2ms/step - loss: 0.4258 - accuracy: 0.8553 - val_loss: 0.4387 - val_accuracy: 0.8492\n",
            "Epoch 89/100\n",
            "375/375 [==============================] - 1s 2ms/step - loss: 0.4252 - accuracy: 0.8554 - val_loss: 0.4390 - val_accuracy: 0.8499\n",
            "Epoch 90/100\n",
            "375/375 [==============================] - 1s 2ms/step - loss: 0.4248 - accuracy: 0.8558 - val_loss: 0.4384 - val_accuracy: 0.8492\n",
            "Epoch 91/100\n",
            "375/375 [==============================] - 1s 2ms/step - loss: 0.4245 - accuracy: 0.8560 - val_loss: 0.4383 - val_accuracy: 0.8500\n",
            "Epoch 92/100\n",
            "375/375 [==============================] - 1s 2ms/step - loss: 0.4240 - accuracy: 0.8561 - val_loss: 0.4375 - val_accuracy: 0.8497\n",
            "Epoch 93/100\n",
            "375/375 [==============================] - 1s 2ms/step - loss: 0.4237 - accuracy: 0.8560 - val_loss: 0.4375 - val_accuracy: 0.8499\n",
            "Epoch 94/100\n",
            "375/375 [==============================] - 1s 2ms/step - loss: 0.4232 - accuracy: 0.8565 - val_loss: 0.4375 - val_accuracy: 0.8509\n",
            "Epoch 95/100\n",
            "375/375 [==============================] - 1s 2ms/step - loss: 0.4229 - accuracy: 0.8563 - val_loss: 0.4372 - val_accuracy: 0.8510\n",
            "Epoch 96/100\n",
            "375/375 [==============================] - 1s 2ms/step - loss: 0.4225 - accuracy: 0.8570 - val_loss: 0.4368 - val_accuracy: 0.8507\n",
            "Epoch 97/100\n",
            "375/375 [==============================] - 1s 2ms/step - loss: 0.4221 - accuracy: 0.8572 - val_loss: 0.4360 - val_accuracy: 0.8507\n",
            "Epoch 98/100\n",
            "375/375 [==============================] - 1s 2ms/step - loss: 0.4217 - accuracy: 0.8569 - val_loss: 0.4358 - val_accuracy: 0.8501\n",
            "Epoch 99/100\n",
            "375/375 [==============================] - 1s 2ms/step - loss: 0.4213 - accuracy: 0.8574 - val_loss: 0.4365 - val_accuracy: 0.8499\n",
            "Epoch 100/100\n",
            "375/375 [==============================] - 1s 2ms/step - loss: 0.4211 - accuracy: 0.8566 - val_loss: 0.4363 - val_accuracy: 0.8509\n"
          ]
        }
      ]
    },
    {
      "cell_type": "code",
      "metadata": {
        "colab": {
          "base_uri": "https://localhost:8080/"
        },
        "id": "ZVLfIFHEHuUv",
        "outputId": "034f75af-3d5c-4d86-ff32-db6e91a9276c"
      },
      "source": [
        "# Checking model summary\n",
        "model.summary()"
      ],
      "execution_count": null,
      "outputs": [
        {
          "output_type": "stream",
          "name": "stdout",
          "text": [
            "Model: \"perceptron_1\"\n",
            "_________________________________________________________________\n",
            "Layer (type)                 Output Shape              Param #   \n",
            "=================================================================\n",
            "dense_layer1 (Dense)         (None, 10)                7850      \n",
            "=================================================================\n",
            "Total params: 7,850\n",
            "Trainable params: 7,850\n",
            "Non-trainable params: 0\n",
            "_________________________________________________________________\n"
          ]
        }
      ]
    },
    {
      "cell_type": "code",
      "metadata": {
        "colab": {
          "base_uri": "https://localhost:8080/"
        },
        "id": "137J3bLHH0PO",
        "outputId": "c136986b-cb20-4a20-e45b-0c1ae8d928c8"
      },
      "source": [
        "# Evaluating the model on test dataset\n",
        "model.evaluate(X_test_norm, y_test_cat, batch_size= 128)"
      ],
      "execution_count": null,
      "outputs": [
        {
          "output_type": "stream",
          "name": "stdout",
          "text": [
            "79/79 [==============================] - 0s 2ms/step - loss: 0.4633 - accuracy: 0.8375\n"
          ]
        },
        {
          "output_type": "execute_result",
          "data": {
            "text/plain": [
              "[0.4632628560066223, 0.8374999761581421]"
            ]
          },
          "metadata": {},
          "execution_count": 12
        }
      ]
    },
    {
      "cell_type": "code",
      "metadata": {
        "colab": {
          "base_uri": "https://localhost:8080/",
          "height": 350
        },
        "id": "1kqThqiPIce_",
        "outputId": "a3c751be-d9ce-4097-8aff-95b0148e8075"
      },
      "source": [
        "# Plotting accuracy for different epochs\n",
        "plt.figure(figsize= [8,5])\n",
        "plt.plot(history.history['accuracy'])\n",
        "plt.plot(history.history['val_accuracy'])\n",
        "plt.title('Plot for model accuracy')\n",
        "plt.ylabel('Accuracy')\n",
        "plt.xlabel('Epoch')\n",
        "plt.legend(['Train', 'Validation'], loc='lower right')\n",
        "plt.show()"
      ],
      "execution_count": null,
      "outputs": [
        {
          "output_type": "display_data",
          "data": {
            "image/png": "[encoded data removed]",
            "text/plain": [
              "<Figure size 576x360 with 1 Axes>"
            ]
          },
          "metadata": {
            "needs_background": "light"
          }
        }
      ]
    },
    {
      "cell_type": "code",
      "metadata": {
        "colab": {
          "base_uri": "https://localhost:8080/",
          "height": 350
        },
        "id": "RjK6RoDHJr7x",
        "outputId": "11401bbe-87b7-47de-a1e8-bdc1085ab42c"
      },
      "source": [
        "# Plotting loss for different epochs\n",
        "plt.figure(figsize= [8,5])\n",
        "plt.plot(history.history['loss'])\n",
        "plt.plot(history.history['val_loss'])\n",
        "plt.title('Plot for model loss')\n",
        "plt.ylabel('Loss')\n",
        "plt.xlabel('Epoch')\n",
        "plt.legend(['Train', 'Validation'], loc='lower right')\n",
        "plt.show()"
      ],
      "execution_count": null,
      "outputs": [
        {
          "output_type": "display_data",
          "data": {
            "image/png": "[encoded data removed]",
            "text/plain": [
              "<Figure size 576x360 with 1 Axes>"
            ]
          },
          "metadata": {
            "needs_background": "light"
          }
        }
      ]
    },
    {
      "cell_type": "markdown",
      "metadata": {
        "id": "ZkPh_7cVH34G"
      },
      "source": [
        "Using perceptron we have got testing accuracy of .84 and training accuracy of .86. Now, let's check with a Multilayer Perceptron with one hidden layer."
      ]
    },
    {
      "cell_type": "markdown",
      "metadata": {
        "id": "BxoCPhB8v5_z"
      },
      "source": [
        "### 2. Building model with one hidden layer of 128 neurons"
      ]
    },
    {
      "cell_type": "code",
      "metadata": {
        "colab": {
          "base_uri": "https://localhost:8080/"
        },
        "id": "UQK8UGKvGUz7",
        "outputId": "758aeff7-886e-4b12-e2e5-1ccaf83a426f"
      },
      "source": [
        "# Building model with one hidden layer of 128 neurons\n",
        "tf.random.set_seed(42)\n",
        "model1= tf.keras.Sequential(name= 'mlp_1')\n",
        "model1.add(tf.keras.layers.Dense(128, input_shape= (X_train_norm.shape[1],), activation= 'relu', name= 'dense_layer1'))\n",
        "model1.add(tf.keras.layers.Dense(10, activation= 'softmax', name= 'dense_layer2'))\n",
        "\n",
        "# Compiling the model\n",
        "model1.compile(optimizer= 'sgd', loss= 'categorical_crossentropy', metrics= ['accuracy'])\n",
        "\n",
        "# Training the model\n",
        "history1= model1.fit(X_train_norm, y_train_cat, batch_size= 128, epochs= 100, validation_split= .2)"
      ],
      "execution_count": null,
      "outputs": [
        {
          "output_type": "stream",
          "name": "stdout",
          "text": [
            "Epoch 1/100\n",
            "375/375 [==============================] - 1s 3ms/step - loss: 1.1473 - accuracy: 0.6556 - val_loss: 0.8069 - val_accuracy: 0.7442\n",
            "Epoch 2/100\n",
            "375/375 [==============================] - 1s 3ms/step - loss: 0.7310 - accuracy: 0.7668 - val_loss: 0.6702 - val_accuracy: 0.7828\n",
            "Epoch 3/100\n",
            "375/375 [==============================] - 1s 3ms/step - loss: 0.6366 - accuracy: 0.7946 - val_loss: 0.6068 - val_accuracy: 0.7999\n",
            "Epoch 4/100\n",
            "375/375 [==============================] - 1s 3ms/step - loss: 0.5870 - accuracy: 0.8082 - val_loss: 0.5696 - val_accuracy: 0.8120\n",
            "Epoch 5/100\n",
            "375/375 [==============================] - 1s 3ms/step - loss: 0.5546 - accuracy: 0.8171 - val_loss: 0.5469 - val_accuracy: 0.8173\n",
            "Epoch 6/100\n",
            "375/375 [==============================] - 1s 3ms/step - loss: 0.5317 - accuracy: 0.8229 - val_loss: 0.5241 - val_accuracy: 0.8242\n",
            "Epoch 7/100\n",
            "375/375 [==============================] - 1s 3ms/step - loss: 0.5137 - accuracy: 0.8282 - val_loss: 0.5107 - val_accuracy: 0.8262\n",
            "Epoch 8/100\n",
            "375/375 [==============================] - 1s 3ms/step - loss: 0.4996 - accuracy: 0.8324 - val_loss: 0.5005 - val_accuracy: 0.8286\n",
            "Epoch 9/100\n",
            "375/375 [==============================] - 1s 3ms/step - loss: 0.4878 - accuracy: 0.8350 - val_loss: 0.4885 - val_accuracy: 0.8332\n",
            "Epoch 10/100\n",
            "375/375 [==============================] - 1s 3ms/step - loss: 0.4782 - accuracy: 0.8384 - val_loss: 0.4821 - val_accuracy: 0.8332\n",
            "Epoch 11/100\n",
            "375/375 [==============================] - 1s 3ms/step - loss: 0.4695 - accuracy: 0.8404 - val_loss: 0.4725 - val_accuracy: 0.8368\n",
            "Epoch 12/100\n",
            "375/375 [==============================] - 1s 3ms/step - loss: 0.4622 - accuracy: 0.8417 - val_loss: 0.4729 - val_accuracy: 0.8342\n",
            "Epoch 13/100\n",
            "375/375 [==============================] - 1s 3ms/step - loss: 0.4554 - accuracy: 0.8447 - val_loss: 0.4635 - val_accuracy: 0.8415\n",
            "Epoch 14/100\n",
            "375/375 [==============================] - 1s 3ms/step - loss: 0.4497 - accuracy: 0.8468 - val_loss: 0.4556 - val_accuracy: 0.8432\n",
            "Epoch 15/100\n",
            "375/375 [==============================] - 1s 3ms/step - loss: 0.4439 - accuracy: 0.8478 - val_loss: 0.4514 - val_accuracy: 0.8440\n",
            "Epoch 16/100\n",
            "375/375 [==============================] - 1s 3ms/step - loss: 0.4389 - accuracy: 0.8505 - val_loss: 0.4467 - val_accuracy: 0.8442\n",
            "Epoch 17/100\n",
            "375/375 [==============================] - 1s 3ms/step - loss: 0.4345 - accuracy: 0.8516 - val_loss: 0.4425 - val_accuracy: 0.8472\n",
            "Epoch 18/100\n",
            "375/375 [==============================] - 1s 3ms/step - loss: 0.4303 - accuracy: 0.8527 - val_loss: 0.4388 - val_accuracy: 0.8482\n",
            "Epoch 19/100\n",
            "375/375 [==============================] - 1s 3ms/step - loss: 0.4259 - accuracy: 0.8533 - val_loss: 0.4364 - val_accuracy: 0.8486\n",
            "Epoch 20/100\n",
            "375/375 [==============================] - 1s 3ms/step - loss: 0.4220 - accuracy: 0.8553 - val_loss: 0.4361 - val_accuracy: 0.8482\n",
            "Epoch 21/100\n",
            "375/375 [==============================] - 1s 3ms/step - loss: 0.4187 - accuracy: 0.8571 - val_loss: 0.4292 - val_accuracy: 0.8527\n",
            "Epoch 22/100\n",
            "375/375 [==============================] - 1s 3ms/step - loss: 0.4151 - accuracy: 0.8581 - val_loss: 0.4271 - val_accuracy: 0.8510\n",
            "Epoch 23/100\n",
            "375/375 [==============================] - 1s 3ms/step - loss: 0.4121 - accuracy: 0.8581 - val_loss: 0.4274 - val_accuracy: 0.8512\n",
            "Epoch 24/100\n",
            "375/375 [==============================] - 1s 2ms/step - loss: 0.4090 - accuracy: 0.8593 - val_loss: 0.4243 - val_accuracy: 0.8547\n",
            "Epoch 25/100\n",
            "375/375 [==============================] - 1s 3ms/step - loss: 0.4053 - accuracy: 0.8615 - val_loss: 0.4184 - val_accuracy: 0.8564\n",
            "Epoch 26/100\n",
            "375/375 [==============================] - 1s 3ms/step - loss: 0.4030 - accuracy: 0.8623 - val_loss: 0.4199 - val_accuracy: 0.8563\n",
            "Epoch 27/100\n",
            "375/375 [==============================] - 1s 2ms/step - loss: 0.4003 - accuracy: 0.8632 - val_loss: 0.4133 - val_accuracy: 0.8581\n",
            "Epoch 28/100\n",
            "375/375 [==============================] - 1s 2ms/step - loss: 0.3978 - accuracy: 0.8637 - val_loss: 0.4122 - val_accuracy: 0.8579\n",
            "Epoch 29/100\n",
            "375/375 [==============================] - 1s 2ms/step - loss: 0.3949 - accuracy: 0.8645 - val_loss: 0.4100 - val_accuracy: 0.8587\n",
            "Epoch 30/100\n",
            "375/375 [==============================] - 1s 2ms/step - loss: 0.3924 - accuracy: 0.8647 - val_loss: 0.4078 - val_accuracy: 0.8580\n",
            "Epoch 31/100\n",
            "375/375 [==============================] - 1s 3ms/step - loss: 0.3905 - accuracy: 0.8661 - val_loss: 0.4071 - val_accuracy: 0.8611\n",
            "Epoch 32/100\n",
            "375/375 [==============================] - 1s 2ms/step - loss: 0.3877 - accuracy: 0.8667 - val_loss: 0.4048 - val_accuracy: 0.8610\n",
            "Epoch 33/100\n",
            "375/375 [==============================] - 1s 2ms/step - loss: 0.3857 - accuracy: 0.8674 - val_loss: 0.4039 - val_accuracy: 0.8619\n",
            "Epoch 34/100\n",
            "375/375 [==============================] - 1s 2ms/step - loss: 0.3834 - accuracy: 0.8682 - val_loss: 0.4037 - val_accuracy: 0.8613\n",
            "Epoch 35/100\n",
            "375/375 [==============================] - 1s 2ms/step - loss: 0.3813 - accuracy: 0.8680 - val_loss: 0.4011 - val_accuracy: 0.8636\n",
            "Epoch 36/100\n",
            "375/375 [==============================] - 1s 3ms/step - loss: 0.3794 - accuracy: 0.8697 - val_loss: 0.4068 - val_accuracy: 0.8577\n",
            "Epoch 37/100\n",
            "375/375 [==============================] - 1s 3ms/step - loss: 0.3775 - accuracy: 0.8703 - val_loss: 0.3965 - val_accuracy: 0.8652\n",
            "Epoch 38/100\n",
            "375/375 [==============================] - 1s 3ms/step - loss: 0.3754 - accuracy: 0.8719 - val_loss: 0.3963 - val_accuracy: 0.8653\n",
            "Epoch 39/100\n",
            "375/375 [==============================] - 1s 3ms/step - loss: 0.3733 - accuracy: 0.8727 - val_loss: 0.3935 - val_accuracy: 0.8652\n",
            "Epoch 40/100\n",
            "375/375 [==============================] - 1s 3ms/step - loss: 0.3722 - accuracy: 0.8721 - val_loss: 0.3922 - val_accuracy: 0.8645\n",
            "Epoch 41/100\n",
            "375/375 [==============================] - 1s 3ms/step - loss: 0.3699 - accuracy: 0.8723 - val_loss: 0.3957 - val_accuracy: 0.8633\n",
            "Epoch 42/100\n",
            "375/375 [==============================] - 1s 3ms/step - loss: 0.3683 - accuracy: 0.8724 - val_loss: 0.3916 - val_accuracy: 0.8649\n",
            "Epoch 43/100\n",
            "375/375 [==============================] - 1s 3ms/step - loss: 0.3666 - accuracy: 0.8738 - val_loss: 0.3925 - val_accuracy: 0.8636\n",
            "Epoch 44/100\n",
            "375/375 [==============================] - 1s 3ms/step - loss: 0.3649 - accuracy: 0.8731 - val_loss: 0.3875 - val_accuracy: 0.8661\n",
            "Epoch 45/100\n",
            "375/375 [==============================] - 1s 3ms/step - loss: 0.3631 - accuracy: 0.8746 - val_loss: 0.3866 - val_accuracy: 0.8668\n",
            "Epoch 46/100\n",
            "375/375 [==============================] - 1s 3ms/step - loss: 0.3619 - accuracy: 0.8749 - val_loss: 0.3866 - val_accuracy: 0.8671\n",
            "Epoch 47/100\n",
            "375/375 [==============================] - 1s 3ms/step - loss: 0.3603 - accuracy: 0.8758 - val_loss: 0.3858 - val_accuracy: 0.8650\n",
            "Epoch 48/100\n",
            "375/375 [==============================] - 1s 3ms/step - loss: 0.3588 - accuracy: 0.8758 - val_loss: 0.3823 - val_accuracy: 0.8670\n",
            "Epoch 49/100\n",
            "375/375 [==============================] - 1s 3ms/step - loss: 0.3576 - accuracy: 0.8769 - val_loss: 0.3817 - val_accuracy: 0.8668\n",
            "Epoch 50/100\n",
            "375/375 [==============================] - 1s 3ms/step - loss: 0.3558 - accuracy: 0.8776 - val_loss: 0.3817 - val_accuracy: 0.8691\n",
            "Epoch 51/100\n",
            "375/375 [==============================] - 1s 3ms/step - loss: 0.3543 - accuracy: 0.8780 - val_loss: 0.3792 - val_accuracy: 0.8695\n",
            "Epoch 52/100\n",
            "375/375 [==============================] - 1s 3ms/step - loss: 0.3527 - accuracy: 0.8778 - val_loss: 0.3792 - val_accuracy: 0.8702\n",
            "Epoch 53/100\n",
            "375/375 [==============================] - 1s 3ms/step - loss: 0.3516 - accuracy: 0.8774 - val_loss: 0.3795 - val_accuracy: 0.8698\n",
            "Epoch 54/100\n",
            "375/375 [==============================] - 1s 3ms/step - loss: 0.3503 - accuracy: 0.8789 - val_loss: 0.3788 - val_accuracy: 0.8683\n",
            "Epoch 55/100\n",
            "375/375 [==============================] - 1s 3ms/step - loss: 0.3487 - accuracy: 0.8790 - val_loss: 0.3765 - val_accuracy: 0.8691\n",
            "Epoch 56/100\n",
            "375/375 [==============================] - 1s 2ms/step - loss: 0.3476 - accuracy: 0.8798 - val_loss: 0.3757 - val_accuracy: 0.8692\n",
            "Epoch 57/100\n",
            "375/375 [==============================] - 1s 3ms/step - loss: 0.3459 - accuracy: 0.8806 - val_loss: 0.3745 - val_accuracy: 0.8698\n",
            "Epoch 58/100\n",
            "375/375 [==============================] - 1s 2ms/step - loss: 0.3448 - accuracy: 0.8814 - val_loss: 0.3751 - val_accuracy: 0.8702\n",
            "Epoch 59/100\n",
            "375/375 [==============================] - 1s 2ms/step - loss: 0.3436 - accuracy: 0.8801 - val_loss: 0.3729 - val_accuracy: 0.8708\n",
            "Epoch 60/100\n",
            "375/375 [==============================] - 1s 2ms/step - loss: 0.3423 - accuracy: 0.8815 - val_loss: 0.3749 - val_accuracy: 0.8702\n",
            "Epoch 61/100\n",
            "375/375 [==============================] - 1s 3ms/step - loss: 0.3411 - accuracy: 0.8813 - val_loss: 0.3713 - val_accuracy: 0.8720\n",
            "Epoch 62/100\n",
            "375/375 [==============================] - 1s 3ms/step - loss: 0.3397 - accuracy: 0.8820 - val_loss: 0.3746 - val_accuracy: 0.8689\n",
            "Epoch 63/100\n",
            "375/375 [==============================] - 1s 3ms/step - loss: 0.3386 - accuracy: 0.8821 - val_loss: 0.3720 - val_accuracy: 0.8711\n",
            "Epoch 64/100\n",
            "375/375 [==============================] - 1s 3ms/step - loss: 0.3373 - accuracy: 0.8826 - val_loss: 0.3703 - val_accuracy: 0.8709\n",
            "Epoch 65/100\n",
            "375/375 [==============================] - 1s 2ms/step - loss: 0.3359 - accuracy: 0.8838 - val_loss: 0.3677 - val_accuracy: 0.8707\n",
            "Epoch 66/100\n",
            "375/375 [==============================] - 1s 3ms/step - loss: 0.3352 - accuracy: 0.8831 - val_loss: 0.3691 - val_accuracy: 0.8729\n",
            "Epoch 67/100\n",
            "375/375 [==============================] - 1s 2ms/step - loss: 0.3341 - accuracy: 0.8838 - val_loss: 0.3664 - val_accuracy: 0.8722\n",
            "Epoch 68/100\n",
            "375/375 [==============================] - 1s 3ms/step - loss: 0.3332 - accuracy: 0.8842 - val_loss: 0.3699 - val_accuracy: 0.8701\n",
            "Epoch 69/100\n",
            "375/375 [==============================] - 1s 3ms/step - loss: 0.3317 - accuracy: 0.8843 - val_loss: 0.3664 - val_accuracy: 0.8723\n",
            "Epoch 70/100\n",
            "375/375 [==============================] - 1s 2ms/step - loss: 0.3307 - accuracy: 0.8852 - val_loss: 0.3641 - val_accuracy: 0.8730\n",
            "Epoch 71/100\n",
            "375/375 [==============================] - 1s 3ms/step - loss: 0.3292 - accuracy: 0.8853 - val_loss: 0.3656 - val_accuracy: 0.8725\n",
            "Epoch 72/100\n",
            "375/375 [==============================] - 1s 2ms/step - loss: 0.3285 - accuracy: 0.8868 - val_loss: 0.3641 - val_accuracy: 0.8726\n",
            "Epoch 73/100\n",
            "375/375 [==============================] - 1s 2ms/step - loss: 0.3271 - accuracy: 0.8862 - val_loss: 0.3617 - val_accuracy: 0.8738\n",
            "Epoch 74/100\n",
            "375/375 [==============================] - 1s 2ms/step - loss: 0.3263 - accuracy: 0.8854 - val_loss: 0.3660 - val_accuracy: 0.8722\n",
            "Epoch 75/100\n",
            "375/375 [==============================] - 1s 2ms/step - loss: 0.3253 - accuracy: 0.8868 - val_loss: 0.3641 - val_accuracy: 0.8737\n",
            "Epoch 76/100\n",
            "375/375 [==============================] - 1s 2ms/step - loss: 0.3244 - accuracy: 0.8872 - val_loss: 0.3644 - val_accuracy: 0.8715\n",
            "Epoch 77/100\n",
            "375/375 [==============================] - 1s 3ms/step - loss: 0.3231 - accuracy: 0.8878 - val_loss: 0.3588 - val_accuracy: 0.8735\n",
            "Epoch 78/100\n",
            "375/375 [==============================] - 1s 3ms/step - loss: 0.3220 - accuracy: 0.8876 - val_loss: 0.3647 - val_accuracy: 0.8713\n",
            "Epoch 79/100\n",
            "375/375 [==============================] - 1s 3ms/step - loss: 0.3212 - accuracy: 0.8877 - val_loss: 0.3590 - val_accuracy: 0.8765\n",
            "Epoch 80/100\n",
            "375/375 [==============================] - 1s 3ms/step - loss: 0.3201 - accuracy: 0.8893 - val_loss: 0.3582 - val_accuracy: 0.8764\n",
            "Epoch 81/100\n",
            "375/375 [==============================] - 1s 3ms/step - loss: 0.3192 - accuracy: 0.8885 - val_loss: 0.3568 - val_accuracy: 0.8765\n",
            "Epoch 82/100\n",
            "375/375 [==============================] - 1s 2ms/step - loss: 0.3180 - accuracy: 0.8890 - val_loss: 0.3582 - val_accuracy: 0.8740\n",
            "Epoch 83/100\n",
            "375/375 [==============================] - 1s 3ms/step - loss: 0.3182 - accuracy: 0.8885 - val_loss: 0.3549 - val_accuracy: 0.8763\n",
            "Epoch 84/100\n",
            "375/375 [==============================] - 1s 3ms/step - loss: 0.3165 - accuracy: 0.8891 - val_loss: 0.3547 - val_accuracy: 0.8763\n",
            "Epoch 85/100\n",
            "375/375 [==============================] - 1s 3ms/step - loss: 0.3157 - accuracy: 0.8898 - val_loss: 0.3555 - val_accuracy: 0.8751\n",
            "Epoch 86/100\n",
            "375/375 [==============================] - 1s 3ms/step - loss: 0.3146 - accuracy: 0.8900 - val_loss: 0.3558 - val_accuracy: 0.8756\n",
            "Epoch 87/100\n",
            "375/375 [==============================] - 1s 3ms/step - loss: 0.3134 - accuracy: 0.8905 - val_loss: 0.3541 - val_accuracy: 0.8774\n",
            "Epoch 88/100\n",
            "375/375 [==============================] - 1s 2ms/step - loss: 0.3129 - accuracy: 0.8909 - val_loss: 0.3539 - val_accuracy: 0.8761\n",
            "Epoch 89/100\n",
            "375/375 [==============================] - 1s 3ms/step - loss: 0.3116 - accuracy: 0.8906 - val_loss: 0.3548 - val_accuracy: 0.8758\n",
            "Epoch 90/100\n",
            "375/375 [==============================] - 1s 3ms/step - loss: 0.3103 - accuracy: 0.8914 - val_loss: 0.3553 - val_accuracy: 0.8765\n",
            "Epoch 91/100\n",
            "375/375 [==============================] - 1s 2ms/step - loss: 0.3102 - accuracy: 0.8913 - val_loss: 0.3518 - val_accuracy: 0.8786\n",
            "Epoch 92/100\n",
            "375/375 [==============================] - 1s 3ms/step - loss: 0.3094 - accuracy: 0.8922 - val_loss: 0.3510 - val_accuracy: 0.8785\n",
            "Epoch 93/100\n",
            "375/375 [==============================] - 1s 2ms/step - loss: 0.3081 - accuracy: 0.8915 - val_loss: 0.3504 - val_accuracy: 0.8783\n",
            "Epoch 94/100\n",
            "375/375 [==============================] - 1s 3ms/step - loss: 0.3070 - accuracy: 0.8923 - val_loss: 0.3518 - val_accuracy: 0.8771\n",
            "Epoch 95/100\n",
            "375/375 [==============================] - 1s 3ms/step - loss: 0.3063 - accuracy: 0.8932 - val_loss: 0.3506 - val_accuracy: 0.8771\n",
            "Epoch 96/100\n",
            "375/375 [==============================] - 1s 3ms/step - loss: 0.3059 - accuracy: 0.8935 - val_loss: 0.3541 - val_accuracy: 0.8749\n",
            "Epoch 97/100\n",
            "375/375 [==============================] - 1s 3ms/step - loss: 0.3050 - accuracy: 0.8932 - val_loss: 0.3496 - val_accuracy: 0.8781\n",
            "Epoch 98/100\n",
            "375/375 [==============================] - 1s 3ms/step - loss: 0.3036 - accuracy: 0.8935 - val_loss: 0.3491 - val_accuracy: 0.8776\n",
            "Epoch 99/100\n",
            "375/375 [==============================] - 1s 3ms/step - loss: 0.3029 - accuracy: 0.8934 - val_loss: 0.3507 - val_accuracy: 0.8772\n",
            "Epoch 100/100\n",
            "375/375 [==============================] - 1s 3ms/step - loss: 0.3023 - accuracy: 0.8942 - val_loss: 0.3491 - val_accuracy: 0.8771\n"
          ]
        }
      ]
    },
    {
      "cell_type": "code",
      "metadata": {
        "colab": {
          "base_uri": "https://localhost:8080/"
        },
        "id": "pNBzxNPPILWn",
        "outputId": "8a3d6798-8f50-4a5a-c9f1-6793d955eddb"
      },
      "source": [
        "# Checking model summary\n",
        "model1.summary()"
      ],
      "execution_count": null,
      "outputs": [
        {
          "output_type": "stream",
          "name": "stdout",
          "text": [
            "Model: \"mlp_1\"\n",
            "_________________________________________________________________\n",
            "Layer (type)                 Output Shape              Param #   \n",
            "=================================================================\n",
            "dense_layer1 (Dense)         (None, 128)               100480    \n",
            "_________________________________________________________________\n",
            "dense_layer2 (Dense)         (None, 10)                1290      \n",
            "=================================================================\n",
            "Total params: 101,770\n",
            "Trainable params: 101,770\n",
            "Non-trainable params: 0\n",
            "_________________________________________________________________\n"
          ]
        }
      ]
    },
    {
      "cell_type": "code",
      "metadata": {
        "colab": {
          "base_uri": "https://localhost:8080/"
        },
        "id": "lAWI3NhsINxu",
        "outputId": "f8c38e47-8a08-498b-a1b6-24b00cdeccb4"
      },
      "source": [
        "# Evaluating the model on test dataset\n",
        "model1.evaluate(X_test_norm, y_test_cat, batch_size= 128)"
      ],
      "execution_count": null,
      "outputs": [
        {
          "output_type": "stream",
          "name": "stdout",
          "text": [
            "79/79 [==============================] - 0s 2ms/step - loss: 0.3722 - accuracy: 0.8684\n"
          ]
        },
        {
          "output_type": "execute_result",
          "data": {
            "text/plain": [
              "[0.3721666634082794, 0.868399977684021]"
            ]
          },
          "metadata": {},
          "execution_count": 17
        }
      ]
    },
    {
      "cell_type": "markdown",
      "metadata": {
        "id": "8mRS3QPqN7Co"
      },
      "source": [
        "Validation and testing accuracy both have increased and both losses have decreased from our previous model."
      ]
    },
    {
      "cell_type": "markdown",
      "metadata": {
        "id": "Bz1AwJGFv_Hr"
      },
      "source": [
        "### 3. Building Multi-layer Perceptron with Dropout Normalization"
      ]
    },
    {
      "cell_type": "code",
      "metadata": {
        "colab": {
          "base_uri": "https://localhost:8080/"
        },
        "id": "lL2qIi7IInvo",
        "outputId": "f84428af-5a4d-490a-b41d-7499545dba50"
      },
      "source": [
        "# Building Multi-layer Perceptron with Dropout Normalization\n",
        "tf.random.set_seed(42)\n",
        "model2= tf.keras.Sequential(name= 'mlp_2')\n",
        "model2.add(tf.keras.layers.Dense(128, input_shape= (X_train_norm.shape[1],), activation= 'relu', name= 'dense_layer1'))\n",
        "model2.add(tf.keras.layers.Dropout(.3, name= 'dropout_layer1'))\n",
        "model2.add(tf.keras.layers.Dense(10, activation= 'softmax', name= 'dense_layer2'))\n",
        "\n",
        "# Compiling the model\n",
        "model2.compile(optimizer= 'sgd', loss= 'categorical_crossentropy', metrics= ['accuracy'])\n",
        "\n",
        "# Training the model\n",
        "history2= model2.fit(X_train_norm, y_train_cat, batch_size= 128, epochs= 100, validation_split= .2)"
      ],
      "execution_count": null,
      "outputs": [
        {
          "output_type": "stream",
          "name": "stdout",
          "text": [
            "Epoch 1/100\n",
            "375/375 [==============================] - 2s 3ms/step - loss: 1.2609 - accuracy: 0.5895 - val_loss: 0.8416 - val_accuracy: 0.7333\n",
            "Epoch 2/100\n",
            "375/375 [==============================] - 1s 3ms/step - loss: 0.8404 - accuracy: 0.7224 - val_loss: 0.6998 - val_accuracy: 0.7773\n",
            "Epoch 3/100\n",
            "375/375 [==============================] - 1s 3ms/step - loss: 0.7376 - accuracy: 0.7543 - val_loss: 0.6372 - val_accuracy: 0.7917\n",
            "Epoch 4/100\n",
            "375/375 [==============================] - 1s 3ms/step - loss: 0.6769 - accuracy: 0.7742 - val_loss: 0.5965 - val_accuracy: 0.8058\n",
            "Epoch 5/100\n",
            "375/375 [==============================] - 1s 3ms/step - loss: 0.6354 - accuracy: 0.7865 - val_loss: 0.5679 - val_accuracy: 0.8127\n",
            "Epoch 6/100\n",
            "375/375 [==============================] - 1s 3ms/step - loss: 0.6091 - accuracy: 0.7959 - val_loss: 0.5482 - val_accuracy: 0.8195\n",
            "Epoch 7/100\n",
            "375/375 [==============================] - 1s 3ms/step - loss: 0.5862 - accuracy: 0.8056 - val_loss: 0.5312 - val_accuracy: 0.8243\n",
            "Epoch 8/100\n",
            "375/375 [==============================] - 1s 3ms/step - loss: 0.5683 - accuracy: 0.8095 - val_loss: 0.5184 - val_accuracy: 0.8267\n",
            "Epoch 9/100\n",
            "375/375 [==============================] - 1s 3ms/step - loss: 0.5543 - accuracy: 0.8144 - val_loss: 0.5078 - val_accuracy: 0.8311\n",
            "Epoch 10/100\n",
            "375/375 [==============================] - 1s 3ms/step - loss: 0.5422 - accuracy: 0.8160 - val_loss: 0.4978 - val_accuracy: 0.8306\n",
            "Epoch 11/100\n",
            "375/375 [==============================] - 1s 3ms/step - loss: 0.5305 - accuracy: 0.8198 - val_loss: 0.4890 - val_accuracy: 0.8327\n",
            "Epoch 12/100\n",
            "375/375 [==============================] - 1s 3ms/step - loss: 0.5203 - accuracy: 0.8243 - val_loss: 0.4825 - val_accuracy: 0.8342\n",
            "Epoch 13/100\n",
            "375/375 [==============================] - 1s 3ms/step - loss: 0.5131 - accuracy: 0.8266 - val_loss: 0.4744 - val_accuracy: 0.8391\n",
            "Epoch 14/100\n",
            "375/375 [==============================] - 1s 3ms/step - loss: 0.5004 - accuracy: 0.8300 - val_loss: 0.4677 - val_accuracy: 0.8401\n",
            "Epoch 15/100\n",
            "375/375 [==============================] - 1s 3ms/step - loss: 0.4953 - accuracy: 0.8304 - val_loss: 0.4619 - val_accuracy: 0.8414\n",
            "Epoch 16/100\n",
            "375/375 [==============================] - 1s 3ms/step - loss: 0.4859 - accuracy: 0.8331 - val_loss: 0.4576 - val_accuracy: 0.8394\n",
            "Epoch 17/100\n",
            "375/375 [==============================] - 1s 3ms/step - loss: 0.4808 - accuracy: 0.8354 - val_loss: 0.4516 - val_accuracy: 0.8428\n",
            "Epoch 18/100\n",
            "375/375 [==============================] - 1s 3ms/step - loss: 0.4772 - accuracy: 0.8366 - val_loss: 0.4474 - val_accuracy: 0.8446\n",
            "Epoch 19/100\n",
            "375/375 [==============================] - 1s 3ms/step - loss: 0.4706 - accuracy: 0.8386 - val_loss: 0.4429 - val_accuracy: 0.8461\n",
            "Epoch 20/100\n",
            "375/375 [==============================] - 1s 3ms/step - loss: 0.4679 - accuracy: 0.8395 - val_loss: 0.4402 - val_accuracy: 0.8468\n",
            "Epoch 21/100\n",
            "375/375 [==============================] - 1s 3ms/step - loss: 0.4614 - accuracy: 0.8410 - val_loss: 0.4357 - val_accuracy: 0.8487\n",
            "Epoch 22/100\n",
            "375/375 [==============================] - 1s 3ms/step - loss: 0.4578 - accuracy: 0.8419 - val_loss: 0.4324 - val_accuracy: 0.8484\n",
            "Epoch 23/100\n",
            "375/375 [==============================] - 1s 3ms/step - loss: 0.4526 - accuracy: 0.8443 - val_loss: 0.4281 - val_accuracy: 0.8503\n",
            "Epoch 24/100\n",
            "375/375 [==============================] - 1s 3ms/step - loss: 0.4479 - accuracy: 0.8455 - val_loss: 0.4270 - val_accuracy: 0.8507\n",
            "Epoch 25/100\n",
            "375/375 [==============================] - 1s 3ms/step - loss: 0.4431 - accuracy: 0.8471 - val_loss: 0.4215 - val_accuracy: 0.8528\n",
            "Epoch 26/100\n",
            "375/375 [==============================] - 1s 3ms/step - loss: 0.4398 - accuracy: 0.8484 - val_loss: 0.4199 - val_accuracy: 0.8546\n",
            "Epoch 27/100\n",
            "375/375 [==============================] - 1s 3ms/step - loss: 0.4386 - accuracy: 0.8464 - val_loss: 0.4169 - val_accuracy: 0.8542\n",
            "Epoch 28/100\n",
            "375/375 [==============================] - 1s 3ms/step - loss: 0.4344 - accuracy: 0.8499 - val_loss: 0.4142 - val_accuracy: 0.8537\n",
            "Epoch 29/100\n",
            "375/375 [==============================] - 1s 3ms/step - loss: 0.4321 - accuracy: 0.8498 - val_loss: 0.4109 - val_accuracy: 0.8551\n",
            "Epoch 30/100\n",
            "375/375 [==============================] - 1s 3ms/step - loss: 0.4290 - accuracy: 0.8514 - val_loss: 0.4097 - val_accuracy: 0.8568\n",
            "Epoch 31/100\n",
            "375/375 [==============================] - 1s 3ms/step - loss: 0.4267 - accuracy: 0.8534 - val_loss: 0.4069 - val_accuracy: 0.8559\n",
            "Epoch 32/100\n",
            "375/375 [==============================] - 1s 3ms/step - loss: 0.4249 - accuracy: 0.8527 - val_loss: 0.4054 - val_accuracy: 0.8558\n",
            "Epoch 33/100\n",
            "375/375 [==============================] - 1s 3ms/step - loss: 0.4194 - accuracy: 0.8549 - val_loss: 0.4039 - val_accuracy: 0.8568\n",
            "Epoch 34/100\n",
            "375/375 [==============================] - 1s 3ms/step - loss: 0.4166 - accuracy: 0.8556 - val_loss: 0.4031 - val_accuracy: 0.8573\n",
            "Epoch 35/100\n",
            "375/375 [==============================] - 1s 3ms/step - loss: 0.4136 - accuracy: 0.8560 - val_loss: 0.3998 - val_accuracy: 0.8587\n",
            "Epoch 36/100\n",
            "375/375 [==============================] - 1s 3ms/step - loss: 0.4134 - accuracy: 0.8561 - val_loss: 0.3992 - val_accuracy: 0.8577\n",
            "Epoch 37/100\n",
            "375/375 [==============================] - 1s 3ms/step - loss: 0.4097 - accuracy: 0.8583 - val_loss: 0.3961 - val_accuracy: 0.8604\n",
            "Epoch 38/100\n",
            "375/375 [==============================] - 1s 3ms/step - loss: 0.4079 - accuracy: 0.8582 - val_loss: 0.3937 - val_accuracy: 0.8627\n",
            "Epoch 39/100\n",
            "375/375 [==============================] - 1s 3ms/step - loss: 0.4064 - accuracy: 0.8582 - val_loss: 0.3915 - val_accuracy: 0.8617\n",
            "Epoch 40/100\n",
            "375/375 [==============================] - 1s 3ms/step - loss: 0.4036 - accuracy: 0.8591 - val_loss: 0.3898 - val_accuracy: 0.8622\n",
            "Epoch 41/100\n",
            "375/375 [==============================] - 1s 3ms/step - loss: 0.4027 - accuracy: 0.8589 - val_loss: 0.3892 - val_accuracy: 0.8630\n",
            "Epoch 42/100\n",
            "375/375 [==============================] - 1s 3ms/step - loss: 0.3987 - accuracy: 0.8614 - val_loss: 0.3873 - val_accuracy: 0.8633\n",
            "Epoch 43/100\n",
            "375/375 [==============================] - 1s 3ms/step - loss: 0.3976 - accuracy: 0.8609 - val_loss: 0.3860 - val_accuracy: 0.8626\n",
            "Epoch 44/100\n",
            "375/375 [==============================] - 1s 3ms/step - loss: 0.3955 - accuracy: 0.8623 - val_loss: 0.3840 - val_accuracy: 0.8638\n",
            "Epoch 45/100\n",
            "375/375 [==============================] - 1s 3ms/step - loss: 0.3938 - accuracy: 0.8634 - val_loss: 0.3840 - val_accuracy: 0.8654\n",
            "Epoch 46/100\n",
            "375/375 [==============================] - 1s 3ms/step - loss: 0.3938 - accuracy: 0.8623 - val_loss: 0.3816 - val_accuracy: 0.8655\n",
            "Epoch 47/100\n",
            "375/375 [==============================] - 1s 3ms/step - loss: 0.3899 - accuracy: 0.8631 - val_loss: 0.3805 - val_accuracy: 0.8647\n",
            "Epoch 48/100\n",
            "375/375 [==============================] - 1s 3ms/step - loss: 0.3885 - accuracy: 0.8648 - val_loss: 0.3789 - val_accuracy: 0.8658\n",
            "Epoch 49/100\n",
            "375/375 [==============================] - 1s 3ms/step - loss: 0.3897 - accuracy: 0.8644 - val_loss: 0.3785 - val_accuracy: 0.8662\n",
            "Epoch 50/100\n",
            "375/375 [==============================] - 1s 3ms/step - loss: 0.3875 - accuracy: 0.8647 - val_loss: 0.3767 - val_accuracy: 0.8668\n",
            "Epoch 51/100\n",
            "375/375 [==============================] - 1s 3ms/step - loss: 0.3855 - accuracy: 0.8651 - val_loss: 0.3751 - val_accuracy: 0.8667\n",
            "Epoch 52/100\n",
            "375/375 [==============================] - 1s 3ms/step - loss: 0.3829 - accuracy: 0.8663 - val_loss: 0.3748 - val_accuracy: 0.8679\n",
            "Epoch 53/100\n",
            "375/375 [==============================] - 1s 3ms/step - loss: 0.3818 - accuracy: 0.8665 - val_loss: 0.3737 - val_accuracy: 0.8670\n",
            "Epoch 54/100\n",
            "375/375 [==============================] - 1s 3ms/step - loss: 0.3803 - accuracy: 0.8665 - val_loss: 0.3734 - val_accuracy: 0.8680\n",
            "Epoch 55/100\n",
            "375/375 [==============================] - 1s 3ms/step - loss: 0.3785 - accuracy: 0.8669 - val_loss: 0.3715 - val_accuracy: 0.8675\n",
            "Epoch 56/100\n",
            "375/375 [==============================] - 1s 3ms/step - loss: 0.3782 - accuracy: 0.8672 - val_loss: 0.3698 - val_accuracy: 0.8689\n",
            "Epoch 57/100\n",
            "375/375 [==============================] - 1s 3ms/step - loss: 0.3755 - accuracy: 0.8690 - val_loss: 0.3690 - val_accuracy: 0.8692\n",
            "Epoch 58/100\n",
            "375/375 [==============================] - 1s 3ms/step - loss: 0.3757 - accuracy: 0.8675 - val_loss: 0.3689 - val_accuracy: 0.8685\n",
            "Epoch 59/100\n",
            "375/375 [==============================] - 1s 3ms/step - loss: 0.3747 - accuracy: 0.8688 - val_loss: 0.3678 - val_accuracy: 0.8698\n",
            "Epoch 60/100\n",
            "375/375 [==============================] - 1s 3ms/step - loss: 0.3711 - accuracy: 0.8702 - val_loss: 0.3667 - val_accuracy: 0.8702\n",
            "Epoch 61/100\n",
            "375/375 [==============================] - 1s 3ms/step - loss: 0.3695 - accuracy: 0.8705 - val_loss: 0.3660 - val_accuracy: 0.8702\n",
            "Epoch 62/100\n",
            "375/375 [==============================] - 1s 3ms/step - loss: 0.3726 - accuracy: 0.8689 - val_loss: 0.3664 - val_accuracy: 0.8691\n",
            "Epoch 63/100\n",
            "375/375 [==============================] - 1s 3ms/step - loss: 0.3675 - accuracy: 0.8723 - val_loss: 0.3654 - val_accuracy: 0.8694\n",
            "Epoch 64/100\n",
            "375/375 [==============================] - 1s 3ms/step - loss: 0.3688 - accuracy: 0.8708 - val_loss: 0.3642 - val_accuracy: 0.8701\n",
            "Epoch 65/100\n",
            "375/375 [==============================] - 1s 3ms/step - loss: 0.3649 - accuracy: 0.8719 - val_loss: 0.3631 - val_accuracy: 0.8702\n",
            "Epoch 66/100\n",
            "375/375 [==============================] - 1s 3ms/step - loss: 0.3644 - accuracy: 0.8723 - val_loss: 0.3615 - val_accuracy: 0.8727\n",
            "Epoch 67/100\n",
            "375/375 [==============================] - 1s 3ms/step - loss: 0.3640 - accuracy: 0.8734 - val_loss: 0.3609 - val_accuracy: 0.8714\n",
            "Epoch 68/100\n",
            "375/375 [==============================] - 1s 3ms/step - loss: 0.3642 - accuracy: 0.8728 - val_loss: 0.3600 - val_accuracy: 0.8728\n",
            "Epoch 69/100\n",
            "375/375 [==============================] - 1s 3ms/step - loss: 0.3623 - accuracy: 0.8721 - val_loss: 0.3600 - val_accuracy: 0.8723\n",
            "Epoch 70/100\n",
            "375/375 [==============================] - 1s 3ms/step - loss: 0.3603 - accuracy: 0.8747 - val_loss: 0.3591 - val_accuracy: 0.8723\n",
            "Epoch 71/100\n",
            "375/375 [==============================] - 1s 3ms/step - loss: 0.3595 - accuracy: 0.8740 - val_loss: 0.3585 - val_accuracy: 0.8730\n",
            "Epoch 72/100\n",
            "375/375 [==============================] - 1s 3ms/step - loss: 0.3588 - accuracy: 0.8740 - val_loss: 0.3573 - val_accuracy: 0.8724\n",
            "Epoch 73/100\n",
            "375/375 [==============================] - 1s 3ms/step - loss: 0.3583 - accuracy: 0.8742 - val_loss: 0.3560 - val_accuracy: 0.8729\n",
            "Epoch 74/100\n",
            "375/375 [==============================] - 1s 3ms/step - loss: 0.3571 - accuracy: 0.8740 - val_loss: 0.3569 - val_accuracy: 0.8726\n",
            "Epoch 75/100\n",
            "375/375 [==============================] - 1s 3ms/step - loss: 0.3551 - accuracy: 0.8748 - val_loss: 0.3554 - val_accuracy: 0.8727\n",
            "Epoch 76/100\n",
            "375/375 [==============================] - 1s 3ms/step - loss: 0.3542 - accuracy: 0.8758 - val_loss: 0.3563 - val_accuracy: 0.8723\n",
            "Epoch 77/100\n",
            "375/375 [==============================] - 1s 3ms/step - loss: 0.3537 - accuracy: 0.8764 - val_loss: 0.3529 - val_accuracy: 0.8750\n",
            "Epoch 78/100\n",
            "375/375 [==============================] - 1s 3ms/step - loss: 0.3514 - accuracy: 0.8763 - val_loss: 0.3544 - val_accuracy: 0.8734\n",
            "Epoch 79/100\n",
            "375/375 [==============================] - 1s 3ms/step - loss: 0.3510 - accuracy: 0.8772 - val_loss: 0.3527 - val_accuracy: 0.8750\n",
            "Epoch 80/100\n",
            "375/375 [==============================] - 1s 3ms/step - loss: 0.3520 - accuracy: 0.8761 - val_loss: 0.3513 - val_accuracy: 0.8741\n",
            "Epoch 81/100\n",
            "375/375 [==============================] - 1s 3ms/step - loss: 0.3505 - accuracy: 0.8764 - val_loss: 0.3506 - val_accuracy: 0.8744\n",
            "Epoch 82/100\n",
            "375/375 [==============================] - 1s 3ms/step - loss: 0.3487 - accuracy: 0.8769 - val_loss: 0.3505 - val_accuracy: 0.8740\n",
            "Epoch 83/100\n",
            "375/375 [==============================] - 1s 3ms/step - loss: 0.3479 - accuracy: 0.8784 - val_loss: 0.3490 - val_accuracy: 0.8758\n",
            "Epoch 84/100\n",
            "375/375 [==============================] - 1s 3ms/step - loss: 0.3470 - accuracy: 0.8787 - val_loss: 0.3478 - val_accuracy: 0.8767\n",
            "Epoch 85/100\n",
            "375/375 [==============================] - 1s 3ms/step - loss: 0.3463 - accuracy: 0.8775 - val_loss: 0.3491 - val_accuracy: 0.8748\n",
            "Epoch 86/100\n",
            "375/375 [==============================] - 1s 3ms/step - loss: 0.3461 - accuracy: 0.8777 - val_loss: 0.3480 - val_accuracy: 0.8760\n",
            "Epoch 87/100\n",
            "375/375 [==============================] - 1s 3ms/step - loss: 0.3458 - accuracy: 0.8780 - val_loss: 0.3469 - val_accuracy: 0.8763\n",
            "Epoch 88/100\n",
            "375/375 [==============================] - 1s 3ms/step - loss: 0.3443 - accuracy: 0.8789 - val_loss: 0.3471 - val_accuracy: 0.8758\n",
            "Epoch 89/100\n",
            "375/375 [==============================] - 1s 3ms/step - loss: 0.3439 - accuracy: 0.8790 - val_loss: 0.3477 - val_accuracy: 0.8742\n",
            "Epoch 90/100\n",
            "375/375 [==============================] - 1s 3ms/step - loss: 0.3421 - accuracy: 0.8789 - val_loss: 0.3473 - val_accuracy: 0.8771\n",
            "Epoch 91/100\n",
            "375/375 [==============================] - 1s 3ms/step - loss: 0.3411 - accuracy: 0.8799 - val_loss: 0.3454 - val_accuracy: 0.8759\n",
            "Epoch 92/100\n",
            "375/375 [==============================] - 1s 3ms/step - loss: 0.3393 - accuracy: 0.8812 - val_loss: 0.3447 - val_accuracy: 0.8775\n",
            "Epoch 93/100\n",
            "375/375 [==============================] - 1s 3ms/step - loss: 0.3400 - accuracy: 0.8803 - val_loss: 0.3440 - val_accuracy: 0.8772\n",
            "Epoch 94/100\n",
            "375/375 [==============================] - 1s 3ms/step - loss: 0.3377 - accuracy: 0.8820 - val_loss: 0.3432 - val_accuracy: 0.8773\n",
            "Epoch 95/100\n",
            "375/375 [==============================] - 1s 3ms/step - loss: 0.3378 - accuracy: 0.8802 - val_loss: 0.3426 - val_accuracy: 0.8772\n",
            "Epoch 96/100\n",
            "375/375 [==============================] - 1s 3ms/step - loss: 0.3369 - accuracy: 0.8810 - val_loss: 0.3448 - val_accuracy: 0.8758\n",
            "Epoch 97/100\n",
            "375/375 [==============================] - 1s 3ms/step - loss: 0.3351 - accuracy: 0.8833 - val_loss: 0.3419 - val_accuracy: 0.8787\n",
            "Epoch 98/100\n",
            "375/375 [==============================] - 1s 3ms/step - loss: 0.3358 - accuracy: 0.8828 - val_loss: 0.3420 - val_accuracy: 0.8773\n",
            "Epoch 99/100\n",
            "375/375 [==============================] - 1s 3ms/step - loss: 0.3359 - accuracy: 0.8831 - val_loss: 0.3411 - val_accuracy: 0.8780\n",
            "Epoch 100/100\n",
            "375/375 [==============================] - 1s 3ms/step - loss: 0.3349 - accuracy: 0.8825 - val_loss: 0.3414 - val_accuracy: 0.8788\n"
          ]
        }
      ]
    },
    {
      "cell_type": "code",
      "metadata": {
        "colab": {
          "base_uri": "https://localhost:8080/"
        },
        "id": "Jvpw11d-N6Ph",
        "outputId": "9effb084-76ea-40b1-b3c4-5ca5a1d5b263"
      },
      "source": [
        "# Checking model summary\n",
        "model2.summary()"
      ],
      "execution_count": null,
      "outputs": [
        {
          "output_type": "stream",
          "name": "stdout",
          "text": [
            "Model: \"mlp_2\"\n",
            "_________________________________________________________________\n",
            "Layer (type)                 Output Shape              Param #   \n",
            "=================================================================\n",
            "dense_layer1 (Dense)         (None, 128)               100480    \n",
            "_________________________________________________________________\n",
            "dropout_layer1 (Dropout)     (None, 128)               0         \n",
            "_________________________________________________________________\n",
            "dense_layer2 (Dense)         (None, 10)                1290      \n",
            "=================================================================\n",
            "Total params: 101,770\n",
            "Trainable params: 101,770\n",
            "Non-trainable params: 0\n",
            "_________________________________________________________________\n"
          ]
        }
      ]
    },
    {
      "cell_type": "code",
      "metadata": {
        "colab": {
          "base_uri": "https://localhost:8080/"
        },
        "id": "rArQAbw7JDyX",
        "outputId": "7fd7b76c-9c08-4404-eb29-1c9c2b8b0899"
      },
      "source": [
        "# Evaluating the model on test dataset\n",
        "model2.evaluate(X_test_norm, y_test_cat, batch_size= 128)"
      ],
      "execution_count": null,
      "outputs": [
        {
          "output_type": "stream",
          "name": "stdout",
          "text": [
            "79/79 [==============================] - 0s 2ms/step - loss: 0.3633 - accuracy: 0.8685\n"
          ]
        },
        {
          "output_type": "execute_result",
          "data": {
            "text/plain": [
              "[0.3633310794830322, 0.8684999942779541]"
            ]
          },
          "metadata": {},
          "execution_count": 20
        }
      ]
    },
    {
      "cell_type": "markdown",
      "metadata": {
        "id": "JrvOe0r43xA7"
      },
      "source": [
        "Validation and testing accuracy is almost same as our previous MLP model. There is not much change in losses as well. One thing can be noticed, now our model has almost same training, validation and tetsing accuracy.\n",
        "Let's try to incraese the number of neurons to 256 and check if it improves the model."
      ]
    },
    {
      "cell_type": "markdown",
      "metadata": {
        "id": "koXYthpwwD3a"
      },
      "source": [
        "### 4. Building Multi-layer Perceptron with Dropout Normalization and increased neurons"
      ]
    },
    {
      "cell_type": "code",
      "metadata": {
        "colab": {
          "base_uri": "https://localhost:8080/"
        },
        "id": "XxIM4Ws4JP3R",
        "outputId": "b93c912f-e570-477a-cfdb-8b0155744f9c"
      },
      "source": [
        "# Building Multi-layer Perceptron with Dropout Normalization and increased neurons\n",
        "tf.random.set_seed(42)\n",
        "model3= tf.keras.Sequential(name= 'mlp_3')\n",
        "model3.add(tf.keras.layers.Dense(256, input_shape= (X_train_norm.shape[1],), activation= 'relu', name= 'dense_layer1'))\n",
        "model3.add(tf.keras.layers.Dropout(.3, name= 'dropout_layer1'))\n",
        "model3.add(tf.keras.layers.Dense(10, activation= 'softmax', name= 'dense_layer2'))\n",
        "\n",
        "# Compiling the model\n",
        "model3.compile(optimizer= 'sgd', loss= 'categorical_crossentropy', metrics= ['accuracy'])\n",
        "\n",
        "# Training the model\n",
        "history3= model3.fit(X_train_norm, y_train_cat, batch_size= 128, epochs= 100, validation_split= .2)"
      ],
      "execution_count": null,
      "outputs": [
        {
          "output_type": "stream",
          "name": "stdout",
          "text": [
            "Epoch 1/100\n",
            "375/375 [==============================] - 1s 3ms/step - loss: 1.2068 - accuracy: 0.6051 - val_loss: 0.8129 - val_accuracy: 0.7318\n",
            "Epoch 2/100\n",
            "375/375 [==============================] - 1s 3ms/step - loss: 0.7968 - accuracy: 0.7314 - val_loss: 0.6823 - val_accuracy: 0.7768\n",
            "Epoch 3/100\n",
            "375/375 [==============================] - 1s 3ms/step - loss: 0.7011 - accuracy: 0.7654 - val_loss: 0.6204 - val_accuracy: 0.7954\n",
            "Epoch 4/100\n",
            "375/375 [==============================] - 1s 3ms/step - loss: 0.6469 - accuracy: 0.7840 - val_loss: 0.5821 - val_accuracy: 0.8067\n",
            "Epoch 5/100\n",
            "375/375 [==============================] - 1s 3ms/step - loss: 0.6106 - accuracy: 0.7960 - val_loss: 0.5552 - val_accuracy: 0.8159\n",
            "Epoch 6/100\n",
            "375/375 [==============================] - 1s 3ms/step - loss: 0.5825 - accuracy: 0.8031 - val_loss: 0.5341 - val_accuracy: 0.8214\n",
            "Epoch 7/100\n",
            "375/375 [==============================] - 1s 3ms/step - loss: 0.5619 - accuracy: 0.8113 - val_loss: 0.5189 - val_accuracy: 0.8259\n",
            "Epoch 8/100\n",
            "375/375 [==============================] - 1s 3ms/step - loss: 0.5433 - accuracy: 0.8163 - val_loss: 0.5072 - val_accuracy: 0.8282\n",
            "Epoch 9/100\n",
            "375/375 [==============================] - 1s 3ms/step - loss: 0.5288 - accuracy: 0.8209 - val_loss: 0.4946 - val_accuracy: 0.8322\n",
            "Epoch 10/100\n",
            "375/375 [==============================] - 1s 3ms/step - loss: 0.5191 - accuracy: 0.8232 - val_loss: 0.4863 - val_accuracy: 0.8323\n",
            "Epoch 11/100\n",
            "375/375 [==============================] - 1s 3ms/step - loss: 0.5063 - accuracy: 0.8273 - val_loss: 0.4772 - val_accuracy: 0.8362\n",
            "Epoch 12/100\n",
            "375/375 [==============================] - 1s 3ms/step - loss: 0.4979 - accuracy: 0.8302 - val_loss: 0.4720 - val_accuracy: 0.8372\n",
            "Epoch 13/100\n",
            "375/375 [==============================] - 1s 3ms/step - loss: 0.4887 - accuracy: 0.8337 - val_loss: 0.4646 - val_accuracy: 0.8395\n",
            "Epoch 14/100\n",
            "375/375 [==============================] - 1s 3ms/step - loss: 0.4814 - accuracy: 0.8351 - val_loss: 0.4570 - val_accuracy: 0.8418\n",
            "Epoch 15/100\n",
            "375/375 [==============================] - 1s 3ms/step - loss: 0.4744 - accuracy: 0.8376 - val_loss: 0.4516 - val_accuracy: 0.8436\n",
            "Epoch 16/100\n",
            "375/375 [==============================] - 1s 3ms/step - loss: 0.4674 - accuracy: 0.8381 - val_loss: 0.4477 - val_accuracy: 0.8438\n",
            "Epoch 17/100\n",
            "375/375 [==============================] - 1s 3ms/step - loss: 0.4611 - accuracy: 0.8410 - val_loss: 0.4418 - val_accuracy: 0.8453\n",
            "Epoch 18/100\n",
            "375/375 [==============================] - 1s 3ms/step - loss: 0.4559 - accuracy: 0.8451 - val_loss: 0.4373 - val_accuracy: 0.8462\n",
            "Epoch 19/100\n",
            "375/375 [==============================] - 1s 3ms/step - loss: 0.4506 - accuracy: 0.8454 - val_loss: 0.4340 - val_accuracy: 0.8462\n",
            "Epoch 20/100\n",
            "375/375 [==============================] - 1s 3ms/step - loss: 0.4461 - accuracy: 0.8459 - val_loss: 0.4311 - val_accuracy: 0.8503\n",
            "Epoch 21/100\n",
            "375/375 [==============================] - 1s 3ms/step - loss: 0.4420 - accuracy: 0.8462 - val_loss: 0.4265 - val_accuracy: 0.8503\n",
            "Epoch 22/100\n",
            "375/375 [==============================] - 1s 3ms/step - loss: 0.4379 - accuracy: 0.8485 - val_loss: 0.4229 - val_accuracy: 0.8499\n",
            "Epoch 23/100\n",
            "375/375 [==============================] - 1s 3ms/step - loss: 0.4327 - accuracy: 0.8492 - val_loss: 0.4207 - val_accuracy: 0.8521\n",
            "Epoch 24/100\n",
            "375/375 [==============================] - 1s 3ms/step - loss: 0.4300 - accuracy: 0.8515 - val_loss: 0.4184 - val_accuracy: 0.8546\n",
            "Epoch 25/100\n",
            "375/375 [==============================] - 1s 3ms/step - loss: 0.4249 - accuracy: 0.8514 - val_loss: 0.4131 - val_accuracy: 0.8540\n",
            "Epoch 26/100\n",
            "375/375 [==============================] - 1s 3ms/step - loss: 0.4227 - accuracy: 0.8527 - val_loss: 0.4123 - val_accuracy: 0.8551\n",
            "Epoch 27/100\n",
            "375/375 [==============================] - 1s 3ms/step - loss: 0.4193 - accuracy: 0.8535 - val_loss: 0.4083 - val_accuracy: 0.8580\n",
            "Epoch 28/100\n",
            "375/375 [==============================] - 1s 3ms/step - loss: 0.4159 - accuracy: 0.8541 - val_loss: 0.4061 - val_accuracy: 0.8555\n",
            "Epoch 29/100\n",
            "375/375 [==============================] - 1s 3ms/step - loss: 0.4115 - accuracy: 0.8559 - val_loss: 0.4036 - val_accuracy: 0.8572\n",
            "Epoch 30/100\n",
            "375/375 [==============================] - 1s 3ms/step - loss: 0.4104 - accuracy: 0.8560 - val_loss: 0.4021 - val_accuracy: 0.8571\n",
            "Epoch 31/100\n",
            "375/375 [==============================] - 1s 3ms/step - loss: 0.4068 - accuracy: 0.8590 - val_loss: 0.3997 - val_accuracy: 0.8587\n",
            "Epoch 32/100\n",
            "375/375 [==============================] - 1s 3ms/step - loss: 0.4042 - accuracy: 0.8598 - val_loss: 0.3974 - val_accuracy: 0.8598\n",
            "Epoch 33/100\n",
            "375/375 [==============================] - 1s 3ms/step - loss: 0.4020 - accuracy: 0.8604 - val_loss: 0.3959 - val_accuracy: 0.8608\n",
            "Epoch 34/100\n",
            "375/375 [==============================] - 1s 3ms/step - loss: 0.3980 - accuracy: 0.8598 - val_loss: 0.3953 - val_accuracy: 0.8597\n",
            "Epoch 35/100\n",
            "375/375 [==============================] - 1s 3ms/step - loss: 0.3944 - accuracy: 0.8625 - val_loss: 0.3922 - val_accuracy: 0.8609\n",
            "Epoch 36/100\n",
            "375/375 [==============================] - 1s 3ms/step - loss: 0.3948 - accuracy: 0.8621 - val_loss: 0.3915 - val_accuracy: 0.8611\n",
            "Epoch 37/100\n",
            "375/375 [==============================] - 1s 3ms/step - loss: 0.3929 - accuracy: 0.8606 - val_loss: 0.3889 - val_accuracy: 0.8622\n",
            "Epoch 38/100\n",
            "375/375 [==============================] - 1s 3ms/step - loss: 0.3907 - accuracy: 0.8634 - val_loss: 0.3869 - val_accuracy: 0.8633\n",
            "Epoch 39/100\n",
            "375/375 [==============================] - 1s 3ms/step - loss: 0.3869 - accuracy: 0.8645 - val_loss: 0.3842 - val_accuracy: 0.8648\n",
            "Epoch 40/100\n",
            "375/375 [==============================] - 1s 3ms/step - loss: 0.3856 - accuracy: 0.8646 - val_loss: 0.3826 - val_accuracy: 0.8650\n",
            "Epoch 41/100\n",
            "375/375 [==============================] - 1s 3ms/step - loss: 0.3825 - accuracy: 0.8656 - val_loss: 0.3829 - val_accuracy: 0.8643\n",
            "Epoch 42/100\n",
            "375/375 [==============================] - 1s 3ms/step - loss: 0.3816 - accuracy: 0.8659 - val_loss: 0.3810 - val_accuracy: 0.8645\n",
            "Epoch 43/100\n",
            "375/375 [==============================] - 1s 3ms/step - loss: 0.3797 - accuracy: 0.8658 - val_loss: 0.3790 - val_accuracy: 0.8662\n",
            "Epoch 44/100\n",
            "375/375 [==============================] - 1s 3ms/step - loss: 0.3773 - accuracy: 0.8682 - val_loss: 0.3772 - val_accuracy: 0.8655\n",
            "Epoch 45/100\n",
            "375/375 [==============================] - 1s 3ms/step - loss: 0.3752 - accuracy: 0.8689 - val_loss: 0.3770 - val_accuracy: 0.8661\n",
            "Epoch 46/100\n",
            "375/375 [==============================] - 1s 3ms/step - loss: 0.3745 - accuracy: 0.8679 - val_loss: 0.3748 - val_accuracy: 0.8678\n",
            "Epoch 47/100\n",
            "375/375 [==============================] - 1s 3ms/step - loss: 0.3711 - accuracy: 0.8704 - val_loss: 0.3730 - val_accuracy: 0.8674\n",
            "Epoch 48/100\n",
            "375/375 [==============================] - 1s 3ms/step - loss: 0.3708 - accuracy: 0.8705 - val_loss: 0.3711 - val_accuracy: 0.8687\n",
            "Epoch 49/100\n",
            "375/375 [==============================] - 1s 3ms/step - loss: 0.3696 - accuracy: 0.8687 - val_loss: 0.3706 - val_accuracy: 0.8695\n",
            "Epoch 50/100\n",
            "375/375 [==============================] - 1s 3ms/step - loss: 0.3678 - accuracy: 0.8700 - val_loss: 0.3686 - val_accuracy: 0.8708\n",
            "Epoch 51/100\n",
            "375/375 [==============================] - 1s 3ms/step - loss: 0.3658 - accuracy: 0.8715 - val_loss: 0.3675 - val_accuracy: 0.8698\n",
            "Epoch 52/100\n",
            "375/375 [==============================] - 1s 3ms/step - loss: 0.3633 - accuracy: 0.8737 - val_loss: 0.3672 - val_accuracy: 0.8708\n",
            "Epoch 53/100\n",
            "375/375 [==============================] - 1s 3ms/step - loss: 0.3619 - accuracy: 0.8723 - val_loss: 0.3660 - val_accuracy: 0.8700\n",
            "Epoch 54/100\n",
            "375/375 [==============================] - 1s 3ms/step - loss: 0.3616 - accuracy: 0.8727 - val_loss: 0.3661 - val_accuracy: 0.8682\n",
            "Epoch 55/100\n",
            "375/375 [==============================] - 1s 3ms/step - loss: 0.3589 - accuracy: 0.8735 - val_loss: 0.3637 - val_accuracy: 0.8704\n",
            "Epoch 56/100\n",
            "375/375 [==============================] - 1s 3ms/step - loss: 0.3586 - accuracy: 0.8744 - val_loss: 0.3624 - val_accuracy: 0.8705\n",
            "Epoch 57/100\n",
            "375/375 [==============================] - 1s 3ms/step - loss: 0.3562 - accuracy: 0.8750 - val_loss: 0.3617 - val_accuracy: 0.8710\n",
            "Epoch 58/100\n",
            "375/375 [==============================] - 1s 3ms/step - loss: 0.3564 - accuracy: 0.8755 - val_loss: 0.3602 - val_accuracy: 0.8727\n",
            "Epoch 59/100\n",
            "375/375 [==============================] - 1s 3ms/step - loss: 0.3544 - accuracy: 0.8768 - val_loss: 0.3594 - val_accuracy: 0.8727\n",
            "Epoch 60/100\n",
            "375/375 [==============================] - 1s 3ms/step - loss: 0.3546 - accuracy: 0.8767 - val_loss: 0.3591 - val_accuracy: 0.8731\n",
            "Epoch 61/100\n",
            "375/375 [==============================] - 1s 3ms/step - loss: 0.3514 - accuracy: 0.8772 - val_loss: 0.3578 - val_accuracy: 0.8732\n",
            "Epoch 62/100\n",
            "375/375 [==============================] - 1s 3ms/step - loss: 0.3511 - accuracy: 0.8771 - val_loss: 0.3584 - val_accuracy: 0.8713\n",
            "Epoch 63/100\n",
            "375/375 [==============================] - 1s 3ms/step - loss: 0.3489 - accuracy: 0.8773 - val_loss: 0.3566 - val_accuracy: 0.8722\n",
            "Epoch 64/100\n",
            "375/375 [==============================] - 1s 3ms/step - loss: 0.3484 - accuracy: 0.8780 - val_loss: 0.3570 - val_accuracy: 0.8708\n",
            "Epoch 65/100\n",
            "375/375 [==============================] - 1s 3ms/step - loss: 0.3466 - accuracy: 0.8783 - val_loss: 0.3546 - val_accuracy: 0.8727\n",
            "Epoch 66/100\n",
            "375/375 [==============================] - 1s 3ms/step - loss: 0.3454 - accuracy: 0.8783 - val_loss: 0.3553 - val_accuracy: 0.8745\n",
            "Epoch 67/100\n",
            "375/375 [==============================] - 1s 3ms/step - loss: 0.3432 - accuracy: 0.8796 - val_loss: 0.3525 - val_accuracy: 0.8736\n",
            "Epoch 68/100\n",
            "375/375 [==============================] - 1s 3ms/step - loss: 0.3450 - accuracy: 0.8788 - val_loss: 0.3522 - val_accuracy: 0.8722\n",
            "Epoch 69/100\n",
            "375/375 [==============================] - 1s 3ms/step - loss: 0.3406 - accuracy: 0.8814 - val_loss: 0.3514 - val_accuracy: 0.8729\n",
            "Epoch 70/100\n",
            "375/375 [==============================] - 1s 3ms/step - loss: 0.3406 - accuracy: 0.8807 - val_loss: 0.3503 - val_accuracy: 0.8748\n",
            "Epoch 71/100\n",
            "375/375 [==============================] - 1s 3ms/step - loss: 0.3393 - accuracy: 0.8802 - val_loss: 0.3506 - val_accuracy: 0.8758\n",
            "Epoch 72/100\n",
            "375/375 [==============================] - 1s 3ms/step - loss: 0.3394 - accuracy: 0.8807 - val_loss: 0.3491 - val_accuracy: 0.8746\n",
            "Epoch 73/100\n",
            "375/375 [==============================] - 1s 3ms/step - loss: 0.3368 - accuracy: 0.8813 - val_loss: 0.3480 - val_accuracy: 0.8752\n",
            "Epoch 74/100\n",
            "375/375 [==============================] - 1s 3ms/step - loss: 0.3367 - accuracy: 0.8806 - val_loss: 0.3482 - val_accuracy: 0.8762\n",
            "Epoch 75/100\n",
            "375/375 [==============================] - 1s 3ms/step - loss: 0.3363 - accuracy: 0.8831 - val_loss: 0.3469 - val_accuracy: 0.8759\n",
            "Epoch 76/100\n",
            "375/375 [==============================] - 1s 3ms/step - loss: 0.3338 - accuracy: 0.8824 - val_loss: 0.3479 - val_accuracy: 0.8755\n",
            "Epoch 77/100\n",
            "375/375 [==============================] - 1s 3ms/step - loss: 0.3334 - accuracy: 0.8821 - val_loss: 0.3449 - val_accuracy: 0.8767\n",
            "Epoch 78/100\n",
            "375/375 [==============================] - 1s 3ms/step - loss: 0.3328 - accuracy: 0.8834 - val_loss: 0.3462 - val_accuracy: 0.8745\n",
            "Epoch 79/100\n",
            "375/375 [==============================] - 1s 3ms/step - loss: 0.3307 - accuracy: 0.8829 - val_loss: 0.3437 - val_accuracy: 0.8783\n",
            "Epoch 80/100\n",
            "375/375 [==============================] - 1s 3ms/step - loss: 0.3305 - accuracy: 0.8838 - val_loss: 0.3432 - val_accuracy: 0.8770\n",
            "Epoch 81/100\n",
            "375/375 [==============================] - 1s 3ms/step - loss: 0.3303 - accuracy: 0.8826 - val_loss: 0.3420 - val_accuracy: 0.8777\n",
            "Epoch 82/100\n",
            "375/375 [==============================] - 1s 3ms/step - loss: 0.3283 - accuracy: 0.8849 - val_loss: 0.3419 - val_accuracy: 0.8777\n",
            "Epoch 83/100\n",
            "375/375 [==============================] - 1s 3ms/step - loss: 0.3286 - accuracy: 0.8833 - val_loss: 0.3409 - val_accuracy: 0.8766\n",
            "Epoch 84/100\n",
            "375/375 [==============================] - 1s 3ms/step - loss: 0.3267 - accuracy: 0.8855 - val_loss: 0.3400 - val_accuracy: 0.8787\n",
            "Epoch 85/100\n",
            "375/375 [==============================] - 1s 3ms/step - loss: 0.3261 - accuracy: 0.8854 - val_loss: 0.3402 - val_accuracy: 0.8779\n",
            "Epoch 86/100\n",
            "375/375 [==============================] - 1s 3ms/step - loss: 0.3242 - accuracy: 0.8869 - val_loss: 0.3403 - val_accuracy: 0.8785\n",
            "Epoch 87/100\n",
            "375/375 [==============================] - 1s 3ms/step - loss: 0.3234 - accuracy: 0.8862 - val_loss: 0.3385 - val_accuracy: 0.8780\n",
            "Epoch 88/100\n",
            "375/375 [==============================] - 1s 3ms/step - loss: 0.3232 - accuracy: 0.8869 - val_loss: 0.3376 - val_accuracy: 0.8793\n",
            "Epoch 89/100\n",
            "375/375 [==============================] - 1s 3ms/step - loss: 0.3222 - accuracy: 0.8869 - val_loss: 0.3383 - val_accuracy: 0.8779\n",
            "Epoch 90/100\n",
            "375/375 [==============================] - 1s 3ms/step - loss: 0.3180 - accuracy: 0.8874 - val_loss: 0.3379 - val_accuracy: 0.8796\n",
            "Epoch 91/100\n",
            "375/375 [==============================] - 1s 3ms/step - loss: 0.3202 - accuracy: 0.8876 - val_loss: 0.3368 - val_accuracy: 0.8796\n",
            "Epoch 92/100\n",
            "375/375 [==============================] - 1s 3ms/step - loss: 0.3195 - accuracy: 0.8884 - val_loss: 0.3357 - val_accuracy: 0.8802\n",
            "Epoch 93/100\n",
            "375/375 [==============================] - 1s 3ms/step - loss: 0.3184 - accuracy: 0.8881 - val_loss: 0.3353 - val_accuracy: 0.8800\n",
            "Epoch 94/100\n",
            "375/375 [==============================] - 1s 3ms/step - loss: 0.3170 - accuracy: 0.8884 - val_loss: 0.3350 - val_accuracy: 0.8783\n",
            "Epoch 95/100\n",
            "375/375 [==============================] - 1s 3ms/step - loss: 0.3164 - accuracy: 0.8878 - val_loss: 0.3339 - val_accuracy: 0.8808\n",
            "Epoch 96/100\n",
            "375/375 [==============================] - 1s 3ms/step - loss: 0.3143 - accuracy: 0.8894 - val_loss: 0.3343 - val_accuracy: 0.8805\n",
            "Epoch 97/100\n",
            "375/375 [==============================] - 1s 3ms/step - loss: 0.3140 - accuracy: 0.8883 - val_loss: 0.3330 - val_accuracy: 0.8811\n",
            "Epoch 98/100\n",
            "375/375 [==============================] - 1s 3ms/step - loss: 0.3127 - accuracy: 0.8891 - val_loss: 0.3326 - val_accuracy: 0.8808\n",
            "Epoch 99/100\n",
            "375/375 [==============================] - 1s 3ms/step - loss: 0.3115 - accuracy: 0.8903 - val_loss: 0.3329 - val_accuracy: 0.8816\n",
            "Epoch 100/100\n",
            "375/375 [==============================] - 1s 3ms/step - loss: 0.3115 - accuracy: 0.8897 - val_loss: 0.3322 - val_accuracy: 0.8813\n"
          ]
        }
      ]
    },
    {
      "cell_type": "code",
      "metadata": {
        "colab": {
          "base_uri": "https://localhost:8080/"
        },
        "id": "YUIuX-Kk5ZXS",
        "outputId": "65840fce-1701-4bd9-e674-cdd83561db11"
      },
      "source": [
        "# Checking model summary\n",
        "model3.summary()"
      ],
      "execution_count": null,
      "outputs": [
        {
          "output_type": "stream",
          "name": "stdout",
          "text": [
            "Model: \"mlp_3\"\n",
            "_________________________________________________________________\n",
            "Layer (type)                 Output Shape              Param #   \n",
            "=================================================================\n",
            "dense_layer1 (Dense)         (None, 256)               200960    \n",
            "_________________________________________________________________\n",
            "dropout_layer1 (Dropout)     (None, 256)               0         \n",
            "_________________________________________________________________\n",
            "dense_layer2 (Dense)         (None, 10)                2570      \n",
            "=================================================================\n",
            "Total params: 203,530\n",
            "Trainable params: 203,530\n",
            "Non-trainable params: 0\n",
            "_________________________________________________________________\n"
          ]
        }
      ]
    },
    {
      "cell_type": "code",
      "metadata": {
        "colab": {
          "base_uri": "https://localhost:8080/"
        },
        "id": "yMjEbrwyJsEw",
        "outputId": "e035b239-4371-435d-fe5c-e0d68bdb2878"
      },
      "source": [
        "# Evaluating the model on test dataset\n",
        "model3.evaluate(X_test_norm, y_test_cat, batch_size= 128)"
      ],
      "execution_count": null,
      "outputs": [
        {
          "output_type": "stream",
          "name": "stdout",
          "text": [
            "79/79 [==============================] - 0s 2ms/step - loss: 0.3550 - accuracy: 0.8736\n"
          ]
        },
        {
          "output_type": "execute_result",
          "data": {
            "text/plain": [
              "[0.3550010323524475, 0.8736000061035156]"
            ]
          },
          "metadata": {},
          "execution_count": 24
        }
      ]
    },
    {
      "cell_type": "markdown",
      "metadata": {
        "id": "J_wUkEO56S8Y"
      },
      "source": [
        "After incraesing number of hidden units, losses have been decreased and training, validation and testing accuracy also increased. Next, I'll try with Adam and RMSprop optimizers to check if that improves the model."
      ]
    },
    {
      "cell_type": "markdown",
      "metadata": {
        "id": "UXhoXcRgwO8i"
      },
      "source": [
        "### 5. Building MLP with adam optimizer with all previous configurations"
      ]
    },
    {
      "cell_type": "code",
      "metadata": {
        "colab": {
          "base_uri": "https://localhost:8080/"
        },
        "id": "T0c6ZQQzKicH",
        "outputId": "2f43590a-0d3a-47ae-a6ce-d46f0d528657"
      },
      "source": [
        "# Building MLP with adam optimizer with all previous configurations\n",
        "tf.random.set_seed(42)\n",
        "model4= tf.keras.Sequential(name= 'mlp_4')\n",
        "model4.add(tf.keras.layers.Dense(256, input_shape= (X_train_norm.shape[1],), activation= 'relu', name= 'dense_layer1'))\n",
        "model4.add(tf.keras.layers.Dropout(.3, name= 'dropout_layer1'))\n",
        "model4.add(tf.keras.layers.Dense(10, activation= 'softmax', name= 'dense_layer2'))\n",
        "\n",
        "# Compiling the model\n",
        "model4.compile(optimizer= 'rmsprop', loss= 'categorical_crossentropy', metrics= ['accuracy'])\n",
        "\n",
        "# Training the model\n",
        "history4= model4.fit(X_train_norm, y_train_cat, batch_size= 128, epochs= 100, validation_split= .2)"
      ],
      "execution_count": null,
      "outputs": [
        {
          "output_type": "stream",
          "name": "stdout",
          "text": [
            "375/375 [==============================] - 2s 3ms/step - loss: 0.6187 - accuracy: 0.7827 - val_loss: 0.4447 - val_accuracy: 0.8407\n",
            "Epoch 2/100\n",
            "375/375 [==============================] - 1s 3ms/step - loss: 0.4324 - accuracy: 0.8460 - val_loss: 0.4154 - val_accuracy: 0.8481\n",
            "Epoch 3/100\n",
            "375/375 [==============================] - 1s 3ms/step - loss: 0.3867 - accuracy: 0.8585 - val_loss: 0.3786 - val_accuracy: 0.8633\n",
            "Epoch 4/100\n",
            "375/375 [==============================] - 1s 3ms/step - loss: 0.3621 - accuracy: 0.8683 - val_loss: 0.3515 - val_accuracy: 0.8758\n",
            "Epoch 5/100\n",
            "375/375 [==============================] - 1s 3ms/step - loss: 0.3431 - accuracy: 0.8745 - val_loss: 0.3496 - val_accuracy: 0.8738\n",
            "Epoch 6/100\n",
            "375/375 [==============================] - 1s 3ms/step - loss: 0.3331 - accuracy: 0.8786 - val_loss: 0.3296 - val_accuracy: 0.8831\n",
            "Epoch 7/100\n",
            "375/375 [==============================] - 1s 3ms/step - loss: 0.3208 - accuracy: 0.8832 - val_loss: 0.3401 - val_accuracy: 0.8834\n",
            "Epoch 8/100\n",
            "375/375 [==============================] - 1s 3ms/step - loss: 0.3119 - accuracy: 0.8871 - val_loss: 0.3321 - val_accuracy: 0.8857\n",
            "Epoch 9/100\n",
            "375/375 [==============================] - 1s 3ms/step - loss: 0.2992 - accuracy: 0.8905 - val_loss: 0.3332 - val_accuracy: 0.8808\n",
            "Epoch 10/100\n",
            "375/375 [==============================] - 1s 3ms/step - loss: 0.2941 - accuracy: 0.8931 - val_loss: 0.3220 - val_accuracy: 0.8876\n",
            "Epoch 11/100\n",
            "375/375 [==============================] - 1s 3ms/step - loss: 0.2874 - accuracy: 0.8950 - val_loss: 0.3349 - val_accuracy: 0.8862\n",
            "Epoch 12/100\n",
            "375/375 [==============================] - 1s 3ms/step - loss: 0.2836 - accuracy: 0.8971 - val_loss: 0.3291 - val_accuracy: 0.8883\n",
            "Epoch 13/100\n",
            "375/375 [==============================] - 1s 3ms/step - loss: 0.2735 - accuracy: 0.9000 - val_loss: 0.3353 - val_accuracy: 0.8893\n",
            "Epoch 14/100\n",
            "375/375 [==============================] - 1s 3ms/step - loss: 0.2704 - accuracy: 0.9018 - val_loss: 0.3382 - val_accuracy: 0.8857\n",
            "Epoch 15/100\n",
            "375/375 [==============================] - 1s 3ms/step - loss: 0.2681 - accuracy: 0.9007 - val_loss: 0.3219 - val_accuracy: 0.8882\n",
            "Epoch 16/100\n",
            "375/375 [==============================] - 1s 3ms/step - loss: 0.2623 - accuracy: 0.9050 - val_loss: 0.3179 - val_accuracy: 0.8944\n",
            "Epoch 17/100\n",
            "375/375 [==============================] - 1s 3ms/step - loss: 0.2555 - accuracy: 0.9062 - val_loss: 0.3529 - val_accuracy: 0.8906\n",
            "Epoch 18/100\n",
            "375/375 [==============================] - 1s 3ms/step - loss: 0.2531 - accuracy: 0.9074 - val_loss: 0.3220 - val_accuracy: 0.8934\n",
            "Epoch 19/100\n",
            "375/375 [==============================] - 1s 3ms/step - loss: 0.2497 - accuracy: 0.9088 - val_loss: 0.3276 - val_accuracy: 0.8947\n",
            "Epoch 20/100\n",
            "375/375 [==============================] - 1s 3ms/step - loss: 0.2464 - accuracy: 0.9098 - val_loss: 0.3306 - val_accuracy: 0.8904\n",
            "Epoch 21/100\n",
            "375/375 [==============================] - 1s 3ms/step - loss: 0.2431 - accuracy: 0.9113 - val_loss: 0.3382 - val_accuracy: 0.8913\n",
            "Epoch 22/100\n",
            "375/375 [==============================] - 1s 3ms/step - loss: 0.2404 - accuracy: 0.9129 - val_loss: 0.3360 - val_accuracy: 0.8956\n",
            "Epoch 23/100\n",
            "375/375 [==============================] - 1s 3ms/step - loss: 0.2339 - accuracy: 0.9130 - val_loss: 0.3519 - val_accuracy: 0.8907\n",
            "Epoch 24/100\n",
            "375/375 [==============================] - 1s 3ms/step - loss: 0.2333 - accuracy: 0.9144 - val_loss: 0.3352 - val_accuracy: 0.8953\n",
            "Epoch 25/100\n",
            "375/375 [==============================] - 1s 3ms/step - loss: 0.2260 - accuracy: 0.9180 - val_loss: 0.3314 - val_accuracy: 0.8946\n",
            "Epoch 26/100\n",
            "375/375 [==============================] - 1s 3ms/step - loss: 0.2252 - accuracy: 0.9172 - val_loss: 0.3497 - val_accuracy: 0.8932\n",
            "Epoch 27/100\n",
            "375/375 [==============================] - 1s 3ms/step - loss: 0.2231 - accuracy: 0.9192 - val_loss: 0.3518 - val_accuracy: 0.8917\n",
            "Epoch 28/100\n",
            "375/375 [==============================] - 1s 3ms/step - loss: 0.2183 - accuracy: 0.9207 - val_loss: 0.3650 - val_accuracy: 0.8880\n",
            "Epoch 29/100\n",
            "375/375 [==============================] - 1s 3ms/step - loss: 0.2174 - accuracy: 0.9200 - val_loss: 0.3487 - val_accuracy: 0.8959\n",
            "Epoch 30/100\n",
            "375/375 [==============================] - 1s 3ms/step - loss: 0.2133 - accuracy: 0.9215 - val_loss: 0.3397 - val_accuracy: 0.8967\n",
            "Epoch 31/100\n",
            "375/375 [==============================] - 1s 3ms/step - loss: 0.2125 - accuracy: 0.9219 - val_loss: 0.3650 - val_accuracy: 0.8923\n",
            "Epoch 32/100\n",
            "375/375 [==============================] - 1s 3ms/step - loss: 0.2131 - accuracy: 0.9225 - val_loss: 0.3481 - val_accuracy: 0.8964\n",
            "Epoch 33/100\n",
            "375/375 [==============================] - 1s 3ms/step - loss: 0.2059 - accuracy: 0.9246 - val_loss: 0.3489 - val_accuracy: 0.8972\n",
            "Epoch 34/100\n",
            "375/375 [==============================] - 1s 3ms/step - loss: 0.2077 - accuracy: 0.9242 - val_loss: 0.3666 - val_accuracy: 0.8946\n",
            "Epoch 35/100\n",
            "375/375 [==============================] - 1s 3ms/step - loss: 0.2043 - accuracy: 0.9241 - val_loss: 0.3694 - val_accuracy: 0.8917\n",
            "Epoch 36/100\n",
            "375/375 [==============================] - 1s 3ms/step - loss: 0.2005 - accuracy: 0.9257 - val_loss: 0.3727 - val_accuracy: 0.8942\n",
            "Epoch 37/100\n",
            "375/375 [==============================] - 1s 3ms/step - loss: 0.1992 - accuracy: 0.9273 - val_loss: 0.3661 - val_accuracy: 0.8954\n",
            "Epoch 38/100\n",
            "375/375 [==============================] - 1s 3ms/step - loss: 0.1970 - accuracy: 0.9276 - val_loss: 0.3739 - val_accuracy: 0.8963\n",
            "Epoch 39/100\n",
            "375/375 [==============================] - 1s 3ms/step - loss: 0.1941 - accuracy: 0.9290 - val_loss: 0.3711 - val_accuracy: 0.8988\n",
            "Epoch 40/100\n",
            "375/375 [==============================] - 1s 3ms/step - loss: 0.1917 - accuracy: 0.9298 - val_loss: 0.3618 - val_accuracy: 0.8969\n",
            "Epoch 41/100\n",
            "375/375 [==============================] - 1s 3ms/step - loss: 0.1898 - accuracy: 0.9311 - val_loss: 0.3793 - val_accuracy: 0.8931\n",
            "Epoch 42/100\n",
            "375/375 [==============================] - 1s 3ms/step - loss: 0.1876 - accuracy: 0.9313 - val_loss: 0.3693 - val_accuracy: 0.8986\n",
            "Epoch 43/100\n",
            "375/375 [==============================] - 1s 3ms/step - loss: 0.1881 - accuracy: 0.9323 - val_loss: 0.4039 - val_accuracy: 0.8917\n",
            "Epoch 44/100\n",
            "375/375 [==============================] - 1s 3ms/step - loss: 0.1891 - accuracy: 0.9306 - val_loss: 0.3871 - val_accuracy: 0.8947\n",
            "Epoch 45/100\n",
            "375/375 [==============================] - 1s 3ms/step - loss: 0.1853 - accuracy: 0.9326 - val_loss: 0.3816 - val_accuracy: 0.8931\n",
            "Epoch 46/100\n",
            "375/375 [==============================] - 1s 3ms/step - loss: 0.1867 - accuracy: 0.9330 - val_loss: 0.4191 - val_accuracy: 0.8923\n",
            "Epoch 47/100\n",
            "375/375 [==============================] - 1s 3ms/step - loss: 0.1825 - accuracy: 0.9334 - val_loss: 0.3989 - val_accuracy: 0.8920\n",
            "Epoch 48/100\n",
            "375/375 [==============================] - 1s 3ms/step - loss: 0.1789 - accuracy: 0.9354 - val_loss: 0.4026 - val_accuracy: 0.8972\n",
            "Epoch 49/100\n",
            "375/375 [==============================] - 1s 3ms/step - loss: 0.1779 - accuracy: 0.9358 - val_loss: 0.4028 - val_accuracy: 0.8961\n",
            "Epoch 50/100\n",
            "375/375 [==============================] - 1s 3ms/step - loss: 0.1768 - accuracy: 0.9356 - val_loss: 0.4200 - val_accuracy: 0.8946\n",
            "Epoch 51/100\n",
            "375/375 [==============================] - 1s 3ms/step - loss: 0.1733 - accuracy: 0.9372 - val_loss: 0.4073 - val_accuracy: 0.8967\n",
            "Epoch 52/100\n",
            "375/375 [==============================] - 1s 3ms/step - loss: 0.1763 - accuracy: 0.9360 - val_loss: 0.4091 - val_accuracy: 0.8938\n",
            "Epoch 53/100\n",
            "375/375 [==============================] - 1s 3ms/step - loss: 0.1699 - accuracy: 0.9367 - val_loss: 0.4197 - val_accuracy: 0.8955\n",
            "Epoch 54/100\n",
            "375/375 [==============================] - 1s 3ms/step - loss: 0.1719 - accuracy: 0.9374 - val_loss: 0.4595 - val_accuracy: 0.8827\n",
            "Epoch 55/100\n",
            "375/375 [==============================] - 1s 3ms/step - loss: 0.1715 - accuracy: 0.9384 - val_loss: 0.4282 - val_accuracy: 0.8975\n",
            "Epoch 56/100\n",
            "375/375 [==============================] - 1s 3ms/step - loss: 0.1645 - accuracy: 0.9405 - val_loss: 0.4384 - val_accuracy: 0.8958\n",
            "Epoch 57/100\n",
            "375/375 [==============================] - 1s 3ms/step - loss: 0.1701 - accuracy: 0.9400 - val_loss: 0.4590 - val_accuracy: 0.8961\n",
            "Epoch 58/100\n",
            "375/375 [==============================] - 1s 3ms/step - loss: 0.1669 - accuracy: 0.9404 - val_loss: 0.4570 - val_accuracy: 0.8952\n",
            "Epoch 59/100\n",
            "375/375 [==============================] - 1s 3ms/step - loss: 0.1625 - accuracy: 0.9417 - val_loss: 0.4225 - val_accuracy: 0.8993\n",
            "Epoch 60/100\n",
            "375/375 [==============================] - 1s 3ms/step - loss: 0.1636 - accuracy: 0.9406 - val_loss: 0.4628 - val_accuracy: 0.8960\n",
            "Epoch 61/100\n",
            "375/375 [==============================] - 1s 3ms/step - loss: 0.1651 - accuracy: 0.9417 - val_loss: 0.4225 - val_accuracy: 0.8992\n",
            "Epoch 62/100\n",
            "375/375 [==============================] - 1s 3ms/step - loss: 0.1640 - accuracy: 0.9408 - val_loss: 0.4484 - val_accuracy: 0.8966\n",
            "Epoch 63/100\n",
            "375/375 [==============================] - 1s 3ms/step - loss: 0.1648 - accuracy: 0.9402 - val_loss: 0.4670 - val_accuracy: 0.8942\n",
            "Epoch 64/100\n",
            "375/375 [==============================] - 1s 3ms/step - loss: 0.1597 - accuracy: 0.9412 - val_loss: 0.4356 - val_accuracy: 0.8966\n",
            "Epoch 65/100\n",
            "375/375 [==============================] - 1s 3ms/step - loss: 0.1582 - accuracy: 0.9436 - val_loss: 0.4566 - val_accuracy: 0.8967\n",
            "Epoch 66/100\n",
            "375/375 [==============================] - 1s 3ms/step - loss: 0.1572 - accuracy: 0.9445 - val_loss: 0.4441 - val_accuracy: 0.8977\n",
            "Epoch 67/100\n",
            "375/375 [==============================] - 1s 3ms/step - loss: 0.1578 - accuracy: 0.9427 - val_loss: 0.4724 - val_accuracy: 0.8963\n",
            "Epoch 68/100\n",
            "375/375 [==============================] - 1s 3ms/step - loss: 0.1556 - accuracy: 0.9433 - val_loss: 0.4788 - val_accuracy: 0.8972\n",
            "Epoch 69/100\n",
            "375/375 [==============================] - 1s 3ms/step - loss: 0.1544 - accuracy: 0.9451 - val_loss: 0.4900 - val_accuracy: 0.8968\n",
            "Epoch 70/100\n",
            "375/375 [==============================] - 1s 3ms/step - loss: 0.1530 - accuracy: 0.9455 - val_loss: 0.4623 - val_accuracy: 0.8959\n",
            "Epoch 71/100\n",
            "375/375 [==============================] - 1s 3ms/step - loss: 0.1514 - accuracy: 0.9463 - val_loss: 0.4840 - val_accuracy: 0.8940\n",
            "Epoch 72/100\n",
            "375/375 [==============================] - 1s 3ms/step - loss: 0.1502 - accuracy: 0.9457 - val_loss: 0.4960 - val_accuracy: 0.8959\n",
            "Epoch 73/100\n",
            "375/375 [==============================] - 1s 3ms/step - loss: 0.1524 - accuracy: 0.9465 - val_loss: 0.5222 - val_accuracy: 0.8954\n",
            "Epoch 74/100\n",
            "375/375 [==============================] - 1s 3ms/step - loss: 0.1495 - accuracy: 0.9469 - val_loss: 0.4721 - val_accuracy: 0.8962\n",
            "Epoch 75/100\n",
            "375/375 [==============================] - 1s 3ms/step - loss: 0.1533 - accuracy: 0.9458 - val_loss: 0.4651 - val_accuracy: 0.8973\n",
            "Epoch 76/100\n",
            "375/375 [==============================] - 1s 3ms/step - loss: 0.1449 - accuracy: 0.9475 - val_loss: 0.4828 - val_accuracy: 0.8955\n",
            "Epoch 77/100\n",
            "375/375 [==============================] - 1s 3ms/step - loss: 0.1452 - accuracy: 0.9498 - val_loss: 0.5006 - val_accuracy: 0.8964\n",
            "Epoch 78/100\n",
            "375/375 [==============================] - 1s 3ms/step - loss: 0.1469 - accuracy: 0.9478 - val_loss: 0.5079 - val_accuracy: 0.8935\n",
            "Epoch 79/100\n",
            "375/375 [==============================] - 1s 3ms/step - loss: 0.1438 - accuracy: 0.9486 - val_loss: 0.5015 - val_accuracy: 0.8955\n",
            "Epoch 80/100\n",
            "375/375 [==============================] - 1s 3ms/step - loss: 0.1430 - accuracy: 0.9482 - val_loss: 0.4857 - val_accuracy: 0.8974\n",
            "Epoch 81/100\n",
            "375/375 [==============================] - 1s 3ms/step - loss: 0.1392 - accuracy: 0.9503 - val_loss: 0.5209 - val_accuracy: 0.8935\n",
            "Epoch 82/100\n",
            "375/375 [==============================] - 1s 3ms/step - loss: 0.1414 - accuracy: 0.9488 - val_loss: 0.5133 - val_accuracy: 0.8972\n",
            "Epoch 83/100\n",
            "375/375 [==============================] - 1s 3ms/step - loss: 0.1416 - accuracy: 0.9502 - val_loss: 0.5125 - val_accuracy: 0.8978\n",
            "Epoch 84/100\n",
            "375/375 [==============================] - 1s 3ms/step - loss: 0.1441 - accuracy: 0.9495 - val_loss: 0.5051 - val_accuracy: 0.8959\n",
            "Epoch 85/100\n",
            "375/375 [==============================] - 1s 3ms/step - loss: 0.1409 - accuracy: 0.9504 - val_loss: 0.5475 - val_accuracy: 0.8904\n",
            "Epoch 86/100\n",
            "375/375 [==============================] - 1s 3ms/step - loss: 0.1412 - accuracy: 0.9500 - val_loss: 0.5205 - val_accuracy: 0.8966\n",
            "Epoch 87/100\n",
            "375/375 [==============================] - 1s 3ms/step - loss: 0.1399 - accuracy: 0.9513 - val_loss: 0.5390 - val_accuracy: 0.8982\n",
            "Epoch 88/100\n",
            "375/375 [==============================] - 1s 3ms/step - loss: 0.1394 - accuracy: 0.9517 - val_loss: 0.5160 - val_accuracy: 0.8989\n",
            "Epoch 89/100\n",
            "375/375 [==============================] - 1s 3ms/step - loss: 0.1399 - accuracy: 0.9501 - val_loss: 0.5677 - val_accuracy: 0.8947\n",
            "Epoch 90/100\n",
            "375/375 [==============================] - 1s 3ms/step - loss: 0.1355 - accuracy: 0.9524 - val_loss: 0.5771 - val_accuracy: 0.8937\n",
            "Epoch 91/100\n",
            "375/375 [==============================] - 1s 3ms/step - loss: 0.1389 - accuracy: 0.9519 - val_loss: 0.5292 - val_accuracy: 0.8952\n",
            "Epoch 92/100\n",
            "375/375 [==============================] - 1s 3ms/step - loss: 0.1404 - accuracy: 0.9508 - val_loss: 0.5360 - val_accuracy: 0.8947\n",
            "Epoch 93/100\n",
            "375/375 [==============================] - 1s 3ms/step - loss: 0.1379 - accuracy: 0.9516 - val_loss: 0.5577 - val_accuracy: 0.8942\n",
            "Epoch 94/100\n",
            "375/375 [==============================] - 1s 3ms/step - loss: 0.1342 - accuracy: 0.9539 - val_loss: 0.5578 - val_accuracy: 0.8983\n",
            "Epoch 95/100\n",
            "375/375 [==============================] - 1s 3ms/step - loss: 0.1328 - accuracy: 0.9526 - val_loss: 0.5690 - val_accuracy: 0.8946\n",
            "Epoch 96/100\n",
            "375/375 [==============================] - 1s 3ms/step - loss: 0.1311 - accuracy: 0.9531 - val_loss: 0.5553 - val_accuracy: 0.8949\n",
            "Epoch 97/100\n",
            "375/375 [==============================] - 1s 3ms/step - loss: 0.1304 - accuracy: 0.9527 - val_loss: 0.5383 - val_accuracy: 0.8969\n",
            "Epoch 98/100\n",
            "375/375 [==============================] - 1s 3ms/step - loss: 0.1299 - accuracy: 0.9543 - val_loss: 0.5968 - val_accuracy: 0.8948\n",
            "Epoch 99/100\n",
            "375/375 [==============================] - 1s 3ms/step - loss: 0.1306 - accuracy: 0.9551 - val_loss: 0.6030 - val_accuracy: 0.8938\n",
            "Epoch 100/100\n",
            "375/375 [==============================] - 1s 3ms/step - loss: 0.1311 - accuracy: 0.9539 - val_loss: 0.5705 - val_accuracy: 0.8955\n"
          ]
        }
      ]
    },
    {
      "cell_type": "code",
      "metadata": {
        "colab": {
          "base_uri": "https://localhost:8080/"
        },
        "id": "K-rMPRLe5Zrc",
        "outputId": "e216abd2-1e1e-469c-86c0-36780a0877c4"
      },
      "source": [
        "# Checking model summary\n",
        "model4.summary()"
      ],
      "execution_count": null,
      "outputs": [
        {
          "name": "stdout",
          "output_type": "stream",
          "text": [
            "Model: \"mlp_4\"\n",
            "_________________________________________________________________\n",
            "Layer (type)                 Output Shape              Param #   \n",
            "=================================================================\n",
            "dense_layer1 (Dense)         (None, 64)                50240     \n",
            "_________________________________________________________________\n",
            "dropout_layer1 (Dropout)     (None, 64)                0         \n",
            "_________________________________________________________________\n",
            "dense_layer2 (Dense)         (None, 10)                650       \n",
            "=================================================================\n",
            "Total params: 50,890\n",
            "Trainable params: 50,890\n",
            "Non-trainable params: 0\n",
            "_________________________________________________________________\n"
          ]
        }
      ]
    },
    {
      "cell_type": "code",
      "metadata": {
        "colab": {
          "base_uri": "https://localhost:8080/"
        },
        "id": "7HUtqN6w72EN",
        "outputId": "467c27ec-2a30-47cb-c183-828343ff8cfe"
      },
      "source": [
        "# Evaluating the model on test dataset\n",
        "model4.evaluate(X_test_norm, y_test_cat, batch_size= 128)"
      ],
      "execution_count": null,
      "outputs": [
        {
          "output_type": "stream",
          "name": "stdout",
          "text": [
            "79/79 [==============================] - 0s 2ms/step - loss: 0.6423 - accuracy: 0.8899\n"
          ]
        },
        {
          "output_type": "execute_result",
          "data": {
            "text/plain": [
              "[0.6423174142837524, 0.8899000287055969]"
            ]
          },
          "metadata": {},
          "execution_count": 26
        }
      ]
    },
    {
      "cell_type": "markdown",
      "metadata": {
        "id": "fLNslqox83Wc"
      },
      "source": [
        "After using RMSprop as optimizer, accuracy improved a in trainng, validation and as well as in testing. But difference between training and testing loss has been increased. Looks like model is started to overfit. Let's check with Adam optimizer, then we'll again address the issue of overfitting."
      ]
    },
    {
      "cell_type": "markdown",
      "metadata": {
        "id": "MxNBZZwqwV9Z"
      },
      "source": [
        "### 6. Building MLP with adam optimizer with all previous configurations"
      ]
    },
    {
      "cell_type": "code",
      "metadata": {
        "colab": {
          "base_uri": "https://localhost:8080/"
        },
        "id": "YNad6XGSLCcT",
        "outputId": "cd5d9bfc-277d-4eb8-b606-47218e7ffccd"
      },
      "source": [
        "# Building MLP with adam optimizer with all previous configurations\n",
        "tf.random.set_seed(42)\n",
        "model5= tf.keras.Sequential(name= 'mlp_5')\n",
        "model5.add(tf.keras.layers.Dense(256, input_shape= (X_train_norm.shape[1],), activation= 'relu', name= 'dense_layer1'))\n",
        "model5.add(tf.keras.layers.Dropout(.3, name= 'dropout_layer1'))\n",
        "model5.add(tf.keras.layers.Dense(10, activation= 'softmax', name= 'dense_layer2'))\n",
        "\n",
        "# Compiling the model\n",
        "model5.compile(optimizer= 'adam', loss= 'categorical_crossentropy', metrics= ['accuracy'])\n",
        "\n",
        "# Training the model\n",
        "history5= model5.fit(X_train_norm, y_train_cat, batch_size= 128, epochs= 100, validation_split= .2)"
      ],
      "execution_count": null,
      "outputs": [
        {
          "output_type": "stream",
          "name": "stdout",
          "text": [
            "Epoch 1/100\n",
            "375/375 [==============================] - 2s 3ms/step - loss: 0.6030 - accuracy: 0.7897 - val_loss: 0.4494 - val_accuracy: 0.8397\n",
            "Epoch 2/100\n",
            "375/375 [==============================] - 1s 3ms/step - loss: 0.4276 - accuracy: 0.8490 - val_loss: 0.3892 - val_accuracy: 0.8578\n",
            "Epoch 3/100\n",
            "375/375 [==============================] - 1s 3ms/step - loss: 0.3859 - accuracy: 0.8606 - val_loss: 0.3686 - val_accuracy: 0.8658\n",
            "Epoch 4/100\n",
            "375/375 [==============================] - 1s 3ms/step - loss: 0.3599 - accuracy: 0.8707 - val_loss: 0.3582 - val_accuracy: 0.8701\n",
            "Epoch 5/100\n",
            "375/375 [==============================] - 1s 3ms/step - loss: 0.3455 - accuracy: 0.8744 - val_loss: 0.3455 - val_accuracy: 0.8774\n",
            "Epoch 6/100\n",
            "375/375 [==============================] - 1s 3ms/step - loss: 0.3280 - accuracy: 0.8795 - val_loss: 0.3257 - val_accuracy: 0.8842\n",
            "Epoch 7/100\n",
            "375/375 [==============================] - 1s 3ms/step - loss: 0.3188 - accuracy: 0.8828 - val_loss: 0.3202 - val_accuracy: 0.8863\n",
            "Epoch 8/100\n",
            "375/375 [==============================] - 1s 3ms/step - loss: 0.3074 - accuracy: 0.8873 - val_loss: 0.3290 - val_accuracy: 0.8828\n",
            "Epoch 9/100\n",
            "375/375 [==============================] - 1s 3ms/step - loss: 0.2987 - accuracy: 0.8905 - val_loss: 0.3154 - val_accuracy: 0.8864\n",
            "Epoch 10/100\n",
            "375/375 [==============================] - 1s 3ms/step - loss: 0.2911 - accuracy: 0.8934 - val_loss: 0.3177 - val_accuracy: 0.8864\n",
            "Epoch 11/100\n",
            "375/375 [==============================] - 1s 3ms/step - loss: 0.2842 - accuracy: 0.8947 - val_loss: 0.3096 - val_accuracy: 0.8892\n",
            "Epoch 12/100\n",
            "375/375 [==============================] - 1s 3ms/step - loss: 0.2762 - accuracy: 0.8979 - val_loss: 0.3055 - val_accuracy: 0.8897\n",
            "Epoch 13/100\n",
            "375/375 [==============================] - 1s 3ms/step - loss: 0.2683 - accuracy: 0.9014 - val_loss: 0.3119 - val_accuracy: 0.8868\n",
            "Epoch 14/100\n",
            "375/375 [==============================] - 1s 3ms/step - loss: 0.2640 - accuracy: 0.9026 - val_loss: 0.3066 - val_accuracy: 0.8902\n",
            "Epoch 15/100\n",
            "375/375 [==============================] - 1s 3ms/step - loss: 0.2611 - accuracy: 0.9042 - val_loss: 0.3028 - val_accuracy: 0.8912\n",
            "Epoch 16/100\n",
            "375/375 [==============================] - 1s 3ms/step - loss: 0.2538 - accuracy: 0.9058 - val_loss: 0.3002 - val_accuracy: 0.8908\n",
            "Epoch 17/100\n",
            "375/375 [==============================] - 1s 3ms/step - loss: 0.2485 - accuracy: 0.9077 - val_loss: 0.3063 - val_accuracy: 0.8903\n",
            "Epoch 18/100\n",
            "375/375 [==============================] - 1s 3ms/step - loss: 0.2432 - accuracy: 0.9097 - val_loss: 0.3006 - val_accuracy: 0.8938\n",
            "Epoch 19/100\n",
            "375/375 [==============================] - 1s 3ms/step - loss: 0.2402 - accuracy: 0.9105 - val_loss: 0.3062 - val_accuracy: 0.8901\n",
            "Epoch 20/100\n",
            "375/375 [==============================] - 1s 3ms/step - loss: 0.2360 - accuracy: 0.9104 - val_loss: 0.3014 - val_accuracy: 0.8932\n",
            "Epoch 21/100\n",
            "375/375 [==============================] - 1s 3ms/step - loss: 0.2336 - accuracy: 0.9122 - val_loss: 0.2962 - val_accuracy: 0.8934\n",
            "Epoch 22/100\n",
            "375/375 [==============================] - 1s 3ms/step - loss: 0.2286 - accuracy: 0.9136 - val_loss: 0.3027 - val_accuracy: 0.8953\n",
            "Epoch 23/100\n",
            "375/375 [==============================] - 1s 3ms/step - loss: 0.2210 - accuracy: 0.9163 - val_loss: 0.3081 - val_accuracy: 0.8928\n",
            "Epoch 24/100\n",
            "375/375 [==============================] - 1s 3ms/step - loss: 0.2195 - accuracy: 0.9186 - val_loss: 0.2971 - val_accuracy: 0.8953\n",
            "Epoch 25/100\n",
            "375/375 [==============================] - 1s 3ms/step - loss: 0.2156 - accuracy: 0.9182 - val_loss: 0.2996 - val_accuracy: 0.8955\n",
            "Epoch 26/100\n",
            "375/375 [==============================] - 1s 3ms/step - loss: 0.2119 - accuracy: 0.9202 - val_loss: 0.3112 - val_accuracy: 0.8951\n",
            "Epoch 27/100\n",
            "375/375 [==============================] - 1s 3ms/step - loss: 0.2105 - accuracy: 0.9200 - val_loss: 0.2988 - val_accuracy: 0.8976\n",
            "Epoch 28/100\n",
            "375/375 [==============================] - 1s 3ms/step - loss: 0.2054 - accuracy: 0.9218 - val_loss: 0.3099 - val_accuracy: 0.8904\n",
            "Epoch 29/100\n",
            "375/375 [==============================] - 1s 3ms/step - loss: 0.2036 - accuracy: 0.9228 - val_loss: 0.3051 - val_accuracy: 0.8967\n",
            "Epoch 30/100\n",
            "375/375 [==============================] - 1s 3ms/step - loss: 0.2031 - accuracy: 0.9242 - val_loss: 0.3087 - val_accuracy: 0.8927\n",
            "Epoch 31/100\n",
            "375/375 [==============================] - 1s 3ms/step - loss: 0.2001 - accuracy: 0.9244 - val_loss: 0.3058 - val_accuracy: 0.8967\n",
            "Epoch 32/100\n",
            "375/375 [==============================] - 1s 3ms/step - loss: 0.1927 - accuracy: 0.9279 - val_loss: 0.3060 - val_accuracy: 0.8955\n",
            "Epoch 33/100\n",
            "375/375 [==============================] - 1s 3ms/step - loss: 0.1975 - accuracy: 0.9248 - val_loss: 0.3032 - val_accuracy: 0.8984\n",
            "Epoch 34/100\n",
            "375/375 [==============================] - 1s 3ms/step - loss: 0.1911 - accuracy: 0.9284 - val_loss: 0.3109 - val_accuracy: 0.8968\n",
            "Epoch 35/100\n",
            "375/375 [==============================] - 1s 3ms/step - loss: 0.1878 - accuracy: 0.9279 - val_loss: 0.3081 - val_accuracy: 0.8967\n",
            "Epoch 36/100\n",
            "375/375 [==============================] - 1s 3ms/step - loss: 0.1879 - accuracy: 0.9281 - val_loss: 0.3135 - val_accuracy: 0.8954\n",
            "Epoch 37/100\n",
            "375/375 [==============================] - 1s 3ms/step - loss: 0.1826 - accuracy: 0.9306 - val_loss: 0.3158 - val_accuracy: 0.8944\n",
            "Epoch 38/100\n",
            "375/375 [==============================] - 1s 3ms/step - loss: 0.1813 - accuracy: 0.9310 - val_loss: 0.3113 - val_accuracy: 0.8972\n",
            "Epoch 39/100\n",
            "375/375 [==============================] - 1s 3ms/step - loss: 0.1750 - accuracy: 0.9340 - val_loss: 0.3130 - val_accuracy: 0.8973\n",
            "Epoch 40/100\n",
            "375/375 [==============================] - 1s 3ms/step - loss: 0.1754 - accuracy: 0.9331 - val_loss: 0.3128 - val_accuracy: 0.8959\n",
            "Epoch 41/100\n",
            "375/375 [==============================] - 1s 3ms/step - loss: 0.1739 - accuracy: 0.9348 - val_loss: 0.3100 - val_accuracy: 0.8970\n",
            "Epoch 42/100\n",
            "375/375 [==============================] - 1s 3ms/step - loss: 0.1726 - accuracy: 0.9346 - val_loss: 0.3069 - val_accuracy: 0.8992\n",
            "Epoch 43/100\n",
            "375/375 [==============================] - 1s 3ms/step - loss: 0.1686 - accuracy: 0.9370 - val_loss: 0.3146 - val_accuracy: 0.8979\n",
            "Epoch 44/100\n",
            "375/375 [==============================] - 1s 3ms/step - loss: 0.1683 - accuracy: 0.9366 - val_loss: 0.3217 - val_accuracy: 0.8973\n",
            "Epoch 45/100\n",
            "375/375 [==============================] - 1s 3ms/step - loss: 0.1680 - accuracy: 0.9356 - val_loss: 0.3201 - val_accuracy: 0.8970\n",
            "Epoch 46/100\n",
            "375/375 [==============================] - 1s 3ms/step - loss: 0.1637 - accuracy: 0.9379 - val_loss: 0.3271 - val_accuracy: 0.9003\n",
            "Epoch 47/100\n",
            "375/375 [==============================] - 1s 3ms/step - loss: 0.1633 - accuracy: 0.9388 - val_loss: 0.3240 - val_accuracy: 0.8948\n",
            "Epoch 48/100\n",
            "375/375 [==============================] - 1s 3ms/step - loss: 0.1607 - accuracy: 0.9391 - val_loss: 0.3219 - val_accuracy: 0.8950\n",
            "Epoch 49/100\n",
            "375/375 [==============================] - 1s 3ms/step - loss: 0.1580 - accuracy: 0.9408 - val_loss: 0.3266 - val_accuracy: 0.8988\n",
            "Epoch 50/100\n",
            "375/375 [==============================] - 1s 3ms/step - loss: 0.1573 - accuracy: 0.9391 - val_loss: 0.3275 - val_accuracy: 0.8997\n",
            "Epoch 51/100\n",
            "375/375 [==============================] - 1s 3ms/step - loss: 0.1556 - accuracy: 0.9413 - val_loss: 0.3307 - val_accuracy: 0.8978\n",
            "Epoch 52/100\n",
            "375/375 [==============================] - 1s 3ms/step - loss: 0.1530 - accuracy: 0.9418 - val_loss: 0.3254 - val_accuracy: 0.8975\n",
            "Epoch 53/100\n",
            "375/375 [==============================] - 1s 3ms/step - loss: 0.1554 - accuracy: 0.9412 - val_loss: 0.3323 - val_accuracy: 0.9012\n",
            "Epoch 54/100\n",
            "375/375 [==============================] - 1s 3ms/step - loss: 0.1480 - accuracy: 0.9437 - val_loss: 0.3389 - val_accuracy: 0.8959\n",
            "Epoch 55/100\n",
            "375/375 [==============================] - 1s 3ms/step - loss: 0.1548 - accuracy: 0.9410 - val_loss: 0.3323 - val_accuracy: 0.9003\n",
            "Epoch 56/100\n",
            "375/375 [==============================] - 1s 3ms/step - loss: 0.1477 - accuracy: 0.9434 - val_loss: 0.3425 - val_accuracy: 0.9015\n",
            "Epoch 57/100\n",
            "375/375 [==============================] - 1s 3ms/step - loss: 0.1457 - accuracy: 0.9438 - val_loss: 0.3398 - val_accuracy: 0.9009\n",
            "Epoch 58/100\n",
            "375/375 [==============================] - 1s 3ms/step - loss: 0.1419 - accuracy: 0.9462 - val_loss: 0.3405 - val_accuracy: 0.9011\n",
            "Epoch 59/100\n",
            "375/375 [==============================] - 1s 3ms/step - loss: 0.1437 - accuracy: 0.9456 - val_loss: 0.3467 - val_accuracy: 0.8980\n",
            "Epoch 60/100\n",
            "375/375 [==============================] - 1s 3ms/step - loss: 0.1421 - accuracy: 0.9453 - val_loss: 0.3502 - val_accuracy: 0.8978\n",
            "Epoch 61/100\n",
            "375/375 [==============================] - 1s 3ms/step - loss: 0.1443 - accuracy: 0.9449 - val_loss: 0.3396 - val_accuracy: 0.8988\n",
            "Epoch 62/100\n",
            "375/375 [==============================] - 1s 3ms/step - loss: 0.1416 - accuracy: 0.9452 - val_loss: 0.3399 - val_accuracy: 0.8992\n",
            "Epoch 63/100\n",
            "375/375 [==============================] - 1s 3ms/step - loss: 0.1377 - accuracy: 0.9469 - val_loss: 0.3484 - val_accuracy: 0.8993\n",
            "Epoch 64/100\n",
            "375/375 [==============================] - 1s 3ms/step - loss: 0.1373 - accuracy: 0.9472 - val_loss: 0.3446 - val_accuracy: 0.8986\n",
            "Epoch 65/100\n",
            "375/375 [==============================] - 1s 3ms/step - loss: 0.1376 - accuracy: 0.9478 - val_loss: 0.3474 - val_accuracy: 0.8992\n",
            "Epoch 66/100\n",
            "375/375 [==============================] - 1s 3ms/step - loss: 0.1328 - accuracy: 0.9497 - val_loss: 0.3567 - val_accuracy: 0.8982\n",
            "Epoch 67/100\n",
            "375/375 [==============================] - 1s 3ms/step - loss: 0.1326 - accuracy: 0.9487 - val_loss: 0.3600 - val_accuracy: 0.8984\n",
            "Epoch 68/100\n",
            "375/375 [==============================] - 1s 3ms/step - loss: 0.1293 - accuracy: 0.9506 - val_loss: 0.3521 - val_accuracy: 0.9018\n",
            "Epoch 69/100\n",
            "375/375 [==============================] - 1s 3ms/step - loss: 0.1311 - accuracy: 0.9490 - val_loss: 0.3665 - val_accuracy: 0.8979\n",
            "Epoch 70/100\n",
            "375/375 [==============================] - 1s 3ms/step - loss: 0.1295 - accuracy: 0.9505 - val_loss: 0.3502 - val_accuracy: 0.8998\n",
            "Epoch 71/100\n",
            "375/375 [==============================] - 1s 3ms/step - loss: 0.1274 - accuracy: 0.9509 - val_loss: 0.3558 - val_accuracy: 0.8995\n",
            "Epoch 72/100\n",
            "375/375 [==============================] - 1s 3ms/step - loss: 0.1280 - accuracy: 0.9507 - val_loss: 0.3642 - val_accuracy: 0.8998\n",
            "Epoch 73/100\n",
            "375/375 [==============================] - 1s 3ms/step - loss: 0.1274 - accuracy: 0.9513 - val_loss: 0.3697 - val_accuracy: 0.9011\n",
            "Epoch 74/100\n",
            "375/375 [==============================] - 1s 3ms/step - loss: 0.1263 - accuracy: 0.9515 - val_loss: 0.3619 - val_accuracy: 0.8972\n",
            "Epoch 75/100\n",
            "375/375 [==============================] - 1s 3ms/step - loss: 0.1263 - accuracy: 0.9517 - val_loss: 0.3860 - val_accuracy: 0.8942\n",
            "Epoch 76/100\n",
            "375/375 [==============================] - 1s 3ms/step - loss: 0.1229 - accuracy: 0.9522 - val_loss: 0.3773 - val_accuracy: 0.8999\n",
            "Epoch 77/100\n",
            "375/375 [==============================] - 1s 3ms/step - loss: 0.1238 - accuracy: 0.9537 - val_loss: 0.3792 - val_accuracy: 0.8998\n",
            "Epoch 78/100\n",
            "375/375 [==============================] - 1s 3ms/step - loss: 0.1236 - accuracy: 0.9530 - val_loss: 0.3648 - val_accuracy: 0.8993\n",
            "Epoch 79/100\n",
            "375/375 [==============================] - 1s 3ms/step - loss: 0.1239 - accuracy: 0.9535 - val_loss: 0.3826 - val_accuracy: 0.8982\n",
            "Epoch 80/100\n",
            "375/375 [==============================] - 1s 3ms/step - loss: 0.1220 - accuracy: 0.9531 - val_loss: 0.3797 - val_accuracy: 0.9010\n",
            "Epoch 81/100\n",
            "375/375 [==============================] - 1s 3ms/step - loss: 0.1209 - accuracy: 0.9531 - val_loss: 0.3786 - val_accuracy: 0.8969\n",
            "Epoch 82/100\n",
            "375/375 [==============================] - 1s 3ms/step - loss: 0.1150 - accuracy: 0.9554 - val_loss: 0.3792 - val_accuracy: 0.8991\n",
            "Epoch 83/100\n",
            "375/375 [==============================] - 1s 3ms/step - loss: 0.1155 - accuracy: 0.9558 - val_loss: 0.3683 - val_accuracy: 0.8975\n",
            "Epoch 84/100\n",
            "375/375 [==============================] - 1s 3ms/step - loss: 0.1160 - accuracy: 0.9555 - val_loss: 0.3877 - val_accuracy: 0.8997\n",
            "Epoch 85/100\n",
            "375/375 [==============================] - 1s 3ms/step - loss: 0.1159 - accuracy: 0.9550 - val_loss: 0.3974 - val_accuracy: 0.8986\n",
            "Epoch 86/100\n",
            "375/375 [==============================] - 1s 3ms/step - loss: 0.1184 - accuracy: 0.9554 - val_loss: 0.3898 - val_accuracy: 0.8965\n",
            "Epoch 87/100\n",
            "375/375 [==============================] - 1s 3ms/step - loss: 0.1180 - accuracy: 0.9548 - val_loss: 0.3858 - val_accuracy: 0.8988\n",
            "Epoch 88/100\n",
            "375/375 [==============================] - 1s 3ms/step - loss: 0.1149 - accuracy: 0.9556 - val_loss: 0.3900 - val_accuracy: 0.8982\n",
            "Epoch 89/100\n",
            "375/375 [==============================] - 1s 3ms/step - loss: 0.1160 - accuracy: 0.9544 - val_loss: 0.4025 - val_accuracy: 0.8986\n",
            "Epoch 90/100\n",
            "375/375 [==============================] - 1s 3ms/step - loss: 0.1117 - accuracy: 0.9571 - val_loss: 0.4139 - val_accuracy: 0.8957\n",
            "Epoch 91/100\n",
            "375/375 [==============================] - 1s 3ms/step - loss: 0.1122 - accuracy: 0.9569 - val_loss: 0.3948 - val_accuracy: 0.9011\n",
            "Epoch 92/100\n",
            "375/375 [==============================] - 1s 3ms/step - loss: 0.1079 - accuracy: 0.9593 - val_loss: 0.4133 - val_accuracy: 0.9003\n",
            "Epoch 93/100\n",
            "375/375 [==============================] - 1s 3ms/step - loss: 0.1088 - accuracy: 0.9580 - val_loss: 0.3905 - val_accuracy: 0.9018\n",
            "Epoch 94/100\n",
            "375/375 [==============================] - 1s 3ms/step - loss: 0.1060 - accuracy: 0.9587 - val_loss: 0.3981 - val_accuracy: 0.8980\n",
            "Epoch 95/100\n",
            "375/375 [==============================] - 1s 3ms/step - loss: 0.1094 - accuracy: 0.9575 - val_loss: 0.4052 - val_accuracy: 0.8994\n",
            "Epoch 96/100\n",
            "375/375 [==============================] - 1s 3ms/step - loss: 0.1064 - accuracy: 0.9594 - val_loss: 0.4074 - val_accuracy: 0.8998\n",
            "Epoch 97/100\n",
            "375/375 [==============================] - 1s 3ms/step - loss: 0.1048 - accuracy: 0.9597 - val_loss: 0.3934 - val_accuracy: 0.9009\n",
            "Epoch 98/100\n",
            "375/375 [==============================] - 1s 3ms/step - loss: 0.1058 - accuracy: 0.9601 - val_loss: 0.4038 - val_accuracy: 0.9018\n",
            "Epoch 99/100\n",
            "375/375 [==============================] - 1s 3ms/step - loss: 0.1054 - accuracy: 0.9592 - val_loss: 0.3937 - val_accuracy: 0.9006\n",
            "Epoch 100/100\n",
            "375/375 [==============================] - 1s 3ms/step - loss: 0.1007 - accuracy: 0.9622 - val_loss: 0.4175 - val_accuracy: 0.8997\n"
          ]
        }
      ]
    },
    {
      "cell_type": "code",
      "metadata": {
        "colab": {
          "base_uri": "https://localhost:8080/"
        },
        "id": "ONVqUFht72I9",
        "outputId": "46d53254-7379-41ef-b4ad-2d1a5f8244b1"
      },
      "source": [
        "# Checking model summary\n",
        "model5.summary()"
      ],
      "execution_count": null,
      "outputs": [
        {
          "output_type": "stream",
          "name": "stdout",
          "text": [
            "Model: \"mlp_5\"\n",
            "_________________________________________________________________\n",
            "Layer (type)                 Output Shape              Param #   \n",
            "=================================================================\n",
            "dense_layer1 (Dense)         (None, 256)               200960    \n",
            "_________________________________________________________________\n",
            "dropout_layer1 (Dropout)     (None, 256)               0         \n",
            "_________________________________________________________________\n",
            "dense_layer2 (Dense)         (None, 10)                2570      \n",
            "=================================================================\n",
            "Total params: 203,530\n",
            "Trainable params: 203,530\n",
            "Non-trainable params: 0\n",
            "_________________________________________________________________\n"
          ]
        }
      ]
    },
    {
      "cell_type": "code",
      "metadata": {
        "colab": {
          "base_uri": "https://localhost:8080/"
        },
        "id": "k-1PPMIb72Q3",
        "outputId": "aad09cc4-431e-4634-9130-d6cdb770a0f9"
      },
      "source": [
        "# Evaluating the model on test dataset\n",
        "model5.evaluate(X_test_norm, y_test_cat, batch_size= 128)"
      ],
      "execution_count": null,
      "outputs": [
        {
          "output_type": "stream",
          "name": "stdout",
          "text": [
            "79/79 [==============================] - 0s 2ms/step - loss: 0.4590 - accuracy: 0.8977\n"
          ]
        },
        {
          "output_type": "execute_result",
          "data": {
            "text/plain": [
              "[0.45901381969451904, 0.8977000117301941]"
            ]
          },
          "metadata": {},
          "execution_count": 29
        }
      ]
    },
    {
      "cell_type": "markdown",
      "metadata": {
        "id": "i659uYgN72b4"
      },
      "source": [
        "With Adam optimizer model performance is slightly better than our previous model. ur testing accuracy is better and loss in testing dataset is smaller than our last model. But still there is some difference in training and testing accuracy, and testing loss is bit higher than training loss. I'll use Adam optimizer and will add one more hidden layer with dropout normalization."
      ]
    },
    {
      "cell_type": "markdown",
      "metadata": {
        "id": "2bomvkk5wbBj"
      },
      "source": [
        "### 7. Building model with adam optimizer and 2 hidden layers"
      ]
    },
    {
      "cell_type": "code",
      "metadata": {
        "colab": {
          "base_uri": "https://localhost:8080/"
        },
        "id": "JpFv8ZQ8NQ8S",
        "outputId": "d6d9aedd-29f6-4592-82cc-235d61ec3aa9"
      },
      "source": [
        "# Building model with adam optimizer and 2 hidden layers\n",
        "tf.random.set_seed(42)\n",
        "model6= tf.keras.Sequential(name= 'mlp_6')\n",
        "model6.add(tf.keras.layers.Dense(256, input_shape= (X_train_norm.shape[1],), activation= 'relu', name= 'dense_layer1'))\n",
        "model6.add(tf.keras.layers.Dropout(.3, name= 'dropout_layer1'))\n",
        "model6.add(tf.keras.layers.Dense(256, activation= 'relu', name= 'dense_layer2'))\n",
        "model6.add(tf.keras.layers.Dropout(.3, name= 'dropout_layer2'))\n",
        "model6.add(tf.keras.layers.Dense(10, activation= 'softmax', name= 'dense_layer3'))\n",
        "\n",
        "# Compiling the model\n",
        "model6.compile(optimizer= 'adam', loss= 'categorical_crossentropy', metrics= ['accuracy'])\n",
        "\n",
        "# Training the model\n",
        "history6= model6.fit(X_train_norm, y_train_cat, batch_size= 128, epochs= 100, validation_split= .2)"
      ],
      "execution_count": null,
      "outputs": [
        {
          "output_type": "stream",
          "name": "stdout",
          "text": [
            "Epoch 1/100\n",
            "375/375 [==============================] - 2s 3ms/step - loss: 0.6209 - accuracy: 0.7771 - val_loss: 0.4291 - val_accuracy: 0.8461\n",
            "Epoch 2/100\n",
            "375/375 [==============================] - 1s 3ms/step - loss: 0.4368 - accuracy: 0.8425 - val_loss: 0.3878 - val_accuracy: 0.8571\n",
            "Epoch 3/100\n",
            "375/375 [==============================] - 1s 3ms/step - loss: 0.3966 - accuracy: 0.8568 - val_loss: 0.3650 - val_accuracy: 0.8648\n",
            "Epoch 4/100\n",
            "375/375 [==============================] - 1s 3ms/step - loss: 0.3719 - accuracy: 0.8648 - val_loss: 0.3538 - val_accuracy: 0.8728\n",
            "Epoch 5/100\n",
            "375/375 [==============================] - 1s 3ms/step - loss: 0.3544 - accuracy: 0.8705 - val_loss: 0.3364 - val_accuracy: 0.8811\n",
            "Epoch 6/100\n",
            "375/375 [==============================] - 1s 3ms/step - loss: 0.3400 - accuracy: 0.8755 - val_loss: 0.3277 - val_accuracy: 0.8820\n",
            "Epoch 7/100\n",
            "375/375 [==============================] - 1s 3ms/step - loss: 0.3294 - accuracy: 0.8792 - val_loss: 0.3284 - val_accuracy: 0.8837\n",
            "Epoch 8/100\n",
            "375/375 [==============================] - 1s 3ms/step - loss: 0.3189 - accuracy: 0.8823 - val_loss: 0.3225 - val_accuracy: 0.8858\n",
            "Epoch 9/100\n",
            "375/375 [==============================] - 1s 3ms/step - loss: 0.3085 - accuracy: 0.8855 - val_loss: 0.3216 - val_accuracy: 0.8808\n",
            "Epoch 10/100\n",
            "375/375 [==============================] - 1s 3ms/step - loss: 0.3037 - accuracy: 0.8878 - val_loss: 0.3181 - val_accuracy: 0.8848\n",
            "Epoch 11/100\n",
            "375/375 [==============================] - 1s 3ms/step - loss: 0.2940 - accuracy: 0.8906 - val_loss: 0.3089 - val_accuracy: 0.8896\n",
            "Epoch 12/100\n",
            "375/375 [==============================] - 1s 3ms/step - loss: 0.2902 - accuracy: 0.8903 - val_loss: 0.3106 - val_accuracy: 0.8908\n",
            "Epoch 13/100\n",
            "375/375 [==============================] - 1s 3ms/step - loss: 0.2821 - accuracy: 0.8939 - val_loss: 0.3250 - val_accuracy: 0.8813\n",
            "Epoch 14/100\n",
            "375/375 [==============================] - 1s 3ms/step - loss: 0.2824 - accuracy: 0.8947 - val_loss: 0.3118 - val_accuracy: 0.8871\n",
            "Epoch 15/100\n",
            "375/375 [==============================] - 1s 3ms/step - loss: 0.2761 - accuracy: 0.8956 - val_loss: 0.3021 - val_accuracy: 0.8888\n",
            "Epoch 16/100\n",
            "375/375 [==============================] - 1s 3ms/step - loss: 0.2680 - accuracy: 0.8995 - val_loss: 0.3043 - val_accuracy: 0.8919\n",
            "Epoch 17/100\n",
            "375/375 [==============================] - 1s 3ms/step - loss: 0.2654 - accuracy: 0.8999 - val_loss: 0.3097 - val_accuracy: 0.8872\n",
            "Epoch 18/100\n",
            "375/375 [==============================] - 1s 3ms/step - loss: 0.2606 - accuracy: 0.9013 - val_loss: 0.3022 - val_accuracy: 0.8937\n",
            "Epoch 19/100\n",
            "375/375 [==============================] - 1s 3ms/step - loss: 0.2596 - accuracy: 0.9025 - val_loss: 0.3092 - val_accuracy: 0.8903\n",
            "Epoch 20/100\n",
            "375/375 [==============================] - 1s 3ms/step - loss: 0.2527 - accuracy: 0.9042 - val_loss: 0.3057 - val_accuracy: 0.8936\n",
            "Epoch 21/100\n",
            "375/375 [==============================] - 1s 3ms/step - loss: 0.2478 - accuracy: 0.9066 - val_loss: 0.3042 - val_accuracy: 0.8935\n",
            "Epoch 22/100\n",
            "375/375 [==============================] - 1s 3ms/step - loss: 0.2435 - accuracy: 0.9081 - val_loss: 0.3036 - val_accuracy: 0.8932\n",
            "Epoch 23/100\n",
            "375/375 [==============================] - 1s 3ms/step - loss: 0.2441 - accuracy: 0.9077 - val_loss: 0.3067 - val_accuracy: 0.8901\n",
            "Epoch 24/100\n",
            "375/375 [==============================] - 1s 3ms/step - loss: 0.2402 - accuracy: 0.9099 - val_loss: 0.2985 - val_accuracy: 0.8938\n",
            "Epoch 25/100\n",
            "375/375 [==============================] - 1s 3ms/step - loss: 0.2373 - accuracy: 0.9091 - val_loss: 0.3039 - val_accuracy: 0.8934\n",
            "Epoch 26/100\n",
            "375/375 [==============================] - 1s 3ms/step - loss: 0.2364 - accuracy: 0.9114 - val_loss: 0.3065 - val_accuracy: 0.8950\n",
            "Epoch 27/100\n",
            "375/375 [==============================] - 1s 3ms/step - loss: 0.2335 - accuracy: 0.9120 - val_loss: 0.3119 - val_accuracy: 0.8953\n",
            "Epoch 28/100\n",
            "375/375 [==============================] - 1s 3ms/step - loss: 0.2289 - accuracy: 0.9134 - val_loss: 0.3066 - val_accuracy: 0.8957\n",
            "Epoch 29/100\n",
            "375/375 [==============================] - 1s 3ms/step - loss: 0.2258 - accuracy: 0.9146 - val_loss: 0.3041 - val_accuracy: 0.8933\n",
            "Epoch 30/100\n",
            "375/375 [==============================] - 1s 3ms/step - loss: 0.2222 - accuracy: 0.9153 - val_loss: 0.3050 - val_accuracy: 0.8964\n",
            "Epoch 31/100\n",
            "375/375 [==============================] - 1s 3ms/step - loss: 0.2207 - accuracy: 0.9162 - val_loss: 0.3012 - val_accuracy: 0.8982\n",
            "Epoch 32/100\n",
            "375/375 [==============================] - 1s 3ms/step - loss: 0.2156 - accuracy: 0.9185 - val_loss: 0.3097 - val_accuracy: 0.8972\n",
            "Epoch 33/100\n",
            "375/375 [==============================] - 1s 3ms/step - loss: 0.2183 - accuracy: 0.9180 - val_loss: 0.3044 - val_accuracy: 0.8985\n",
            "Epoch 34/100\n",
            "375/375 [==============================] - 1s 3ms/step - loss: 0.2121 - accuracy: 0.9196 - val_loss: 0.3065 - val_accuracy: 0.8968\n",
            "Epoch 35/100\n",
            "375/375 [==============================] - 1s 3ms/step - loss: 0.2127 - accuracy: 0.9180 - val_loss: 0.3069 - val_accuracy: 0.8941\n",
            "Epoch 36/100\n",
            "375/375 [==============================] - 1s 3ms/step - loss: 0.2107 - accuracy: 0.9200 - val_loss: 0.3092 - val_accuracy: 0.8937\n",
            "Epoch 37/100\n",
            "375/375 [==============================] - 1s 3ms/step - loss: 0.2077 - accuracy: 0.9200 - val_loss: 0.3077 - val_accuracy: 0.9004\n",
            "Epoch 38/100\n",
            "375/375 [==============================] - 1s 3ms/step - loss: 0.2043 - accuracy: 0.9218 - val_loss: 0.3104 - val_accuracy: 0.8967\n",
            "Epoch 39/100\n",
            "375/375 [==============================] - 1s 3ms/step - loss: 0.2046 - accuracy: 0.9219 - val_loss: 0.3129 - val_accuracy: 0.8949\n",
            "Epoch 40/100\n",
            "375/375 [==============================] - 1s 3ms/step - loss: 0.2025 - accuracy: 0.9231 - val_loss: 0.3177 - val_accuracy: 0.8950\n",
            "Epoch 41/100\n",
            "375/375 [==============================] - 1s 3ms/step - loss: 0.1989 - accuracy: 0.9236 - val_loss: 0.3237 - val_accuracy: 0.8918\n",
            "Epoch 42/100\n",
            "375/375 [==============================] - 1s 3ms/step - loss: 0.1959 - accuracy: 0.9262 - val_loss: 0.3159 - val_accuracy: 0.8958\n",
            "Epoch 43/100\n",
            "375/375 [==============================] - 1s 3ms/step - loss: 0.1971 - accuracy: 0.9243 - val_loss: 0.3252 - val_accuracy: 0.8925\n",
            "Epoch 44/100\n",
            "375/375 [==============================] - 1s 3ms/step - loss: 0.1953 - accuracy: 0.9247 - val_loss: 0.3108 - val_accuracy: 0.8945\n",
            "Epoch 45/100\n",
            "375/375 [==============================] - 1s 3ms/step - loss: 0.1914 - accuracy: 0.9272 - val_loss: 0.3154 - val_accuracy: 0.8957\n",
            "Epoch 46/100\n",
            "375/375 [==============================] - 1s 3ms/step - loss: 0.1952 - accuracy: 0.9258 - val_loss: 0.3313 - val_accuracy: 0.8962\n",
            "Epoch 47/100\n",
            "375/375 [==============================] - 1s 3ms/step - loss: 0.1906 - accuracy: 0.9268 - val_loss: 0.3358 - val_accuracy: 0.8890\n",
            "Epoch 48/100\n",
            "375/375 [==============================] - 1s 3ms/step - loss: 0.1882 - accuracy: 0.9277 - val_loss: 0.3222 - val_accuracy: 0.8954\n",
            "Epoch 49/100\n",
            "375/375 [==============================] - 1s 3ms/step - loss: 0.1889 - accuracy: 0.9280 - val_loss: 0.3171 - val_accuracy: 0.8984\n",
            "Epoch 50/100\n",
            "375/375 [==============================] - 1s 3ms/step - loss: 0.1856 - accuracy: 0.9296 - val_loss: 0.3204 - val_accuracy: 0.9007\n",
            "Epoch 51/100\n",
            "375/375 [==============================] - 1s 3ms/step - loss: 0.1856 - accuracy: 0.9298 - val_loss: 0.3309 - val_accuracy: 0.8971\n",
            "Epoch 52/100\n",
            "375/375 [==============================] - 1s 3ms/step - loss: 0.1838 - accuracy: 0.9288 - val_loss: 0.3232 - val_accuracy: 0.8975\n",
            "Epoch 53/100\n",
            "375/375 [==============================] - 1s 3ms/step - loss: 0.1805 - accuracy: 0.9318 - val_loss: 0.3259 - val_accuracy: 0.8983\n",
            "Epoch 54/100\n",
            "375/375 [==============================] - 1s 3ms/step - loss: 0.1805 - accuracy: 0.9305 - val_loss: 0.3311 - val_accuracy: 0.8964\n",
            "Epoch 55/100\n",
            "375/375 [==============================] - 1s 3ms/step - loss: 0.1754 - accuracy: 0.9334 - val_loss: 0.3307 - val_accuracy: 0.8992\n",
            "Epoch 56/100\n",
            "375/375 [==============================] - 1s 3ms/step - loss: 0.1784 - accuracy: 0.9315 - val_loss: 0.3308 - val_accuracy: 0.8967\n",
            "Epoch 57/100\n",
            "375/375 [==============================] - 1s 3ms/step - loss: 0.1804 - accuracy: 0.9305 - val_loss: 0.3258 - val_accuracy: 0.8996\n",
            "Epoch 58/100\n",
            "375/375 [==============================] - 1s 3ms/step - loss: 0.1750 - accuracy: 0.9335 - val_loss: 0.3239 - val_accuracy: 0.8994\n",
            "Epoch 59/100\n",
            "375/375 [==============================] - 1s 3ms/step - loss: 0.1724 - accuracy: 0.9334 - val_loss: 0.3577 - val_accuracy: 0.8948\n",
            "Epoch 60/100\n",
            "375/375 [==============================] - 1s 3ms/step - loss: 0.1702 - accuracy: 0.9342 - val_loss: 0.3383 - val_accuracy: 0.8982\n",
            "Epoch 61/100\n",
            "375/375 [==============================] - 1s 3ms/step - loss: 0.1703 - accuracy: 0.9348 - val_loss: 0.3371 - val_accuracy: 0.8964\n",
            "Epoch 62/100\n",
            "375/375 [==============================] - 1s 3ms/step - loss: 0.1711 - accuracy: 0.9345 - val_loss: 0.3360 - val_accuracy: 0.8970\n",
            "Epoch 63/100\n",
            "375/375 [==============================] - 1s 3ms/step - loss: 0.1729 - accuracy: 0.9322 - val_loss: 0.3364 - val_accuracy: 0.8949\n",
            "Epoch 64/100\n",
            "375/375 [==============================] - 1s 3ms/step - loss: 0.1683 - accuracy: 0.9361 - val_loss: 0.3292 - val_accuracy: 0.8987\n",
            "Epoch 65/100\n",
            "375/375 [==============================] - 1s 3ms/step - loss: 0.1661 - accuracy: 0.9366 - val_loss: 0.3341 - val_accuracy: 0.8988\n",
            "Epoch 66/100\n",
            "375/375 [==============================] - 1s 3ms/step - loss: 0.1634 - accuracy: 0.9384 - val_loss: 0.3340 - val_accuracy: 0.8950\n",
            "Epoch 67/100\n",
            "375/375 [==============================] - 1s 3ms/step - loss: 0.1625 - accuracy: 0.9381 - val_loss: 0.3321 - val_accuracy: 0.9009\n",
            "Epoch 68/100\n",
            "375/375 [==============================] - 1s 3ms/step - loss: 0.1635 - accuracy: 0.9367 - val_loss: 0.3397 - val_accuracy: 0.8986\n",
            "Epoch 69/100\n",
            "375/375 [==============================] - 1s 3ms/step - loss: 0.1628 - accuracy: 0.9378 - val_loss: 0.3394 - val_accuracy: 0.8988\n",
            "Epoch 70/100\n",
            "375/375 [==============================] - 1s 3ms/step - loss: 0.1568 - accuracy: 0.9400 - val_loss: 0.3680 - val_accuracy: 0.8997\n",
            "Epoch 71/100\n",
            "375/375 [==============================] - 1s 3ms/step - loss: 0.1607 - accuracy: 0.9380 - val_loss: 0.3477 - val_accuracy: 0.8952\n",
            "Epoch 72/100\n",
            "375/375 [==============================] - 1s 3ms/step - loss: 0.1571 - accuracy: 0.9395 - val_loss: 0.3428 - val_accuracy: 0.8992\n",
            "Epoch 73/100\n",
            "375/375 [==============================] - 1s 3ms/step - loss: 0.1606 - accuracy: 0.9389 - val_loss: 0.3519 - val_accuracy: 0.8938\n",
            "Epoch 74/100\n",
            "375/375 [==============================] - 1s 3ms/step - loss: 0.1582 - accuracy: 0.9407 - val_loss: 0.3572 - val_accuracy: 0.8961\n",
            "Epoch 75/100\n",
            "375/375 [==============================] - 1s 3ms/step - loss: 0.1517 - accuracy: 0.9423 - val_loss: 0.3606 - val_accuracy: 0.8955\n",
            "Epoch 76/100\n",
            "375/375 [==============================] - 1s 3ms/step - loss: 0.1576 - accuracy: 0.9408 - val_loss: 0.3491 - val_accuracy: 0.8964\n",
            "Epoch 77/100\n",
            "375/375 [==============================] - 1s 3ms/step - loss: 0.1515 - accuracy: 0.9416 - val_loss: 0.3617 - val_accuracy: 0.8971\n",
            "Epoch 78/100\n",
            "375/375 [==============================] - 1s 3ms/step - loss: 0.1541 - accuracy: 0.9412 - val_loss: 0.3575 - val_accuracy: 0.8976\n",
            "Epoch 79/100\n",
            "375/375 [==============================] - 1s 3ms/step - loss: 0.1522 - accuracy: 0.9409 - val_loss: 0.3536 - val_accuracy: 0.8982\n",
            "Epoch 80/100\n",
            "375/375 [==============================] - 1s 3ms/step - loss: 0.1528 - accuracy: 0.9426 - val_loss: 0.3528 - val_accuracy: 0.8982\n",
            "Epoch 81/100\n",
            "375/375 [==============================] - 1s 3ms/step - loss: 0.1521 - accuracy: 0.9425 - val_loss: 0.3540 - val_accuracy: 0.8947\n",
            "Epoch 82/100\n",
            "375/375 [==============================] - 1s 3ms/step - loss: 0.1509 - accuracy: 0.9422 - val_loss: 0.3560 - val_accuracy: 0.8989\n",
            "Epoch 83/100\n",
            "375/375 [==============================] - 1s 3ms/step - loss: 0.1499 - accuracy: 0.9420 - val_loss: 0.3628 - val_accuracy: 0.8982\n",
            "Epoch 84/100\n",
            "375/375 [==============================] - 1s 3ms/step - loss: 0.1498 - accuracy: 0.9425 - val_loss: 0.3587 - val_accuracy: 0.9009\n",
            "Epoch 85/100\n",
            "375/375 [==============================] - 1s 3ms/step - loss: 0.1436 - accuracy: 0.9450 - val_loss: 0.3705 - val_accuracy: 0.8978\n",
            "Epoch 86/100\n",
            "375/375 [==============================] - 1s 3ms/step - loss: 0.1463 - accuracy: 0.9437 - val_loss: 0.3833 - val_accuracy: 0.8974\n",
            "Epoch 87/100\n",
            "375/375 [==============================] - 1s 3ms/step - loss: 0.1459 - accuracy: 0.9440 - val_loss: 0.3837 - val_accuracy: 0.8976\n",
            "Epoch 88/100\n",
            "375/375 [==============================] - 1s 3ms/step - loss: 0.1446 - accuracy: 0.9445 - val_loss: 0.3810 - val_accuracy: 0.8981\n",
            "Epoch 89/100\n",
            "375/375 [==============================] - 1s 3ms/step - loss: 0.1450 - accuracy: 0.9456 - val_loss: 0.3790 - val_accuracy: 0.8955\n",
            "Epoch 90/100\n",
            "375/375 [==============================] - 1s 3ms/step - loss: 0.1429 - accuracy: 0.9454 - val_loss: 0.3781 - val_accuracy: 0.8974\n",
            "Epoch 91/100\n",
            "375/375 [==============================] - 1s 3ms/step - loss: 0.1469 - accuracy: 0.9447 - val_loss: 0.3953 - val_accuracy: 0.8961\n",
            "Epoch 92/100\n",
            "375/375 [==============================] - 1s 3ms/step - loss: 0.1441 - accuracy: 0.9436 - val_loss: 0.3733 - val_accuracy: 0.8999\n",
            "Epoch 93/100\n",
            "375/375 [==============================] - 1s 3ms/step - loss: 0.1371 - accuracy: 0.9468 - val_loss: 0.3692 - val_accuracy: 0.8996\n",
            "Epoch 94/100\n",
            "375/375 [==============================] - 1s 3ms/step - loss: 0.1439 - accuracy: 0.9442 - val_loss: 0.3689 - val_accuracy: 0.8979\n",
            "Epoch 95/100\n",
            "375/375 [==============================] - 1s 3ms/step - loss: 0.1424 - accuracy: 0.9451 - val_loss: 0.3731 - val_accuracy: 0.8998\n",
            "Epoch 96/100\n",
            "375/375 [==============================] - 1s 3ms/step - loss: 0.1407 - accuracy: 0.9468 - val_loss: 0.3711 - val_accuracy: 0.8960\n",
            "Epoch 97/100\n",
            "375/375 [==============================] - 1s 3ms/step - loss: 0.1377 - accuracy: 0.9476 - val_loss: 0.3794 - val_accuracy: 0.8964\n",
            "Epoch 98/100\n",
            "375/375 [==============================] - 1s 3ms/step - loss: 0.1385 - accuracy: 0.9471 - val_loss: 0.3786 - val_accuracy: 0.8967\n",
            "Epoch 99/100\n",
            "375/375 [==============================] - 1s 3ms/step - loss: 0.1377 - accuracy: 0.9476 - val_loss: 0.3824 - val_accuracy: 0.8991\n",
            "Epoch 100/100\n",
            "375/375 [==============================] - 1s 3ms/step - loss: 0.1347 - accuracy: 0.9481 - val_loss: 0.4075 - val_accuracy: 0.8978\n"
          ]
        }
      ]
    },
    {
      "cell_type": "code",
      "metadata": {
        "colab": {
          "base_uri": "https://localhost:8080/"
        },
        "id": "tm-30Ofu4K1j",
        "outputId": "66828fc8-217b-4397-9b2f-8000e5ebea7e"
      },
      "source": [
        "# Checking model summary\n",
        "model6.summary()"
      ],
      "execution_count": null,
      "outputs": [
        {
          "output_type": "stream",
          "name": "stdout",
          "text": [
            "Model: \"mlp_6\"\n",
            "_________________________________________________________________\n",
            "Layer (type)                 Output Shape              Param #   \n",
            "=================================================================\n",
            "dense_layer1 (Dense)         (None, 256)               200960    \n",
            "_________________________________________________________________\n",
            "dropout_layer1 (Dropout)     (None, 256)               0         \n",
            "_________________________________________________________________\n",
            "dense_layer2 (Dense)         (None, 256)               65792     \n",
            "_________________________________________________________________\n",
            "dropout_layer2 (Dropout)     (None, 256)               0         \n",
            "_________________________________________________________________\n",
            "dense_layer3 (Dense)         (None, 10)                2570      \n",
            "=================================================================\n",
            "Total params: 269,322\n",
            "Trainable params: 269,322\n",
            "Non-trainable params: 0\n",
            "_________________________________________________________________\n"
          ]
        }
      ]
    },
    {
      "cell_type": "code",
      "metadata": {
        "colab": {
          "base_uri": "https://localhost:8080/"
        },
        "id": "D6F_1iAwNsi-",
        "outputId": "ce5a73b8-3ef1-4df9-ee2f-506a6472a296"
      },
      "source": [
        "# Evaluating the model on test dataset\n",
        "model6.evaluate(X_test_norm, y_test_cat, batch_size= 128)"
      ],
      "execution_count": null,
      "outputs": [
        {
          "output_type": "stream",
          "name": "stdout",
          "text": [
            "79/79 [==============================] - 0s 2ms/step - loss: 0.4291 - accuracy: 0.8944\n"
          ]
        },
        {
          "output_type": "execute_result",
          "data": {
            "text/plain": [
              "[0.42908379435539246, 0.8944000005722046]"
            ]
          },
          "metadata": {},
          "execution_count": 32
        }
      ]
    },
    {
      "cell_type": "markdown",
      "metadata": {
        "id": "yFkhwqmbA2xv"
      },
      "source": [
        "Increasing hidden layers, reduced testing loss. Next, I'll try to reduce batchsize to check if it improves the performance."
      ]
    },
    {
      "cell_type": "markdown",
      "metadata": {
        "id": "xCPkGL9SwhuE"
      },
      "source": [
        "### 8. Building model with increased neurons, dropout rate and he initialization for hidden layers"
      ]
    },
    {
      "cell_type": "code",
      "metadata": {
        "colab": {
          "base_uri": "https://localhost:8080/"
        },
        "id": "8uGNZEoAYUaL",
        "outputId": "5f56b581-cdbe-4569-dfb9-ac387f108dce"
      },
      "source": [
        "# Building model with increased neurons, dropout rate and he initialization for hidden layers\n",
        "tf.random.set_seed(42)\n",
        "model_7= tf.keras.Sequential(name= 'mlp7')\n",
        "model_7.add(tf.keras.layers.Dense(392, input_shape= (X_train_norm.shape[1],), kernel_initializer= 'he_normal', activation= 'relu', name= 'dense_layer1'))\n",
        "model_7.add(tf.keras.layers.Dropout(.5, name= 'dropout_layer1'))\n",
        "model_7.add(tf.keras.layers.Dense(196, kernel_initializer= 'he_normal', activation= 'relu', name= 'dense_layer2'))\n",
        "model_7.add(tf.keras.layers.Dropout(.5, name= 'dropout_layer2'))\n",
        "model_7.add(tf.keras.layers.Dense(10, activation= 'softmax', name= 'dense_layer3'))\n",
        "\n",
        "# Compiling the model\n",
        "model_7.compile(optimizer= 'adam', loss= 'categorical_crossentropy', metrics= ['accuracy'])\n",
        "\n",
        "# Training the model with lower batch_size\n",
        "history_7= model_7.fit(X_train_norm, y_train_cat, batch_size= 64, epochs= 100, validation_split= .2)"
      ],
      "execution_count": null,
      "outputs": [
        {
          "output_type": "stream",
          "name": "stdout",
          "text": [
            "Epoch 1/100\n",
            "750/750 [==============================] - 3s 3ms/step - loss: 0.7053 - accuracy: 0.7446 - val_loss: 0.4491 - val_accuracy: 0.8329\n",
            "Epoch 2/100\n",
            "750/750 [==============================] - 2s 3ms/step - loss: 0.5061 - accuracy: 0.8179 - val_loss: 0.4173 - val_accuracy: 0.8454\n",
            "Epoch 3/100\n",
            "750/750 [==============================] - 2s 3ms/step - loss: 0.4642 - accuracy: 0.8315 - val_loss: 0.3861 - val_accuracy: 0.8598\n",
            "Epoch 4/100\n",
            "750/750 [==============================] - 2s 3ms/step - loss: 0.4375 - accuracy: 0.8439 - val_loss: 0.3656 - val_accuracy: 0.8673\n",
            "Epoch 5/100\n",
            "750/750 [==============================] - 2s 3ms/step - loss: 0.4204 - accuracy: 0.8479 - val_loss: 0.3689 - val_accuracy: 0.8649\n",
            "Epoch 6/100\n",
            "750/750 [==============================] - 2s 3ms/step - loss: 0.4059 - accuracy: 0.8544 - val_loss: 0.3531 - val_accuracy: 0.8731\n",
            "Epoch 7/100\n",
            "750/750 [==============================] - 2s 3ms/step - loss: 0.3943 - accuracy: 0.8557 - val_loss: 0.3448 - val_accuracy: 0.8701\n",
            "Epoch 8/100\n",
            "750/750 [==============================] - 2s 3ms/step - loss: 0.3871 - accuracy: 0.8604 - val_loss: 0.3628 - val_accuracy: 0.8643\n",
            "Epoch 9/100\n",
            "750/750 [==============================] - 2s 3ms/step - loss: 0.3801 - accuracy: 0.8629 - val_loss: 0.3390 - val_accuracy: 0.8728\n",
            "Epoch 10/100\n",
            "750/750 [==============================] - 2s 3ms/step - loss: 0.3700 - accuracy: 0.8651 - val_loss: 0.3357 - val_accuracy: 0.8763\n",
            "Epoch 11/100\n",
            "750/750 [==============================] - 2s 3ms/step - loss: 0.3663 - accuracy: 0.8660 - val_loss: 0.3306 - val_accuracy: 0.8825\n",
            "Epoch 12/100\n",
            "750/750 [==============================] - 2s 3ms/step - loss: 0.3596 - accuracy: 0.8678 - val_loss: 0.3262 - val_accuracy: 0.8841\n",
            "Epoch 13/100\n",
            "750/750 [==============================] - 2s 3ms/step - loss: 0.3562 - accuracy: 0.8696 - val_loss: 0.3335 - val_accuracy: 0.8770\n",
            "Epoch 14/100\n",
            "750/750 [==============================] - 2s 3ms/step - loss: 0.3498 - accuracy: 0.8701 - val_loss: 0.3389 - val_accuracy: 0.8686\n",
            "Epoch 15/100\n",
            "750/750 [==============================] - 2s 3ms/step - loss: 0.3436 - accuracy: 0.8750 - val_loss: 0.3237 - val_accuracy: 0.8773\n",
            "Epoch 16/100\n",
            "750/750 [==============================] - 2s 3ms/step - loss: 0.3361 - accuracy: 0.8769 - val_loss: 0.3204 - val_accuracy: 0.8833\n",
            "Epoch 17/100\n",
            "750/750 [==============================] - 2s 3ms/step - loss: 0.3365 - accuracy: 0.8757 - val_loss: 0.3267 - val_accuracy: 0.8773\n",
            "Epoch 18/100\n",
            "750/750 [==============================] - 2s 3ms/step - loss: 0.3316 - accuracy: 0.8773 - val_loss: 0.3251 - val_accuracy: 0.8818\n",
            "Epoch 19/100\n",
            "750/750 [==============================] - 2s 3ms/step - loss: 0.3287 - accuracy: 0.8795 - val_loss: 0.3155 - val_accuracy: 0.8827\n",
            "Epoch 20/100\n",
            "750/750 [==============================] - 2s 3ms/step - loss: 0.3235 - accuracy: 0.8806 - val_loss: 0.3190 - val_accuracy: 0.8852\n",
            "Epoch 21/100\n",
            "750/750 [==============================] - 2s 3ms/step - loss: 0.3266 - accuracy: 0.8806 - val_loss: 0.3163 - val_accuracy: 0.8816\n",
            "Epoch 22/100\n",
            "750/750 [==============================] - 2s 3ms/step - loss: 0.3177 - accuracy: 0.8842 - val_loss: 0.3146 - val_accuracy: 0.8880\n",
            "Epoch 23/100\n",
            "750/750 [==============================] - 2s 3ms/step - loss: 0.3185 - accuracy: 0.8814 - val_loss: 0.3151 - val_accuracy: 0.8837\n",
            "Epoch 24/100\n",
            "750/750 [==============================] - 2s 3ms/step - loss: 0.3160 - accuracy: 0.8833 - val_loss: 0.3125 - val_accuracy: 0.8871\n",
            "Epoch 25/100\n",
            "750/750 [==============================] - 2s 3ms/step - loss: 0.3152 - accuracy: 0.8830 - val_loss: 0.3125 - val_accuracy: 0.8870\n",
            "Epoch 26/100\n",
            "750/750 [==============================] - 2s 3ms/step - loss: 0.3122 - accuracy: 0.8864 - val_loss: 0.3103 - val_accuracy: 0.8854\n",
            "Epoch 27/100\n",
            "750/750 [==============================] - 2s 3ms/step - loss: 0.3127 - accuracy: 0.8851 - val_loss: 0.3127 - val_accuracy: 0.8898\n",
            "Epoch 28/100\n",
            "750/750 [==============================] - 2s 3ms/step - loss: 0.3028 - accuracy: 0.8880 - val_loss: 0.3116 - val_accuracy: 0.8860\n",
            "Epoch 29/100\n",
            "750/750 [==============================] - 2s 3ms/step - loss: 0.3048 - accuracy: 0.8872 - val_loss: 0.3145 - val_accuracy: 0.8848\n",
            "Epoch 30/100\n",
            "750/750 [==============================] - 2s 3ms/step - loss: 0.3013 - accuracy: 0.8880 - val_loss: 0.3141 - val_accuracy: 0.8851\n",
            "Epoch 31/100\n",
            "750/750 [==============================] - 2s 3ms/step - loss: 0.2967 - accuracy: 0.8889 - val_loss: 0.3090 - val_accuracy: 0.8899\n",
            "Epoch 32/100\n",
            "750/750 [==============================] - 2s 3ms/step - loss: 0.2996 - accuracy: 0.8903 - val_loss: 0.3094 - val_accuracy: 0.8890\n",
            "Epoch 33/100\n",
            "750/750 [==============================] - 2s 3ms/step - loss: 0.2953 - accuracy: 0.8912 - val_loss: 0.3168 - val_accuracy: 0.8862\n",
            "Epoch 34/100\n",
            "750/750 [==============================] - 2s 3ms/step - loss: 0.2945 - accuracy: 0.8931 - val_loss: 0.3127 - val_accuracy: 0.8883\n",
            "Epoch 35/100\n",
            "750/750 [==============================] - 2s 3ms/step - loss: 0.2910 - accuracy: 0.8913 - val_loss: 0.3108 - val_accuracy: 0.8873\n",
            "Epoch 36/100\n",
            "750/750 [==============================] - 2s 3ms/step - loss: 0.2914 - accuracy: 0.8917 - val_loss: 0.3210 - val_accuracy: 0.8813\n",
            "Epoch 37/100\n",
            "750/750 [==============================] - 2s 3ms/step - loss: 0.2867 - accuracy: 0.8930 - val_loss: 0.3137 - val_accuracy: 0.8898\n",
            "Epoch 38/100\n",
            "750/750 [==============================] - 2s 3ms/step - loss: 0.2887 - accuracy: 0.8933 - val_loss: 0.3090 - val_accuracy: 0.8918\n",
            "Epoch 39/100\n",
            "750/750 [==============================] - 2s 3ms/step - loss: 0.2844 - accuracy: 0.8941 - val_loss: 0.3089 - val_accuracy: 0.8906\n",
            "Epoch 40/100\n",
            "750/750 [==============================] - 2s 3ms/step - loss: 0.2878 - accuracy: 0.8951 - val_loss: 0.3018 - val_accuracy: 0.8919\n",
            "Epoch 41/100\n",
            "750/750 [==============================] - 2s 3ms/step - loss: 0.2810 - accuracy: 0.8959 - val_loss: 0.3071 - val_accuracy: 0.8914\n",
            "Epoch 42/100\n",
            "750/750 [==============================] - 2s 3ms/step - loss: 0.2832 - accuracy: 0.8957 - val_loss: 0.3111 - val_accuracy: 0.8907\n",
            "Epoch 43/100\n",
            "750/750 [==============================] - 2s 3ms/step - loss: 0.2839 - accuracy: 0.8957 - val_loss: 0.3143 - val_accuracy: 0.8881\n",
            "Epoch 44/100\n",
            "750/750 [==============================] - 2s 3ms/step - loss: 0.2797 - accuracy: 0.8962 - val_loss: 0.3045 - val_accuracy: 0.8929\n",
            "Epoch 45/100\n",
            "750/750 [==============================] - 2s 3ms/step - loss: 0.2733 - accuracy: 0.8983 - val_loss: 0.3134 - val_accuracy: 0.8898\n",
            "Epoch 46/100\n",
            "750/750 [==============================] - 2s 3ms/step - loss: 0.2755 - accuracy: 0.8965 - val_loss: 0.3249 - val_accuracy: 0.8857\n",
            "Epoch 47/100\n",
            "750/750 [==============================] - 2s 3ms/step - loss: 0.2749 - accuracy: 0.8985 - val_loss: 0.3157 - val_accuracy: 0.8901\n",
            "Epoch 48/100\n",
            "750/750 [==============================] - 2s 3ms/step - loss: 0.2737 - accuracy: 0.8991 - val_loss: 0.3137 - val_accuracy: 0.8925\n",
            "Epoch 49/100\n",
            "750/750 [==============================] - 2s 3ms/step - loss: 0.2714 - accuracy: 0.9004 - val_loss: 0.3061 - val_accuracy: 0.8892\n",
            "Epoch 50/100\n",
            "750/750 [==============================] - 2s 3ms/step - loss: 0.2708 - accuracy: 0.8980 - val_loss: 0.3157 - val_accuracy: 0.8937\n",
            "Epoch 51/100\n",
            "750/750 [==============================] - 2s 3ms/step - loss: 0.2699 - accuracy: 0.8998 - val_loss: 0.3040 - val_accuracy: 0.8926\n",
            "Epoch 52/100\n",
            "750/750 [==============================] - 2s 3ms/step - loss: 0.2687 - accuracy: 0.8995 - val_loss: 0.3068 - val_accuracy: 0.8939\n",
            "Epoch 53/100\n",
            "750/750 [==============================] - 2s 3ms/step - loss: 0.2648 - accuracy: 0.9018 - val_loss: 0.3030 - val_accuracy: 0.8937\n",
            "Epoch 54/100\n",
            "750/750 [==============================] - 2s 3ms/step - loss: 0.2648 - accuracy: 0.9021 - val_loss: 0.3167 - val_accuracy: 0.8893\n",
            "Epoch 55/100\n",
            "750/750 [==============================] - 2s 3ms/step - loss: 0.2661 - accuracy: 0.9014 - val_loss: 0.3131 - val_accuracy: 0.8923\n",
            "Epoch 56/100\n",
            "750/750 [==============================] - 2s 3ms/step - loss: 0.2684 - accuracy: 0.9009 - val_loss: 0.3244 - val_accuracy: 0.8873\n",
            "Epoch 57/100\n",
            "750/750 [==============================] - 2s 3ms/step - loss: 0.2636 - accuracy: 0.9011 - val_loss: 0.3117 - val_accuracy: 0.8953\n",
            "Epoch 58/100\n",
            "750/750 [==============================] - 2s 3ms/step - loss: 0.2627 - accuracy: 0.9021 - val_loss: 0.3201 - val_accuracy: 0.8947\n",
            "Epoch 59/100\n",
            "750/750 [==============================] - 2s 3ms/step - loss: 0.2588 - accuracy: 0.9049 - val_loss: 0.3145 - val_accuracy: 0.8929\n",
            "Epoch 60/100\n",
            "750/750 [==============================] - 2s 3ms/step - loss: 0.2624 - accuracy: 0.9036 - val_loss: 0.3133 - val_accuracy: 0.8942\n",
            "Epoch 61/100\n",
            "750/750 [==============================] - 2s 3ms/step - loss: 0.2637 - accuracy: 0.9021 - val_loss: 0.3166 - val_accuracy: 0.8928\n",
            "Epoch 62/100\n",
            "750/750 [==============================] - 2s 3ms/step - loss: 0.2607 - accuracy: 0.9009 - val_loss: 0.3140 - val_accuracy: 0.8903\n",
            "Epoch 63/100\n",
            "750/750 [==============================] - 2s 3ms/step - loss: 0.2541 - accuracy: 0.9051 - val_loss: 0.3144 - val_accuracy: 0.8901\n",
            "Epoch 64/100\n",
            "750/750 [==============================] - 2s 3ms/step - loss: 0.2524 - accuracy: 0.9059 - val_loss: 0.3164 - val_accuracy: 0.8927\n",
            "Epoch 65/100\n",
            "750/750 [==============================] - 2s 3ms/step - loss: 0.2557 - accuracy: 0.9052 - val_loss: 0.3181 - val_accuracy: 0.8933\n",
            "Epoch 66/100\n",
            "750/750 [==============================] - 2s 3ms/step - loss: 0.2519 - accuracy: 0.9074 - val_loss: 0.3238 - val_accuracy: 0.8907\n",
            "Epoch 67/100\n",
            "750/750 [==============================] - 2s 3ms/step - loss: 0.2546 - accuracy: 0.9048 - val_loss: 0.3121 - val_accuracy: 0.8944\n",
            "Epoch 68/100\n",
            "750/750 [==============================] - 2s 3ms/step - loss: 0.2556 - accuracy: 0.9044 - val_loss: 0.3133 - val_accuracy: 0.8941\n",
            "Epoch 69/100\n",
            "750/750 [==============================] - 2s 3ms/step - loss: 0.2526 - accuracy: 0.9061 - val_loss: 0.3152 - val_accuracy: 0.8952\n",
            "Epoch 70/100\n",
            "750/750 [==============================] - 2s 3ms/step - loss: 0.2488 - accuracy: 0.9069 - val_loss: 0.3144 - val_accuracy: 0.8911\n",
            "Epoch 71/100\n",
            "750/750 [==============================] - 2s 3ms/step - loss: 0.2508 - accuracy: 0.9079 - val_loss: 0.3184 - val_accuracy: 0.8906\n",
            "Epoch 72/100\n",
            "750/750 [==============================] - 2s 3ms/step - loss: 0.2504 - accuracy: 0.9075 - val_loss: 0.3190 - val_accuracy: 0.8898\n",
            "Epoch 73/100\n",
            "750/750 [==============================] - 2s 3ms/step - loss: 0.2494 - accuracy: 0.9074 - val_loss: 0.3146 - val_accuracy: 0.8918\n",
            "Epoch 74/100\n",
            "750/750 [==============================] - 2s 3ms/step - loss: 0.2447 - accuracy: 0.9085 - val_loss: 0.3223 - val_accuracy: 0.8918\n",
            "Epoch 75/100\n",
            "750/750 [==============================] - 2s 3ms/step - loss: 0.2437 - accuracy: 0.9100 - val_loss: 0.3185 - val_accuracy: 0.8938\n",
            "Epoch 76/100\n",
            "750/750 [==============================] - 2s 3ms/step - loss: 0.2467 - accuracy: 0.9091 - val_loss: 0.3228 - val_accuracy: 0.8941\n",
            "Epoch 77/100\n",
            "750/750 [==============================] - 2s 3ms/step - loss: 0.2449 - accuracy: 0.9089 - val_loss: 0.3267 - val_accuracy: 0.8899\n",
            "Epoch 78/100\n",
            "750/750 [==============================] - 2s 3ms/step - loss: 0.2470 - accuracy: 0.9085 - val_loss: 0.3345 - val_accuracy: 0.8917\n",
            "Epoch 79/100\n",
            "750/750 [==============================] - 2s 3ms/step - loss: 0.2444 - accuracy: 0.9090 - val_loss: 0.3206 - val_accuracy: 0.8946\n",
            "Epoch 80/100\n",
            "750/750 [==============================] - 2s 3ms/step - loss: 0.2418 - accuracy: 0.9092 - val_loss: 0.3307 - val_accuracy: 0.8941\n",
            "Epoch 81/100\n",
            "750/750 [==============================] - 2s 3ms/step - loss: 0.2414 - accuracy: 0.9109 - val_loss: 0.3239 - val_accuracy: 0.8934\n",
            "Epoch 82/100\n",
            "750/750 [==============================] - 2s 3ms/step - loss: 0.2398 - accuracy: 0.9113 - val_loss: 0.3212 - val_accuracy: 0.8958\n",
            "Epoch 83/100\n",
            "750/750 [==============================] - 2s 3ms/step - loss: 0.2377 - accuracy: 0.9111 - val_loss: 0.3265 - val_accuracy: 0.8953\n",
            "Epoch 84/100\n",
            "750/750 [==============================] - 2s 3ms/step - loss: 0.2418 - accuracy: 0.9099 - val_loss: 0.3317 - val_accuracy: 0.8938\n",
            "Epoch 85/100\n",
            "750/750 [==============================] - 2s 3ms/step - loss: 0.2425 - accuracy: 0.9103 - val_loss: 0.3219 - val_accuracy: 0.8935\n",
            "Epoch 86/100\n",
            "750/750 [==============================] - 2s 3ms/step - loss: 0.2383 - accuracy: 0.9111 - val_loss: 0.3249 - val_accuracy: 0.8939\n",
            "Epoch 87/100\n",
            "750/750 [==============================] - 2s 3ms/step - loss: 0.2394 - accuracy: 0.9112 - val_loss: 0.3324 - val_accuracy: 0.8930\n",
            "Epoch 88/100\n",
            "750/750 [==============================] - 2s 3ms/step - loss: 0.2421 - accuracy: 0.9114 - val_loss: 0.3249 - val_accuracy: 0.8952\n",
            "Epoch 89/100\n",
            "750/750 [==============================] - 2s 3ms/step - loss: 0.2365 - accuracy: 0.9141 - val_loss: 0.3277 - val_accuracy: 0.8923\n",
            "Epoch 90/100\n",
            "750/750 [==============================] - 2s 3ms/step - loss: 0.2338 - accuracy: 0.9129 - val_loss: 0.3281 - val_accuracy: 0.8927\n",
            "Epoch 91/100\n",
            "750/750 [==============================] - 2s 3ms/step - loss: 0.2387 - accuracy: 0.9114 - val_loss: 0.3344 - val_accuracy: 0.8937\n",
            "Epoch 92/100\n",
            "750/750 [==============================] - 2s 3ms/step - loss: 0.2397 - accuracy: 0.9118 - val_loss: 0.3232 - val_accuracy: 0.8940\n",
            "Epoch 93/100\n",
            "750/750 [==============================] - 2s 3ms/step - loss: 0.2264 - accuracy: 0.9161 - val_loss: 0.3187 - val_accuracy: 0.8977\n",
            "Epoch 94/100\n",
            "750/750 [==============================] - 2s 3ms/step - loss: 0.2341 - accuracy: 0.9145 - val_loss: 0.3199 - val_accuracy: 0.8950\n",
            "Epoch 95/100\n",
            "750/750 [==============================] - 2s 3ms/step - loss: 0.2316 - accuracy: 0.9148 - val_loss: 0.3275 - val_accuracy: 0.8954\n",
            "Epoch 96/100\n",
            "750/750 [==============================] - 2s 3ms/step - loss: 0.2274 - accuracy: 0.9148 - val_loss: 0.3317 - val_accuracy: 0.8944\n",
            "Epoch 97/100\n",
            "750/750 [==============================] - 2s 3ms/step - loss: 0.2326 - accuracy: 0.9139 - val_loss: 0.3250 - val_accuracy: 0.8976\n",
            "Epoch 98/100\n",
            "750/750 [==============================] - 2s 3ms/step - loss: 0.2295 - accuracy: 0.9153 - val_loss: 0.3320 - val_accuracy: 0.8974\n",
            "Epoch 99/100\n",
            "750/750 [==============================] - 2s 3ms/step - loss: 0.2309 - accuracy: 0.9150 - val_loss: 0.3394 - val_accuracy: 0.8940\n",
            "Epoch 100/100\n",
            "750/750 [==============================] - 2s 3ms/step - loss: 0.2241 - accuracy: 0.9168 - val_loss: 0.3414 - val_accuracy: 0.8951\n"
          ]
        }
      ]
    },
    {
      "cell_type": "code",
      "metadata": {
        "colab": {
          "base_uri": "https://localhost:8080/"
        },
        "id": "RdSGrrikbWHO",
        "outputId": "62b282d6-b421-4445-ae6b-b5e0a7e93dcc"
      },
      "source": [
        "# Checking model summary\n",
        "model_7.summary()"
      ],
      "execution_count": null,
      "outputs": [
        {
          "output_type": "stream",
          "name": "stdout",
          "text": [
            "Model: \"mlp7\"\n",
            "_________________________________________________________________\n",
            "Layer (type)                 Output Shape              Param #   \n",
            "=================================================================\n",
            "dense_layer1 (Dense)         (None, 392)               307720    \n",
            "_________________________________________________________________\n",
            "dropout_layer1 (Dropout)     (None, 392)               0         \n",
            "_________________________________________________________________\n",
            "dense_layer2 (Dense)         (None, 196)               77028     \n",
            "_________________________________________________________________\n",
            "dropout_layer2 (Dropout)     (None, 196)               0         \n",
            "_________________________________________________________________\n",
            "dense_layer3 (Dense)         (None, 10)                1970      \n",
            "=================================================================\n",
            "Total params: 386,718\n",
            "Trainable params: 386,718\n",
            "Non-trainable params: 0\n",
            "_________________________________________________________________\n"
          ]
        }
      ]
    },
    {
      "cell_type": "code",
      "metadata": {
        "colab": {
          "base_uri": "https://localhost:8080/"
        },
        "id": "QdPglOgpbZ5A",
        "outputId": "c0b7ad6f-53fe-4aaf-cbcd-2273882ed529"
      },
      "source": [
        "# Evaluating the model on test dataset\n",
        "model_7.evaluate(X_test_norm, y_test_cat, batch_size= 64)"
      ],
      "execution_count": null,
      "outputs": [
        {
          "output_type": "stream",
          "name": "stdout",
          "text": [
            "157/157 [==============================] - 0s 2ms/step - loss: 0.3709 - accuracy: 0.8900\n"
          ]
        },
        {
          "output_type": "execute_result",
          "data": {
            "text/plain": [
              "[0.37090638279914856, 0.8899999856948853]"
            ]
          },
          "metadata": {},
          "execution_count": 48
        }
      ]
    },
    {
      "cell_type": "markdown",
      "metadata": {
        "id": "IvdE8Ca7biT-"
      },
      "source": [
        "After changing number of hidden units and increasing rate of dropout, we have got training accuracy of 91% and tetsing accuracy of 89%. Difference between tarining and tetsing loss has also reduced."
      ]
    },
    {
      "cell_type": "markdown",
      "metadata": {
        "id": "rT6njSyFwp7C"
      },
      "source": [
        "### 9. Building exact same model as previous and training the model for more epochs\n",
        "\n"
      ]
    },
    {
      "cell_type": "code",
      "metadata": {
        "colab": {
          "base_uri": "https://localhost:8080/"
        },
        "id": "JtAvRzdHBYne",
        "outputId": "e7022021-a87a-43d7-8e97-21216c97bb29"
      },
      "source": [
        "# Building exact same model as previous and training the model for more epochs\n",
        "tf.random.set_seed(42)\n",
        "model_8= tf.keras.Sequential(name= 'mlp8')\n",
        "model_8.add(tf.keras.layers.Dense(392, input_shape= (X_train_norm.shape[1],), activation= 'relu', kernel_initializer= 'he_normal', name= 'dense_layer1'))\n",
        "model_8.add(tf.keras.layers.Dropout(.5, name= 'dropout_layer1'))\n",
        "model_8.add(tf.keras.layers.Dense(196, activation= 'relu', kernel_initializer= 'he_normal', name= 'dense_layer2'))\n",
        "model_8.add(tf.keras.layers.Dropout(.5, name= 'dropout_layer2'))\n",
        "model_8.add(tf.keras.layers.Dense(10, activation= 'softmax', name= 'dense_layer3'))\n",
        "\n",
        "# Compiling the model\n",
        "model_8.compile(optimizer= 'adam', loss= 'categorical_crossentropy', metrics= ['accuracy'])\n",
        "\n",
        "# Training the model with lower batch_size\n",
        "history_8= model_8.fit(X_train_norm, y_train_cat, batch_size= 64, epochs= 200, validation_split= .2)"
      ],
      "execution_count": null,
      "outputs": [
        {
          "output_type": "stream",
          "name": "stdout",
          "text": [
            "Epoch 1/200\n",
            "750/750 [==============================] - 3s 3ms/step - loss: 0.7053 - accuracy: 0.7446 - val_loss: 0.4491 - val_accuracy: 0.8329\n",
            "Epoch 2/200\n",
            "750/750 [==============================] - 2s 3ms/step - loss: 0.5058 - accuracy: 0.8171 - val_loss: 0.4124 - val_accuracy: 0.8476\n",
            "Epoch 3/200\n",
            "750/750 [==============================] - 2s 3ms/step - loss: 0.4642 - accuracy: 0.8310 - val_loss: 0.3859 - val_accuracy: 0.8571\n",
            "Epoch 4/200\n",
            "750/750 [==============================] - 2s 3ms/step - loss: 0.4367 - accuracy: 0.8424 - val_loss: 0.3686 - val_accuracy: 0.8700\n",
            "Epoch 5/200\n",
            "750/750 [==============================] - 2s 3ms/step - loss: 0.4208 - accuracy: 0.8475 - val_loss: 0.3711 - val_accuracy: 0.8673\n",
            "Epoch 6/200\n",
            "750/750 [==============================] - 2s 3ms/step - loss: 0.4092 - accuracy: 0.8515 - val_loss: 0.3606 - val_accuracy: 0.8684\n",
            "Epoch 7/200\n",
            "750/750 [==============================] - 2s 3ms/step - loss: 0.3966 - accuracy: 0.8557 - val_loss: 0.3462 - val_accuracy: 0.8714\n",
            "Epoch 8/200\n",
            "750/750 [==============================] - 2s 3ms/step - loss: 0.3886 - accuracy: 0.8580 - val_loss: 0.3548 - val_accuracy: 0.8698\n",
            "Epoch 9/200\n",
            "750/750 [==============================] - 2s 3ms/step - loss: 0.3787 - accuracy: 0.8628 - val_loss: 0.3367 - val_accuracy: 0.8776\n",
            "Epoch 10/200\n",
            "750/750 [==============================] - 2s 3ms/step - loss: 0.3714 - accuracy: 0.8648 - val_loss: 0.3343 - val_accuracy: 0.8752\n",
            "Epoch 11/200\n",
            "750/750 [==============================] - 2s 3ms/step - loss: 0.3648 - accuracy: 0.8668 - val_loss: 0.3306 - val_accuracy: 0.8800\n",
            "Epoch 12/200\n",
            "750/750 [==============================] - 2s 3ms/step - loss: 0.3571 - accuracy: 0.8698 - val_loss: 0.3325 - val_accuracy: 0.8802\n",
            "Epoch 13/200\n",
            "750/750 [==============================] - 2s 3ms/step - loss: 0.3561 - accuracy: 0.8695 - val_loss: 0.3377 - val_accuracy: 0.8773\n",
            "Epoch 14/200\n",
            "750/750 [==============================] - 2s 3ms/step - loss: 0.3495 - accuracy: 0.8710 - val_loss: 0.3273 - val_accuracy: 0.8750\n",
            "Epoch 15/200\n",
            "750/750 [==============================] - 2s 3ms/step - loss: 0.3404 - accuracy: 0.8757 - val_loss: 0.3260 - val_accuracy: 0.8816\n",
            "Epoch 16/200\n",
            "750/750 [==============================] - 2s 3ms/step - loss: 0.3421 - accuracy: 0.8748 - val_loss: 0.3249 - val_accuracy: 0.8823\n",
            "Epoch 17/200\n",
            "750/750 [==============================] - 2s 3ms/step - loss: 0.3394 - accuracy: 0.8753 - val_loss: 0.3284 - val_accuracy: 0.8838\n",
            "Epoch 18/200\n",
            "750/750 [==============================] - 2s 3ms/step - loss: 0.3287 - accuracy: 0.8777 - val_loss: 0.3249 - val_accuracy: 0.8813\n",
            "Epoch 19/200\n",
            "750/750 [==============================] - 2s 3ms/step - loss: 0.3272 - accuracy: 0.8795 - val_loss: 0.3309 - val_accuracy: 0.8790\n",
            "Epoch 20/200\n",
            "750/750 [==============================] - 2s 3ms/step - loss: 0.3267 - accuracy: 0.8792 - val_loss: 0.3239 - val_accuracy: 0.8829\n",
            "Epoch 21/200\n",
            "750/750 [==============================] - 2s 3ms/step - loss: 0.3245 - accuracy: 0.8787 - val_loss: 0.3134 - val_accuracy: 0.8858\n",
            "Epoch 22/200\n",
            "750/750 [==============================] - 2s 3ms/step - loss: 0.3219 - accuracy: 0.8834 - val_loss: 0.3196 - val_accuracy: 0.8867\n",
            "Epoch 23/200\n",
            "750/750 [==============================] - 2s 3ms/step - loss: 0.3184 - accuracy: 0.8811 - val_loss: 0.3179 - val_accuracy: 0.8857\n",
            "Epoch 24/200\n",
            "750/750 [==============================] - 2s 3ms/step - loss: 0.3163 - accuracy: 0.8835 - val_loss: 0.3096 - val_accuracy: 0.8883\n",
            "Epoch 25/200\n",
            "750/750 [==============================] - 2s 3ms/step - loss: 0.3141 - accuracy: 0.8836 - val_loss: 0.3053 - val_accuracy: 0.8881\n",
            "Epoch 26/200\n",
            "750/750 [==============================] - 2s 3ms/step - loss: 0.3115 - accuracy: 0.8844 - val_loss: 0.3123 - val_accuracy: 0.8877\n",
            "Epoch 27/200\n",
            "750/750 [==============================] - 2s 3ms/step - loss: 0.3113 - accuracy: 0.8844 - val_loss: 0.3077 - val_accuracy: 0.8917\n",
            "Epoch 28/200\n",
            "750/750 [==============================] - 2s 3ms/step - loss: 0.3032 - accuracy: 0.8877 - val_loss: 0.3141 - val_accuracy: 0.8864\n",
            "Epoch 29/200\n",
            "750/750 [==============================] - 2s 3ms/step - loss: 0.3023 - accuracy: 0.8868 - val_loss: 0.3057 - val_accuracy: 0.8859\n",
            "Epoch 30/200\n",
            "750/750 [==============================] - 2s 3ms/step - loss: 0.2980 - accuracy: 0.8896 - val_loss: 0.3095 - val_accuracy: 0.8891\n",
            "Epoch 31/200\n",
            "750/750 [==============================] - 2s 3ms/step - loss: 0.3020 - accuracy: 0.8888 - val_loss: 0.3130 - val_accuracy: 0.8866\n",
            "Epoch 32/200\n",
            "750/750 [==============================] - 2s 3ms/step - loss: 0.2984 - accuracy: 0.8901 - val_loss: 0.3039 - val_accuracy: 0.8947\n",
            "Epoch 33/200\n",
            "750/750 [==============================] - 2s 3ms/step - loss: 0.2949 - accuracy: 0.8921 - val_loss: 0.3095 - val_accuracy: 0.8839\n",
            "Epoch 34/200\n",
            "750/750 [==============================] - 2s 3ms/step - loss: 0.2941 - accuracy: 0.8932 - val_loss: 0.3026 - val_accuracy: 0.8919\n",
            "Epoch 35/200\n",
            "750/750 [==============================] - 2s 3ms/step - loss: 0.2908 - accuracy: 0.8913 - val_loss: 0.3171 - val_accuracy: 0.8847\n",
            "Epoch 36/200\n",
            "750/750 [==============================] - 2s 3ms/step - loss: 0.2967 - accuracy: 0.8905 - val_loss: 0.3022 - val_accuracy: 0.8903\n",
            "Epoch 37/200\n",
            "750/750 [==============================] - 2s 3ms/step - loss: 0.2878 - accuracy: 0.8926 - val_loss: 0.3081 - val_accuracy: 0.8917\n",
            "Epoch 38/200\n",
            "750/750 [==============================] - 2s 3ms/step - loss: 0.2891 - accuracy: 0.8936 - val_loss: 0.3041 - val_accuracy: 0.8924\n",
            "Epoch 39/200\n",
            "750/750 [==============================] - 2s 3ms/step - loss: 0.2826 - accuracy: 0.8961 - val_loss: 0.3059 - val_accuracy: 0.8926\n",
            "Epoch 40/200\n",
            "750/750 [==============================] - 2s 3ms/step - loss: 0.2909 - accuracy: 0.8924 - val_loss: 0.3106 - val_accuracy: 0.8904\n",
            "Epoch 41/200\n",
            "750/750 [==============================] - 2s 3ms/step - loss: 0.2858 - accuracy: 0.8946 - val_loss: 0.3006 - val_accuracy: 0.8909\n",
            "Epoch 42/200\n",
            "750/750 [==============================] - 2s 3ms/step - loss: 0.2829 - accuracy: 0.8962 - val_loss: 0.3076 - val_accuracy: 0.8924\n",
            "Epoch 43/200\n",
            "750/750 [==============================] - 2s 3ms/step - loss: 0.2863 - accuracy: 0.8942 - val_loss: 0.3159 - val_accuracy: 0.8888\n",
            "Epoch 44/200\n",
            "750/750 [==============================] - 2s 3ms/step - loss: 0.2788 - accuracy: 0.8971 - val_loss: 0.3102 - val_accuracy: 0.8923\n",
            "Epoch 45/200\n",
            "750/750 [==============================] - 2s 3ms/step - loss: 0.2797 - accuracy: 0.8957 - val_loss: 0.3194 - val_accuracy: 0.8883\n",
            "Epoch 46/200\n",
            "750/750 [==============================] - 2s 3ms/step - loss: 0.2763 - accuracy: 0.8968 - val_loss: 0.3130 - val_accuracy: 0.8884\n",
            "Epoch 47/200\n",
            "750/750 [==============================] - 2s 3ms/step - loss: 0.2811 - accuracy: 0.8963 - val_loss: 0.3157 - val_accuracy: 0.8907\n",
            "Epoch 48/200\n",
            "750/750 [==============================] - 2s 3ms/step - loss: 0.2714 - accuracy: 0.9000 - val_loss: 0.3225 - val_accuracy: 0.8913\n",
            "Epoch 49/200\n",
            "750/750 [==============================] - 2s 3ms/step - loss: 0.2728 - accuracy: 0.8997 - val_loss: 0.3180 - val_accuracy: 0.8894\n",
            "Epoch 50/200\n",
            "750/750 [==============================] - 2s 3ms/step - loss: 0.2733 - accuracy: 0.8989 - val_loss: 0.3054 - val_accuracy: 0.8946\n",
            "Epoch 51/200\n",
            "750/750 [==============================] - 2s 3ms/step - loss: 0.2650 - accuracy: 0.9018 - val_loss: 0.3059 - val_accuracy: 0.8911\n",
            "Epoch 52/200\n",
            "750/750 [==============================] - 2s 3ms/step - loss: 0.2692 - accuracy: 0.9001 - val_loss: 0.3082 - val_accuracy: 0.8932\n",
            "Epoch 53/200\n",
            "750/750 [==============================] - 2s 3ms/step - loss: 0.2688 - accuracy: 0.9004 - val_loss: 0.3049 - val_accuracy: 0.8946\n",
            "Epoch 54/200\n",
            "750/750 [==============================] - 2s 3ms/step - loss: 0.2673 - accuracy: 0.8998 - val_loss: 0.3131 - val_accuracy: 0.8878\n",
            "Epoch 55/200\n",
            "750/750 [==============================] - 2s 3ms/step - loss: 0.2700 - accuracy: 0.8997 - val_loss: 0.3015 - val_accuracy: 0.8942\n",
            "Epoch 56/200\n",
            "750/750 [==============================] - 2s 3ms/step - loss: 0.2630 - accuracy: 0.9030 - val_loss: 0.3205 - val_accuracy: 0.8923\n",
            "Epoch 57/200\n",
            "750/750 [==============================] - 2s 3ms/step - loss: 0.2637 - accuracy: 0.9006 - val_loss: 0.3075 - val_accuracy: 0.8949\n",
            "Epoch 58/200\n",
            "750/750 [==============================] - 2s 3ms/step - loss: 0.2654 - accuracy: 0.9016 - val_loss: 0.3082 - val_accuracy: 0.8947\n",
            "Epoch 59/200\n",
            "750/750 [==============================] - 2s 3ms/step - loss: 0.2581 - accuracy: 0.9046 - val_loss: 0.3146 - val_accuracy: 0.8917\n",
            "Epoch 60/200\n",
            "750/750 [==============================] - 2s 3ms/step - loss: 0.2604 - accuracy: 0.9021 - val_loss: 0.3098 - val_accuracy: 0.8939\n",
            "Epoch 61/200\n",
            "750/750 [==============================] - 2s 3ms/step - loss: 0.2574 - accuracy: 0.9046 - val_loss: 0.3109 - val_accuracy: 0.8955\n",
            "Epoch 62/200\n",
            "750/750 [==============================] - 2s 3ms/step - loss: 0.2591 - accuracy: 0.9047 - val_loss: 0.3183 - val_accuracy: 0.8921\n",
            "Epoch 63/200\n",
            "750/750 [==============================] - 2s 3ms/step - loss: 0.2582 - accuracy: 0.9048 - val_loss: 0.3169 - val_accuracy: 0.8916\n",
            "Epoch 64/200\n",
            "750/750 [==============================] - 2s 3ms/step - loss: 0.2542 - accuracy: 0.9055 - val_loss: 0.3047 - val_accuracy: 0.8956\n",
            "Epoch 65/200\n",
            "750/750 [==============================] - 2s 3ms/step - loss: 0.2562 - accuracy: 0.9051 - val_loss: 0.3157 - val_accuracy: 0.8937\n",
            "Epoch 66/200\n",
            "750/750 [==============================] - 2s 3ms/step - loss: 0.2559 - accuracy: 0.9049 - val_loss: 0.3163 - val_accuracy: 0.8917\n",
            "Epoch 67/200\n",
            "750/750 [==============================] - 2s 3ms/step - loss: 0.2555 - accuracy: 0.9053 - val_loss: 0.3190 - val_accuracy: 0.8909\n",
            "Epoch 68/200\n",
            "750/750 [==============================] - 2s 3ms/step - loss: 0.2528 - accuracy: 0.9059 - val_loss: 0.3044 - val_accuracy: 0.8965\n",
            "Epoch 69/200\n",
            "750/750 [==============================] - 2s 3ms/step - loss: 0.2511 - accuracy: 0.9068 - val_loss: 0.3212 - val_accuracy: 0.8927\n",
            "Epoch 70/200\n",
            "750/750 [==============================] - 2s 3ms/step - loss: 0.2500 - accuracy: 0.9084 - val_loss: 0.3139 - val_accuracy: 0.8921\n",
            "Epoch 71/200\n",
            "750/750 [==============================] - 2s 3ms/step - loss: 0.2537 - accuracy: 0.9067 - val_loss: 0.3181 - val_accuracy: 0.8947\n",
            "Epoch 72/200\n",
            "750/750 [==============================] - 2s 3ms/step - loss: 0.2505 - accuracy: 0.9084 - val_loss: 0.3125 - val_accuracy: 0.8935\n",
            "Epoch 73/200\n",
            "750/750 [==============================] - 2s 3ms/step - loss: 0.2467 - accuracy: 0.9077 - val_loss: 0.3254 - val_accuracy: 0.8933\n",
            "Epoch 74/200\n",
            "750/750 [==============================] - 2s 3ms/step - loss: 0.2433 - accuracy: 0.9095 - val_loss: 0.3291 - val_accuracy: 0.8931\n",
            "Epoch 75/200\n",
            "750/750 [==============================] - 2s 3ms/step - loss: 0.2447 - accuracy: 0.9089 - val_loss: 0.3189 - val_accuracy: 0.8947\n",
            "Epoch 76/200\n",
            "750/750 [==============================] - 2s 3ms/step - loss: 0.2496 - accuracy: 0.9075 - val_loss: 0.3228 - val_accuracy: 0.8960\n",
            "Epoch 77/200\n",
            "750/750 [==============================] - 2s 3ms/step - loss: 0.2452 - accuracy: 0.9081 - val_loss: 0.3255 - val_accuracy: 0.8924\n",
            "Epoch 78/200\n",
            "750/750 [==============================] - 2s 3ms/step - loss: 0.2432 - accuracy: 0.9094 - val_loss: 0.3179 - val_accuracy: 0.8936\n",
            "Epoch 79/200\n",
            "750/750 [==============================] - 2s 3ms/step - loss: 0.2406 - accuracy: 0.9102 - val_loss: 0.3293 - val_accuracy: 0.8903\n",
            "Epoch 80/200\n",
            "750/750 [==============================] - 2s 3ms/step - loss: 0.2460 - accuracy: 0.9096 - val_loss: 0.3291 - val_accuracy: 0.8947\n",
            "Epoch 81/200\n",
            "750/750 [==============================] - 2s 3ms/step - loss: 0.2439 - accuracy: 0.9086 - val_loss: 0.3252 - val_accuracy: 0.8947\n",
            "Epoch 82/200\n",
            "750/750 [==============================] - 2s 3ms/step - loss: 0.2406 - accuracy: 0.9110 - val_loss: 0.3220 - val_accuracy: 0.8945\n",
            "Epoch 83/200\n",
            "750/750 [==============================] - 2s 3ms/step - loss: 0.2382 - accuracy: 0.9130 - val_loss: 0.3236 - val_accuracy: 0.8950\n",
            "Epoch 84/200\n",
            "750/750 [==============================] - 2s 3ms/step - loss: 0.2422 - accuracy: 0.9103 - val_loss: 0.3210 - val_accuracy: 0.8959\n",
            "Epoch 85/200\n",
            "750/750 [==============================] - 2s 3ms/step - loss: 0.2407 - accuracy: 0.9124 - val_loss: 0.3198 - val_accuracy: 0.8972\n",
            "Epoch 86/200\n",
            "750/750 [==============================] - 2s 3ms/step - loss: 0.2400 - accuracy: 0.9119 - val_loss: 0.3278 - val_accuracy: 0.8950\n",
            "Epoch 87/200\n",
            "750/750 [==============================] - 2s 3ms/step - loss: 0.2400 - accuracy: 0.9115 - val_loss: 0.3203 - val_accuracy: 0.8965\n",
            "Epoch 88/200\n",
            "750/750 [==============================] - 2s 3ms/step - loss: 0.2338 - accuracy: 0.9133 - val_loss: 0.3310 - val_accuracy: 0.8967\n",
            "Epoch 89/200\n",
            "750/750 [==============================] - 2s 3ms/step - loss: 0.2333 - accuracy: 0.9141 - val_loss: 0.3292 - val_accuracy: 0.8950\n",
            "Epoch 90/200\n",
            "750/750 [==============================] - 2s 3ms/step - loss: 0.2363 - accuracy: 0.9133 - val_loss: 0.3242 - val_accuracy: 0.8957\n",
            "Epoch 91/200\n",
            "750/750 [==============================] - 2s 3ms/step - loss: 0.2327 - accuracy: 0.9144 - val_loss: 0.3349 - val_accuracy: 0.8952\n",
            "Epoch 92/200\n",
            "750/750 [==============================] - 2s 3ms/step - loss: 0.2387 - accuracy: 0.9110 - val_loss: 0.3253 - val_accuracy: 0.8963\n",
            "Epoch 93/200\n",
            "750/750 [==============================] - 2s 3ms/step - loss: 0.2322 - accuracy: 0.9142 - val_loss: 0.3410 - val_accuracy: 0.8945\n",
            "Epoch 94/200\n",
            "750/750 [==============================] - 2s 3ms/step - loss: 0.2347 - accuracy: 0.9126 - val_loss: 0.3330 - val_accuracy: 0.8929\n",
            "Epoch 95/200\n",
            "750/750 [==============================] - 2s 3ms/step - loss: 0.2350 - accuracy: 0.9135 - val_loss: 0.3231 - val_accuracy: 0.8980\n",
            "Epoch 96/200\n",
            "750/750 [==============================] - 2s 3ms/step - loss: 0.2310 - accuracy: 0.9147 - val_loss: 0.3184 - val_accuracy: 0.8938\n",
            "Epoch 97/200\n",
            "750/750 [==============================] - 2s 3ms/step - loss: 0.2332 - accuracy: 0.9138 - val_loss: 0.3226 - val_accuracy: 0.8956\n",
            "Epoch 98/200\n",
            "750/750 [==============================] - 2s 3ms/step - loss: 0.2321 - accuracy: 0.9138 - val_loss: 0.3410 - val_accuracy: 0.8938\n",
            "Epoch 99/200\n",
            "750/750 [==============================] - 2s 3ms/step - loss: 0.2309 - accuracy: 0.9144 - val_loss: 0.3372 - val_accuracy: 0.8967\n",
            "Epoch 100/200\n",
            "750/750 [==============================] - 2s 3ms/step - loss: 0.2315 - accuracy: 0.9143 - val_loss: 0.3340 - val_accuracy: 0.8953\n",
            "Epoch 101/200\n",
            "750/750 [==============================] - 2s 3ms/step - loss: 0.2345 - accuracy: 0.9139 - val_loss: 0.3242 - val_accuracy: 0.8963\n",
            "Epoch 102/200\n",
            "750/750 [==============================] - 2s 3ms/step - loss: 0.2305 - accuracy: 0.9150 - val_loss: 0.3409 - val_accuracy: 0.8938\n",
            "Epoch 103/200\n",
            "750/750 [==============================] - 2s 3ms/step - loss: 0.2278 - accuracy: 0.9153 - val_loss: 0.3425 - val_accuracy: 0.8954\n",
            "Epoch 104/200\n",
            "750/750 [==============================] - 2s 3ms/step - loss: 0.2312 - accuracy: 0.9139 - val_loss: 0.3282 - val_accuracy: 0.8948\n",
            "Epoch 105/200\n",
            "750/750 [==============================] - 2s 3ms/step - loss: 0.2265 - accuracy: 0.9173 - val_loss: 0.3291 - val_accuracy: 0.8943\n",
            "Epoch 106/200\n",
            "750/750 [==============================] - 2s 3ms/step - loss: 0.2262 - accuracy: 0.9153 - val_loss: 0.3381 - val_accuracy: 0.8981\n",
            "Epoch 107/200\n",
            "750/750 [==============================] - 2s 3ms/step - loss: 0.2275 - accuracy: 0.9165 - val_loss: 0.3362 - val_accuracy: 0.8959\n",
            "Epoch 108/200\n",
            "750/750 [==============================] - 2s 3ms/step - loss: 0.2261 - accuracy: 0.9151 - val_loss: 0.3401 - val_accuracy: 0.8930\n",
            "Epoch 109/200\n",
            "750/750 [==============================] - 2s 3ms/step - loss: 0.2213 - accuracy: 0.9164 - val_loss: 0.3273 - val_accuracy: 0.8985\n",
            "Epoch 110/200\n",
            "750/750 [==============================] - 2s 3ms/step - loss: 0.2257 - accuracy: 0.9172 - val_loss: 0.3346 - val_accuracy: 0.8976\n",
            "Epoch 111/200\n",
            "750/750 [==============================] - 2s 3ms/step - loss: 0.2246 - accuracy: 0.9180 - val_loss: 0.3330 - val_accuracy: 0.8971\n",
            "Epoch 112/200\n",
            "750/750 [==============================] - 2s 3ms/step - loss: 0.2213 - accuracy: 0.9178 - val_loss: 0.3377 - val_accuracy: 0.8958\n",
            "Epoch 113/200\n",
            "750/750 [==============================] - 2s 3ms/step - loss: 0.2207 - accuracy: 0.9181 - val_loss: 0.3390 - val_accuracy: 0.8928\n",
            "Epoch 114/200\n",
            "750/750 [==============================] - 2s 3ms/step - loss: 0.2236 - accuracy: 0.9179 - val_loss: 0.3344 - val_accuracy: 0.8971\n",
            "Epoch 115/200\n",
            "750/750 [==============================] - 2s 3ms/step - loss: 0.2169 - accuracy: 0.9191 - val_loss: 0.3452 - val_accuracy: 0.8926\n",
            "Epoch 116/200\n",
            "750/750 [==============================] - 2s 3ms/step - loss: 0.2189 - accuracy: 0.9175 - val_loss: 0.3480 - val_accuracy: 0.8946\n",
            "Epoch 117/200\n",
            "750/750 [==============================] - 2s 3ms/step - loss: 0.2175 - accuracy: 0.9184 - val_loss: 0.3466 - val_accuracy: 0.8971\n",
            "Epoch 118/200\n",
            "750/750 [==============================] - 2s 3ms/step - loss: 0.2202 - accuracy: 0.9187 - val_loss: 0.3410 - val_accuracy: 0.8969\n",
            "Epoch 119/200\n",
            "750/750 [==============================] - 2s 3ms/step - loss: 0.2129 - accuracy: 0.9222 - val_loss: 0.3400 - val_accuracy: 0.9002\n",
            "Epoch 120/200\n",
            "750/750 [==============================] - 2s 3ms/step - loss: 0.2197 - accuracy: 0.9196 - val_loss: 0.3469 - val_accuracy: 0.8953\n",
            "Epoch 121/200\n",
            "750/750 [==============================] - 2s 3ms/step - loss: 0.2152 - accuracy: 0.9210 - val_loss: 0.3426 - val_accuracy: 0.8954\n",
            "Epoch 122/200\n",
            "750/750 [==============================] - 2s 3ms/step - loss: 0.2153 - accuracy: 0.9209 - val_loss: 0.3481 - val_accuracy: 0.8947\n",
            "Epoch 123/200\n",
            "750/750 [==============================] - 2s 3ms/step - loss: 0.2195 - accuracy: 0.9198 - val_loss: 0.3385 - val_accuracy: 0.8982\n",
            "Epoch 124/200\n",
            "750/750 [==============================] - 2s 3ms/step - loss: 0.2204 - accuracy: 0.9178 - val_loss: 0.3436 - val_accuracy: 0.8933\n",
            "Epoch 125/200\n",
            "750/750 [==============================] - 2s 3ms/step - loss: 0.2139 - accuracy: 0.9198 - val_loss: 0.3381 - val_accuracy: 0.8969\n",
            "Epoch 126/200\n",
            "750/750 [==============================] - 2s 3ms/step - loss: 0.2141 - accuracy: 0.9208 - val_loss: 0.3532 - val_accuracy: 0.8992\n",
            "Epoch 127/200\n",
            "750/750 [==============================] - 2s 3ms/step - loss: 0.2127 - accuracy: 0.9221 - val_loss: 0.3573 - val_accuracy: 0.8962\n",
            "Epoch 128/200\n",
            "750/750 [==============================] - 2s 3ms/step - loss: 0.2134 - accuracy: 0.9201 - val_loss: 0.3442 - val_accuracy: 0.8964\n",
            "Epoch 129/200\n",
            "750/750 [==============================] - 2s 3ms/step - loss: 0.2112 - accuracy: 0.9221 - val_loss: 0.3596 - val_accuracy: 0.8953\n",
            "Epoch 130/200\n",
            "750/750 [==============================] - 2s 3ms/step - loss: 0.2141 - accuracy: 0.9209 - val_loss: 0.3518 - val_accuracy: 0.8935\n",
            "Epoch 131/200\n",
            "750/750 [==============================] - 2s 3ms/step - loss: 0.2086 - accuracy: 0.9221 - val_loss: 0.3530 - val_accuracy: 0.8978\n",
            "Epoch 132/200\n",
            "750/750 [==============================] - 2s 3ms/step - loss: 0.2152 - accuracy: 0.9217 - val_loss: 0.3520 - val_accuracy: 0.8996\n",
            "Epoch 133/200\n",
            "750/750 [==============================] - 2s 3ms/step - loss: 0.2115 - accuracy: 0.9216 - val_loss: 0.3505 - val_accuracy: 0.8953\n",
            "Epoch 134/200\n",
            "750/750 [==============================] - 2s 3ms/step - loss: 0.2136 - accuracy: 0.9215 - val_loss: 0.3552 - val_accuracy: 0.8977\n",
            "Epoch 135/200\n",
            "750/750 [==============================] - 2s 3ms/step - loss: 0.2099 - accuracy: 0.9214 - val_loss: 0.3535 - val_accuracy: 0.8957\n",
            "Epoch 136/200\n",
            "750/750 [==============================] - 2s 3ms/step - loss: 0.2120 - accuracy: 0.9235 - val_loss: 0.3592 - val_accuracy: 0.8979\n",
            "Epoch 137/200\n",
            "750/750 [==============================] - 2s 3ms/step - loss: 0.2083 - accuracy: 0.9235 - val_loss: 0.3513 - val_accuracy: 0.8979\n",
            "Epoch 138/200\n",
            "750/750 [==============================] - 2s 3ms/step - loss: 0.2044 - accuracy: 0.9232 - val_loss: 0.3511 - val_accuracy: 0.8944\n",
            "Epoch 139/200\n",
            "750/750 [==============================] - 2s 3ms/step - loss: 0.2096 - accuracy: 0.9230 - val_loss: 0.3626 - val_accuracy: 0.8964\n",
            "Epoch 140/200\n",
            "750/750 [==============================] - 2s 3ms/step - loss: 0.2124 - accuracy: 0.9223 - val_loss: 0.3558 - val_accuracy: 0.8943\n",
            "Epoch 141/200\n",
            "750/750 [==============================] - 2s 3ms/step - loss: 0.2102 - accuracy: 0.9222 - val_loss: 0.3612 - val_accuracy: 0.8930\n",
            "Epoch 142/200\n",
            "750/750 [==============================] - 2s 3ms/step - loss: 0.2075 - accuracy: 0.9236 - val_loss: 0.3645 - val_accuracy: 0.8933\n",
            "Epoch 143/200\n",
            "750/750 [==============================] - 2s 3ms/step - loss: 0.2032 - accuracy: 0.9250 - val_loss: 0.3737 - val_accuracy: 0.8910\n",
            "Epoch 144/200\n",
            "750/750 [==============================] - 2s 3ms/step - loss: 0.2062 - accuracy: 0.9241 - val_loss: 0.3483 - val_accuracy: 0.8981\n",
            "Epoch 145/200\n",
            "750/750 [==============================] - 2s 3ms/step - loss: 0.2051 - accuracy: 0.9252 - val_loss: 0.3582 - val_accuracy: 0.8982\n",
            "Epoch 146/200\n",
            "750/750 [==============================] - 2s 3ms/step - loss: 0.2075 - accuracy: 0.9240 - val_loss: 0.3603 - val_accuracy: 0.8989\n",
            "Epoch 147/200\n",
            "750/750 [==============================] - 2s 3ms/step - loss: 0.2025 - accuracy: 0.9245 - val_loss: 0.3607 - val_accuracy: 0.8976\n",
            "Epoch 148/200\n",
            "750/750 [==============================] - 2s 3ms/step - loss: 0.1989 - accuracy: 0.9251 - val_loss: 0.3550 - val_accuracy: 0.8939\n",
            "Epoch 149/200\n",
            "750/750 [==============================] - 2s 3ms/step - loss: 0.2044 - accuracy: 0.9255 - val_loss: 0.3610 - val_accuracy: 0.8947\n",
            "Epoch 150/200\n",
            "750/750 [==============================] - 2s 3ms/step - loss: 0.2072 - accuracy: 0.9236 - val_loss: 0.3506 - val_accuracy: 0.8981\n",
            "Epoch 151/200\n",
            "750/750 [==============================] - 2s 3ms/step - loss: 0.2062 - accuracy: 0.9251 - val_loss: 0.3582 - val_accuracy: 0.8942\n",
            "Epoch 152/200\n",
            "750/750 [==============================] - 2s 3ms/step - loss: 0.2026 - accuracy: 0.9252 - val_loss: 0.3624 - val_accuracy: 0.8977\n",
            "Epoch 153/200\n",
            "750/750 [==============================] - 2s 3ms/step - loss: 0.2060 - accuracy: 0.9243 - val_loss: 0.3739 - val_accuracy: 0.8955\n",
            "Epoch 154/200\n",
            "750/750 [==============================] - 2s 3ms/step - loss: 0.2015 - accuracy: 0.9247 - val_loss: 0.3750 - val_accuracy: 0.8956\n",
            "Epoch 155/200\n",
            "750/750 [==============================] - 2s 3ms/step - loss: 0.2009 - accuracy: 0.9255 - val_loss: 0.3647 - val_accuracy: 0.8965\n",
            "Epoch 156/200\n",
            "750/750 [==============================] - 2s 3ms/step - loss: 0.2018 - accuracy: 0.9251 - val_loss: 0.3587 - val_accuracy: 0.8975\n",
            "Epoch 157/200\n",
            "750/750 [==============================] - 2s 3ms/step - loss: 0.2058 - accuracy: 0.9249 - val_loss: 0.3573 - val_accuracy: 0.8989\n",
            "Epoch 158/200\n",
            "750/750 [==============================] - 2s 3ms/step - loss: 0.2011 - accuracy: 0.9268 - val_loss: 0.3615 - val_accuracy: 0.8967\n",
            "Epoch 159/200\n",
            "750/750 [==============================] - 2s 3ms/step - loss: 0.2019 - accuracy: 0.9265 - val_loss: 0.3645 - val_accuracy: 0.8949\n",
            "Epoch 160/200\n",
            "750/750 [==============================] - 2s 3ms/step - loss: 0.2010 - accuracy: 0.9264 - val_loss: 0.3697 - val_accuracy: 0.8970\n",
            "Epoch 161/200\n",
            "750/750 [==============================] - 2s 3ms/step - loss: 0.1994 - accuracy: 0.9262 - val_loss: 0.3622 - val_accuracy: 0.8959\n",
            "Epoch 162/200\n",
            "750/750 [==============================] - 2s 3ms/step - loss: 0.1980 - accuracy: 0.9266 - val_loss: 0.3654 - val_accuracy: 0.8976\n",
            "Epoch 163/200\n",
            "750/750 [==============================] - 2s 3ms/step - loss: 0.2047 - accuracy: 0.9247 - val_loss: 0.3556 - val_accuracy: 0.8961\n",
            "Epoch 164/200\n",
            "750/750 [==============================] - 2s 3ms/step - loss: 0.1968 - accuracy: 0.9269 - val_loss: 0.3739 - val_accuracy: 0.8969\n",
            "Epoch 165/200\n",
            "750/750 [==============================] - 2s 3ms/step - loss: 0.1985 - accuracy: 0.9262 - val_loss: 0.3801 - val_accuracy: 0.8907\n",
            "Epoch 166/200\n",
            "750/750 [==============================] - 2s 3ms/step - loss: 0.2022 - accuracy: 0.9253 - val_loss: 0.3730 - val_accuracy: 0.8962\n",
            "Epoch 167/200\n",
            "750/750 [==============================] - 2s 3ms/step - loss: 0.1939 - accuracy: 0.9271 - val_loss: 0.3814 - val_accuracy: 0.8991\n",
            "Epoch 168/200\n",
            "750/750 [==============================] - 2s 3ms/step - loss: 0.1937 - accuracy: 0.9293 - val_loss: 0.3674 - val_accuracy: 0.8938\n",
            "Epoch 169/200\n",
            "750/750 [==============================] - 2s 3ms/step - loss: 0.1936 - accuracy: 0.9281 - val_loss: 0.3971 - val_accuracy: 0.8942\n",
            "Epoch 170/200\n",
            "750/750 [==============================] - 2s 3ms/step - loss: 0.1946 - accuracy: 0.9279 - val_loss: 0.3924 - val_accuracy: 0.8981\n",
            "Epoch 171/200\n",
            "750/750 [==============================] - 2s 3ms/step - loss: 0.1963 - accuracy: 0.9281 - val_loss: 0.3707 - val_accuracy: 0.8972\n",
            "Epoch 172/200\n",
            "750/750 [==============================] - 2s 3ms/step - loss: 0.1969 - accuracy: 0.9265 - val_loss: 0.3821 - val_accuracy: 0.8949\n",
            "Epoch 173/200\n",
            "750/750 [==============================] - 2s 3ms/step - loss: 0.1994 - accuracy: 0.9268 - val_loss: 0.3700 - val_accuracy: 0.8971\n",
            "Epoch 174/200\n",
            "750/750 [==============================] - 2s 3ms/step - loss: 0.1913 - accuracy: 0.9302 - val_loss: 0.3817 - val_accuracy: 0.8975\n",
            "Epoch 175/200\n",
            "750/750 [==============================] - 2s 3ms/step - loss: 0.1965 - accuracy: 0.9282 - val_loss: 0.3784 - val_accuracy: 0.8971\n",
            "Epoch 176/200\n",
            "750/750 [==============================] - 2s 3ms/step - loss: 0.1918 - accuracy: 0.9296 - val_loss: 0.3819 - val_accuracy: 0.8930\n",
            "Epoch 177/200\n",
            "750/750 [==============================] - 2s 3ms/step - loss: 0.1923 - accuracy: 0.9275 - val_loss: 0.3770 - val_accuracy: 0.8993\n",
            "Epoch 178/200\n",
            "750/750 [==============================] - 2s 3ms/step - loss: 0.1982 - accuracy: 0.9263 - val_loss: 0.3680 - val_accuracy: 0.8963\n",
            "Epoch 179/200\n",
            "750/750 [==============================] - 2s 3ms/step - loss: 0.1983 - accuracy: 0.9273 - val_loss: 0.3748 - val_accuracy: 0.8947\n",
            "Epoch 180/200\n",
            "750/750 [==============================] - 2s 3ms/step - loss: 0.1879 - accuracy: 0.9301 - val_loss: 0.4047 - val_accuracy: 0.8982\n",
            "Epoch 181/200\n",
            "750/750 [==============================] - 2s 3ms/step - loss: 0.1959 - accuracy: 0.9285 - val_loss: 0.3931 - val_accuracy: 0.8971\n",
            "Epoch 182/200\n",
            "750/750 [==============================] - 2s 3ms/step - loss: 0.1915 - accuracy: 0.9281 - val_loss: 0.3980 - val_accuracy: 0.8953\n",
            "Epoch 183/200\n",
            "750/750 [==============================] - 2s 3ms/step - loss: 0.1947 - accuracy: 0.9291 - val_loss: 0.3840 - val_accuracy: 0.8964\n",
            "Epoch 184/200\n",
            "750/750 [==============================] - 2s 3ms/step - loss: 0.1918 - accuracy: 0.9294 - val_loss: 0.3837 - val_accuracy: 0.8933\n",
            "Epoch 185/200\n",
            "750/750 [==============================] - 2s 3ms/step - loss: 0.1918 - accuracy: 0.9298 - val_loss: 0.3711 - val_accuracy: 0.8947\n",
            "Epoch 186/200\n",
            "750/750 [==============================] - 2s 3ms/step - loss: 0.1913 - accuracy: 0.9297 - val_loss: 0.3931 - val_accuracy: 0.8942\n",
            "Epoch 187/200\n",
            "750/750 [==============================] - 2s 3ms/step - loss: 0.1960 - accuracy: 0.9275 - val_loss: 0.3994 - val_accuracy: 0.8957\n",
            "Epoch 188/200\n",
            "750/750 [==============================] - 2s 3ms/step - loss: 0.1872 - accuracy: 0.9311 - val_loss: 0.3961 - val_accuracy: 0.8943\n",
            "Epoch 189/200\n",
            "750/750 [==============================] - 2s 3ms/step - loss: 0.1835 - accuracy: 0.9320 - val_loss: 0.3951 - val_accuracy: 0.8917\n",
            "Epoch 190/200\n",
            "750/750 [==============================] - 2s 3ms/step - loss: 0.1937 - accuracy: 0.9297 - val_loss: 0.3957 - val_accuracy: 0.8964\n",
            "Epoch 191/200\n",
            "750/750 [==============================] - 2s 3ms/step - loss: 0.1861 - accuracy: 0.9301 - val_loss: 0.3937 - val_accuracy: 0.8953\n",
            "Epoch 192/200\n",
            "750/750 [==============================] - 2s 3ms/step - loss: 0.1870 - accuracy: 0.9307 - val_loss: 0.4078 - val_accuracy: 0.8954\n",
            "Epoch 193/200\n",
            "750/750 [==============================] - 2s 3ms/step - loss: 0.1875 - accuracy: 0.9297 - val_loss: 0.3847 - val_accuracy: 0.8997\n",
            "Epoch 194/200\n",
            "750/750 [==============================] - 2s 3ms/step - loss: 0.1927 - accuracy: 0.9304 - val_loss: 0.3833 - val_accuracy: 0.8956\n",
            "Epoch 195/200\n",
            "750/750 [==============================] - 2s 3ms/step - loss: 0.1862 - accuracy: 0.9299 - val_loss: 0.3871 - val_accuracy: 0.8982\n",
            "Epoch 196/200\n",
            "750/750 [==============================] - 2s 3ms/step - loss: 0.1825 - accuracy: 0.9321 - val_loss: 0.4172 - val_accuracy: 0.8936\n",
            "Epoch 197/200\n",
            "750/750 [==============================] - 2s 3ms/step - loss: 0.1889 - accuracy: 0.9296 - val_loss: 0.4082 - val_accuracy: 0.8979\n",
            "Epoch 198/200\n",
            "750/750 [==============================] - 2s 3ms/step - loss: 0.1855 - accuracy: 0.9323 - val_loss: 0.4003 - val_accuracy: 0.8957\n",
            "Epoch 199/200\n",
            "750/750 [==============================] - 2s 3ms/step - loss: 0.1868 - accuracy: 0.9309 - val_loss: 0.3985 - val_accuracy: 0.8986\n",
            "Epoch 200/200\n",
            "750/750 [==============================] - 2s 3ms/step - loss: 0.1866 - accuracy: 0.9318 - val_loss: 0.4207 - val_accuracy: 0.8944\n"
          ]
        }
      ]
    },
    {
      "cell_type": "code",
      "metadata": {
        "colab": {
          "base_uri": "https://localhost:8080/"
        },
        "id": "3AmM208NPbyP",
        "outputId": "e3394e82-cb80-4789-f976-141feedcaa8c"
      },
      "source": [
        "# Checking model summary\n",
        "model_8.summary()"
      ],
      "execution_count": null,
      "outputs": [
        {
          "output_type": "stream",
          "name": "stdout",
          "text": [
            "Model: \"mlp8\"\n",
            "_________________________________________________________________\n",
            "Layer (type)                 Output Shape              Param #   \n",
            "=================================================================\n",
            "dense_layer1 (Dense)         (None, 392)               307720    \n",
            "_________________________________________________________________\n",
            "dropout_layer1 (Dropout)     (None, 392)               0         \n",
            "_________________________________________________________________\n",
            "dense_layer2 (Dense)         (None, 196)               77028     \n",
            "_________________________________________________________________\n",
            "dropout_layer2 (Dropout)     (None, 196)               0         \n",
            "_________________________________________________________________\n",
            "dense_layer3 (Dense)         (None, 10)                1970      \n",
            "=================================================================\n",
            "Total params: 386,718\n",
            "Trainable params: 386,718\n",
            "Non-trainable params: 0\n",
            "_________________________________________________________________\n"
          ]
        }
      ]
    },
    {
      "cell_type": "code",
      "metadata": {
        "colab": {
          "base_uri": "https://localhost:8080/"
        },
        "id": "Fe2_ADmMB0ol",
        "outputId": "2978849c-cf62-457c-e2be-858a7c182e1a"
      },
      "source": [
        "# Evaluating the model on test dataset\n",
        "model_8.evaluate(X_test_norm, y_test_cat, batch_size= 64)"
      ],
      "execution_count": null,
      "outputs": [
        {
          "output_type": "stream",
          "name": "stdout",
          "text": [
            "157/157 [==============================] - 0s 2ms/step - loss: 0.4714 - accuracy: 0.8908\n"
          ]
        },
        {
          "output_type": "execute_result",
          "data": {
            "text/plain": [
              "[0.4713849127292633, 0.8907999992370605]"
            ]
          },
          "metadata": {},
          "execution_count": 51
        }
      ]
    },
    {
      "cell_type": "markdown",
      "metadata": {
        "id": "oMUTzS8NPh5T"
      },
      "source": [
        "After increasing epochs there is not much improvement in validation and testing accuracy but training accuracy has been increased. Also testing loss is higher than our previous model. So, it seems the model is gradually overfitting. So, we'll use model_7 as our final model."
      ]
    },
    {
      "cell_type": "markdown",
      "metadata": {
        "id": "TvTS5g2ntAnq"
      },
      "source": [
        "## Final model details"
      ]
    },
    {
      "cell_type": "markdown",
      "metadata": {
        "id": "nzllgHko3FSO"
      },
      "source": [
        "Model 8 is giving better result and next it can be seen that with increase in number of epochs, started to overfit the model. So, model 8 is our final model with testing accuracy of .89"
      ]
    },
    {
      "cell_type": "code",
      "metadata": {
        "colab": {
          "base_uri": "https://localhost:8080/"
        },
        "id": "CdCqzMXPs2LS",
        "outputId": "7ba73770-c749-4473-b532-80ccf9ba4cc1"
      },
      "source": [
        "# Evaluating the model on test dataset\n",
        "model_7.evaluate(X_test_norm, y_test_cat)"
      ],
      "execution_count": null,
      "outputs": [
        {
          "output_type": "stream",
          "name": "stdout",
          "text": [
            "313/313 [==============================] - 1s 2ms/step - loss: 0.3709 - accuracy: 0.8900\n"
          ]
        },
        {
          "output_type": "execute_result",
          "data": {
            "text/plain": [
              "[0.3709065616130829, 0.8899999856948853]"
            ]
          },
          "metadata": {},
          "execution_count": 52
        }
      ]
    },
    {
      "cell_type": "code",
      "metadata": {
        "id": "kx7B2wGF_Pm1",
        "colab": {
          "base_uri": "https://localhost:8080/",
          "height": 350
        },
        "outputId": "7456ad80-8391-41a5-d67f-baa4461287bb"
      },
      "source": [
        "# Plotting accuracy for different epochs\n",
        "plt.figure(figsize= [8,5])\n",
        "plt.plot(history_7.history['accuracy'])\n",
        "plt.plot(history_7.history['val_accuracy'])\n",
        "plt.title('Plot for model accuracy')\n",
        "plt.ylabel('Accuracy')\n",
        "plt.xlabel('Epoch')\n",
        "plt.legend(['Train', 'Validation'], loc='lower right')\n",
        "plt.show()"
      ],
      "execution_count": null,
      "outputs": [
        {
          "output_type": "display_data",
          "data": {
            "image/png": "[encoded data removed]",
            "text/plain": [
              "<Figure size 576x360 with 1 Axes>"
            ]
          },
          "metadata": {
            "needs_background": "light"
          }
        }
      ]
    },
    {
      "cell_type": "code",
      "metadata": {
        "id": "1a-r1uUlAKJd",
        "colab": {
          "base_uri": "https://localhost:8080/",
          "height": 350
        },
        "outputId": "08857a21-b7bf-4273-ca98-fb74b2fe6418"
      },
      "source": [
        "# Plotting loss for different epochs\n",
        "plt.figure(figsize= [8,5])\n",
        "plt.plot(history_7.history['loss'])\n",
        "plt.plot(history_7.history['val_loss'])\n",
        "plt.title('Plot for model loss')\n",
        "plt.ylabel('Loss')\n",
        "plt.xlabel('Epoch')\n",
        "plt.legend(['Train', 'Validation'], loc='lower right')\n",
        "plt.show()"
      ],
      "execution_count": null,
      "outputs": [
        {
          "output_type": "display_data",
          "data": {
            "image/png": "[encoded data removed]",
            "text/plain": [
              "<Figure size 576x360 with 1 Axes>"
            ]
          },
          "metadata": {
            "needs_background": "light"
          }
        }
      ]
    },
    {
      "cell_type": "code",
      "metadata": {
        "id": "eib7GeoG4-nB",
        "colab": {
          "base_uri": "https://localhost:8080/"
        },
        "outputId": "18a8f730-611f-45b3-9286-b6ab345c1f59"
      },
      "source": [
        "# Final model parameters\n",
        "model_7.get_config()"
      ],
      "execution_count": null,
      "outputs": [
        {
          "output_type": "execute_result",
          "data": {
            "text/plain": [
              "{'layers': [{'class_name': 'InputLayer',\n",
              "   'config': {'batch_input_shape': (None, 784),\n",
              "    'dtype': 'float32',\n",
              "    'name': 'dense_layer1_input',\n",
              "    'ragged': False,\n",
              "    'sparse': False}},\n",
              "  {'class_name': 'Dense',\n",
              "   'config': {'activation': 'relu',\n",
              "    'activity_regularizer': None,\n",
              "    'batch_input_shape': (None, 784),\n",
              "    'bias_constraint': None,\n",
              "    'bias_initializer': {'class_name': 'Zeros', 'config': {}},\n",
              "    'bias_regularizer': None,\n",
              "    'dtype': 'float32',\n",
              "    'kernel_constraint': None,\n",
              "    'kernel_initializer': {'class_name': 'HeNormal', 'config': {'seed': None}},\n",
              "    'kernel_regularizer': None,\n",
              "    'name': 'dense_layer1',\n",
              "    'trainable': True,\n",
              "    'units': 392,\n",
              "    'use_bias': True}},\n",
              "  {'class_name': 'Dropout',\n",
              "   'config': {'dtype': 'float32',\n",
              "    'name': 'dropout_layer1',\n",
              "    'noise_shape': None,\n",
              "    'rate': 0.5,\n",
              "    'seed': None,\n",
              "    'trainable': True}},\n",
              "  {'class_name': 'Dense',\n",
              "   'config': {'activation': 'relu',\n",
              "    'activity_regularizer': None,\n",
              "    'bias_constraint': None,\n",
              "    'bias_initializer': {'class_name': 'Zeros', 'config': {}},\n",
              "    'bias_regularizer': None,\n",
              "    'dtype': 'float32',\n",
              "    'kernel_constraint': None,\n",
              "    'kernel_initializer': {'class_name': 'HeNormal', 'config': {'seed': None}},\n",
              "    'kernel_regularizer': None,\n",
              "    'name': 'dense_layer2',\n",
              "    'trainable': True,\n",
              "    'units': 196,\n",
              "    'use_bias': True}},\n",
              "  {'class_name': 'Dropout',\n",
              "   'config': {'dtype': 'float32',\n",
              "    'name': 'dropout_layer2',\n",
              "    'noise_shape': None,\n",
              "    'rate': 0.5,\n",
              "    'seed': None,\n",
              "    'trainable': True}},\n",
              "  {'class_name': 'Dense',\n",
              "   'config': {'activation': 'softmax',\n",
              "    'activity_regularizer': None,\n",
              "    'bias_constraint': None,\n",
              "    'bias_initializer': {'class_name': 'Zeros', 'config': {}},\n",
              "    'bias_regularizer': None,\n",
              "    'dtype': 'float32',\n",
              "    'kernel_constraint': None,\n",
              "    'kernel_initializer': {'class_name': 'GlorotUniform',\n",
              "     'config': {'seed': None}},\n",
              "    'kernel_regularizer': None,\n",
              "    'name': 'dense_layer3',\n",
              "    'trainable': True,\n",
              "    'units': 10,\n",
              "    'use_bias': True}}],\n",
              " 'name': 'mlp7'}"
            ]
          },
          "metadata": {},
          "execution_count": 56
        }
      ]
    },
    {
      "cell_type": "code",
      "metadata": {
        "id": "uSkrvmpWtWqQ"
      },
      "source": [
        ""
      ],
      "execution_count": null,
      "outputs": []
    }
  ]
}